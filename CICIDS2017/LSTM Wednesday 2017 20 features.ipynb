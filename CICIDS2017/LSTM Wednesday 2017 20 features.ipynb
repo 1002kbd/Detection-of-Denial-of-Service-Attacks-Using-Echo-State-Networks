{
 "cells": [
  {
   "cell_type": "code",
   "execution_count": 1,
   "metadata": {},
   "outputs": [],
   "source": [
    " import tensorflow as tf\n",
    "import pandas as pd\n",
    "import numpy as np\n",
    "import sklearn\n",
    "import matplotlib.pyplot as plt\n",
    "from sklearn.model_selection import train_test_split\n",
    "from sklearn import preprocessing"
   ]
  },
  {
   "cell_type": "code",
   "execution_count": 2,
   "metadata": {},
   "outputs": [],
   "source": [
    "def plot_graphs(history, string):\n",
    "    plt.plot(history.history[string])\n",
    "    # plt.plot(history.history['val_'+string], '')\n",
    "    plt.xlabel(\"Epochs\")\n",
    "    plt.ylabel(string)\n",
    "    # plt.legend([string, 'val_'+string])\n",
    "    plt.show()"
   ]
  },
  {
   "cell_type": "code",
   "execution_count": 3,
   "metadata": {},
   "outputs": [
    {
     "name": "stderr",
     "output_type": "stream",
     "text": [
      "C:\\Users\\kdagi\\Anaconda3\\lib\\site-packages\\IPython\\core\\interactiveshell.py:3058: DtypeWarning: Columns (21) have mixed types. Specify dtype option on import or set low_memory=False.\n",
      "  interactivity=interactivity, compiler=compiler, result=result)\n"
     ]
    },
    {
     "data": {
      "text/html": [
       "<div>\n",
       "<style scoped>\n",
       "    .dataframe tbody tr th:only-of-type {\n",
       "        vertical-align: middle;\n",
       "    }\n",
       "\n",
       "    .dataframe tbody tr th {\n",
       "        vertical-align: top;\n",
       "    }\n",
       "\n",
       "    .dataframe thead th {\n",
       "        text-align: right;\n",
       "    }\n",
       "</style>\n",
       "<table border=\"1\" class=\"dataframe\">\n",
       "  <thead>\n",
       "    <tr style=\"text-align: right;\">\n",
       "      <th></th>\n",
       "      <th>Unnamed: 0</th>\n",
       "      <th>Flow ID</th>\n",
       "      <th>Source IP</th>\n",
       "      <th>Source Port</th>\n",
       "      <th>Destination IP</th>\n",
       "      <th>Destination Port</th>\n",
       "      <th>Protocol</th>\n",
       "      <th>Timestamp</th>\n",
       "      <th>Flow Duration</th>\n",
       "      <th>Total Fwd Packets</th>\n",
       "      <th>...</th>\n",
       "      <th>Active Mean</th>\n",
       "      <th>Active Std</th>\n",
       "      <th>Active Max</th>\n",
       "      <th>Active Min</th>\n",
       "      <th>Idle Mean</th>\n",
       "      <th>Idle Std</th>\n",
       "      <th>Idle Max</th>\n",
       "      <th>Idle Min</th>\n",
       "      <th>Label</th>\n",
       "      <th>target</th>\n",
       "    </tr>\n",
       "  </thead>\n",
       "  <tbody>\n",
       "    <tr>\n",
       "      <td>0</td>\n",
       "      <td>486607</td>\n",
       "      <td>192.168.10.3-192.168.10.14-53-53558-17</td>\n",
       "      <td>192.168.10.14</td>\n",
       "      <td>53558</td>\n",
       "      <td>192.168.10.3</td>\n",
       "      <td>53</td>\n",
       "      <td>17</td>\n",
       "      <td>5/7/2017 3:10</td>\n",
       "      <td>48246</td>\n",
       "      <td>2</td>\n",
       "      <td>...</td>\n",
       "      <td>0.0</td>\n",
       "      <td>0.00000</td>\n",
       "      <td>0.0</td>\n",
       "      <td>0.0</td>\n",
       "      <td>0.000000e+00</td>\n",
       "      <td>0.00000</td>\n",
       "      <td>0.0</td>\n",
       "      <td>0.0</td>\n",
       "      <td>BENIGN</td>\n",
       "      <td>0</td>\n",
       "    </tr>\n",
       "    <tr>\n",
       "      <td>1</td>\n",
       "      <td>63680</td>\n",
       "      <td>192.168.10.14-23.21.72.218-51518-443-6</td>\n",
       "      <td>192.168.10.14</td>\n",
       "      <td>51518</td>\n",
       "      <td>23.21.72.218</td>\n",
       "      <td>443</td>\n",
       "      <td>6</td>\n",
       "      <td>5/7/2017 10:36</td>\n",
       "      <td>60337508</td>\n",
       "      <td>12</td>\n",
       "      <td>...</td>\n",
       "      <td>73007.0</td>\n",
       "      <td>54735.42036</td>\n",
       "      <td>184735.0</td>\n",
       "      <td>50540.0</td>\n",
       "      <td>9.983217e+06</td>\n",
       "      <td>30901.22027</td>\n",
       "      <td>10000000.0</td>\n",
       "      <td>9923615.0</td>\n",
       "      <td>BENIGN</td>\n",
       "      <td>0</td>\n",
       "    </tr>\n",
       "    <tr>\n",
       "      <td>2</td>\n",
       "      <td>290590</td>\n",
       "      <td>172.16.0.1-192.168.10.50-42900-80-6</td>\n",
       "      <td>172.16.0.1</td>\n",
       "      <td>42900</td>\n",
       "      <td>192.168.10.50</td>\n",
       "      <td>80</td>\n",
       "      <td>6</td>\n",
       "      <td>5/7/2017 10:58</td>\n",
       "      <td>100790813</td>\n",
       "      <td>5</td>\n",
       "      <td>...</td>\n",
       "      <td>9998.0</td>\n",
       "      <td>0.00000</td>\n",
       "      <td>9998.0</td>\n",
       "      <td>9998.0</td>\n",
       "      <td>1.010000e+08</td>\n",
       "      <td>0.00000</td>\n",
       "      <td>101000000.0</td>\n",
       "      <td>101000000.0</td>\n",
       "      <td>DoS Hulk</td>\n",
       "      <td>1</td>\n",
       "    </tr>\n",
       "    <tr>\n",
       "      <td>3</td>\n",
       "      <td>589281</td>\n",
       "      <td>151.101.208.207-192.168.10.16-443-42038-6</td>\n",
       "      <td>192.168.10.16</td>\n",
       "      <td>42038</td>\n",
       "      <td>151.101.208.207</td>\n",
       "      <td>443</td>\n",
       "      <td>6</td>\n",
       "      <td>5/7/2017 9:31</td>\n",
       "      <td>3</td>\n",
       "      <td>2</td>\n",
       "      <td>...</td>\n",
       "      <td>0.0</td>\n",
       "      <td>0.00000</td>\n",
       "      <td>0.0</td>\n",
       "      <td>0.0</td>\n",
       "      <td>0.000000e+00</td>\n",
       "      <td>0.00000</td>\n",
       "      <td>0.0</td>\n",
       "      <td>0.0</td>\n",
       "      <td>BENIGN</td>\n",
       "      <td>0</td>\n",
       "    </tr>\n",
       "    <tr>\n",
       "      <td>4</td>\n",
       "      <td>188930</td>\n",
       "      <td>172.16.0.1-192.168.10.50-47886-80-6</td>\n",
       "      <td>172.16.0.1</td>\n",
       "      <td>47886</td>\n",
       "      <td>192.168.10.50</td>\n",
       "      <td>80</td>\n",
       "      <td>6</td>\n",
       "      <td>5/7/2017 10:50</td>\n",
       "      <td>3</td>\n",
       "      <td>2</td>\n",
       "      <td>...</td>\n",
       "      <td>0.0</td>\n",
       "      <td>0.00000</td>\n",
       "      <td>0.0</td>\n",
       "      <td>0.0</td>\n",
       "      <td>0.000000e+00</td>\n",
       "      <td>0.00000</td>\n",
       "      <td>0.0</td>\n",
       "      <td>0.0</td>\n",
       "      <td>DoS Hulk</td>\n",
       "      <td>1</td>\n",
       "    </tr>\n",
       "  </tbody>\n",
       "</table>\n",
       "<p>5 rows × 87 columns</p>\n",
       "</div>"
      ],
      "text/plain": [
       "   Unnamed: 0                                    Flow ID      Source IP  \\\n",
       "0      486607     192.168.10.3-192.168.10.14-53-53558-17  192.168.10.14   \n",
       "1       63680     192.168.10.14-23.21.72.218-51518-443-6  192.168.10.14   \n",
       "2      290590        172.16.0.1-192.168.10.50-42900-80-6     172.16.0.1   \n",
       "3      589281  151.101.208.207-192.168.10.16-443-42038-6  192.168.10.16   \n",
       "4      188930        172.16.0.1-192.168.10.50-47886-80-6     172.16.0.1   \n",
       "\n",
       "    Source Port   Destination IP   Destination Port   Protocol  \\\n",
       "0         53558     192.168.10.3                 53         17   \n",
       "1         51518     23.21.72.218                443          6   \n",
       "2         42900    192.168.10.50                 80          6   \n",
       "3         42038  151.101.208.207                443          6   \n",
       "4         47886    192.168.10.50                 80          6   \n",
       "\n",
       "        Timestamp   Flow Duration   Total Fwd Packets  ...  Active Mean  \\\n",
       "0   5/7/2017 3:10           48246                   2  ...          0.0   \n",
       "1  5/7/2017 10:36        60337508                  12  ...      73007.0   \n",
       "2  5/7/2017 10:58       100790813                   5  ...       9998.0   \n",
       "3   5/7/2017 9:31               3                   2  ...          0.0   \n",
       "4  5/7/2017 10:50               3                   2  ...          0.0   \n",
       "\n",
       "    Active Std   Active Max   Active Min     Idle Mean     Idle Std  \\\n",
       "0      0.00000          0.0          0.0  0.000000e+00      0.00000   \n",
       "1  54735.42036     184735.0      50540.0  9.983217e+06  30901.22027   \n",
       "2      0.00000       9998.0       9998.0  1.010000e+08      0.00000   \n",
       "3      0.00000          0.0          0.0  0.000000e+00      0.00000   \n",
       "4      0.00000          0.0          0.0  0.000000e+00      0.00000   \n",
       "\n",
       "      Idle Max     Idle Min     Label  target  \n",
       "0          0.0          0.0    BENIGN       0  \n",
       "1   10000000.0    9923615.0    BENIGN       0  \n",
       "2  101000000.0  101000000.0  DoS Hulk       1  \n",
       "3          0.0          0.0    BENIGN       0  \n",
       "4          0.0          0.0  DoS Hulk       1  \n",
       "\n",
       "[5 rows x 87 columns]"
      ]
     },
     "execution_count": 3,
     "metadata": {},
     "output_type": "execute_result"
    }
   ],
   "source": [
    "df = pd.read_csv('oversampled_CICIDS2017_Wed.csv')\n",
    "df.head()"
   ]
  },
  {
   "cell_type": "code",
   "execution_count": 7,
   "metadata": {},
   "outputs": [
    {
     "data": {
      "text/html": [
       "<div>\n",
       "<style scoped>\n",
       "    .dataframe tbody tr th:only-of-type {\n",
       "        vertical-align: middle;\n",
       "    }\n",
       "\n",
       "    .dataframe tbody tr th {\n",
       "        vertical-align: top;\n",
       "    }\n",
       "\n",
       "    .dataframe thead th {\n",
       "        text-align: right;\n",
       "    }\n",
       "</style>\n",
       "<table border=\"1\" class=\"dataframe\">\n",
       "  <thead>\n",
       "    <tr style=\"text-align: right;\">\n",
       "      <th></th>\n",
       "      <th>Unnamed: 0</th>\n",
       "      <th>Flow ID</th>\n",
       "      <th>Source IP</th>\n",
       "      <th>Source Port</th>\n",
       "      <th>Destination IP</th>\n",
       "      <th>Destination Port</th>\n",
       "      <th>Protocol</th>\n",
       "      <th>Timestamp</th>\n",
       "      <th>Flow Duration</th>\n",
       "      <th>Total Fwd Packets</th>\n",
       "      <th>...</th>\n",
       "      <th>Active Min</th>\n",
       "      <th>Idle Mean</th>\n",
       "      <th>Idle Std</th>\n",
       "      <th>Idle Max</th>\n",
       "      <th>Idle Min</th>\n",
       "      <th>Label</th>\n",
       "      <th>target</th>\n",
       "      <th>BiFlowsCount_x</th>\n",
       "      <th>BiFlowsCount_y</th>\n",
       "      <th>BiFlowsCount</th>\n",
       "    </tr>\n",
       "  </thead>\n",
       "  <tbody>\n",
       "    <tr>\n",
       "      <td>0</td>\n",
       "      <td>486607</td>\n",
       "      <td>192.168.10.3-192.168.10.14-53-53558-17</td>\n",
       "      <td>192.168.10.14</td>\n",
       "      <td>53558</td>\n",
       "      <td>192.168.10.3</td>\n",
       "      <td>53</td>\n",
       "      <td>17</td>\n",
       "      <td>5/7/2017 3:10</td>\n",
       "      <td>48246</td>\n",
       "      <td>2</td>\n",
       "      <td>...</td>\n",
       "      <td>0.0</td>\n",
       "      <td>0.0</td>\n",
       "      <td>0.000</td>\n",
       "      <td>0.0</td>\n",
       "      <td>0.0</td>\n",
       "      <td>BENIGN</td>\n",
       "      <td>0</td>\n",
       "      <td>3042</td>\n",
       "      <td>3042</td>\n",
       "      <td>3042</td>\n",
       "    </tr>\n",
       "    <tr>\n",
       "      <td>1</td>\n",
       "      <td>450780</td>\n",
       "      <td>149.56.241.113-192.168.10.5-443-55081-6</td>\n",
       "      <td>192.168.10.5</td>\n",
       "      <td>55081</td>\n",
       "      <td>149.56.241.113</td>\n",
       "      <td>443</td>\n",
       "      <td>6</td>\n",
       "      <td>5/7/2017 3:10</td>\n",
       "      <td>63318690</td>\n",
       "      <td>42</td>\n",
       "      <td>...</td>\n",
       "      <td>66069.0</td>\n",
       "      <td>6950374.0</td>\n",
       "      <td>1911561.654</td>\n",
       "      <td>10000000.0</td>\n",
       "      <td>5110560.0</td>\n",
       "      <td>BENIGN</td>\n",
       "      <td>0</td>\n",
       "      <td>3042</td>\n",
       "      <td>3042</td>\n",
       "      <td>3042</td>\n",
       "    </tr>\n",
       "    <tr>\n",
       "      <td>2</td>\n",
       "      <td>448060</td>\n",
       "      <td>192.168.10.8-192.28.146.84-60483-443-6</td>\n",
       "      <td>192.168.10.8</td>\n",
       "      <td>60483</td>\n",
       "      <td>192.28.146.84</td>\n",
       "      <td>443</td>\n",
       "      <td>6</td>\n",
       "      <td>5/7/2017 3:10</td>\n",
       "      <td>284</td>\n",
       "      <td>3</td>\n",
       "      <td>...</td>\n",
       "      <td>0.0</td>\n",
       "      <td>0.0</td>\n",
       "      <td>0.000</td>\n",
       "      <td>0.0</td>\n",
       "      <td>0.0</td>\n",
       "      <td>BENIGN</td>\n",
       "      <td>0</td>\n",
       "      <td>3042</td>\n",
       "      <td>3042</td>\n",
       "      <td>3042</td>\n",
       "    </tr>\n",
       "    <tr>\n",
       "      <td>3</td>\n",
       "      <td>610827</td>\n",
       "      <td>162.208.20.178-192.168.10.5-443-55058-6</td>\n",
       "      <td>192.168.10.5</td>\n",
       "      <td>55058</td>\n",
       "      <td>162.208.20.178</td>\n",
       "      <td>443</td>\n",
       "      <td>6</td>\n",
       "      <td>5/7/2017 3:10</td>\n",
       "      <td>6931</td>\n",
       "      <td>1</td>\n",
       "      <td>...</td>\n",
       "      <td>0.0</td>\n",
       "      <td>0.0</td>\n",
       "      <td>0.000</td>\n",
       "      <td>0.0</td>\n",
       "      <td>0.0</td>\n",
       "      <td>BENIGN</td>\n",
       "      <td>0</td>\n",
       "      <td>3042</td>\n",
       "      <td>3042</td>\n",
       "      <td>3042</td>\n",
       "    </tr>\n",
       "    <tr>\n",
       "      <td>4</td>\n",
       "      <td>632511</td>\n",
       "      <td>192.168.10.3-192.168.10.51-53-25630-17</td>\n",
       "      <td>192.168.10.51</td>\n",
       "      <td>25630</td>\n",
       "      <td>192.168.10.3</td>\n",
       "      <td>53</td>\n",
       "      <td>17</td>\n",
       "      <td>5/7/2017 3:10</td>\n",
       "      <td>180</td>\n",
       "      <td>2</td>\n",
       "      <td>...</td>\n",
       "      <td>0.0</td>\n",
       "      <td>0.0</td>\n",
       "      <td>0.000</td>\n",
       "      <td>0.0</td>\n",
       "      <td>0.0</td>\n",
       "      <td>BENIGN</td>\n",
       "      <td>0</td>\n",
       "      <td>3042</td>\n",
       "      <td>3042</td>\n",
       "      <td>3042</td>\n",
       "    </tr>\n",
       "    <tr>\n",
       "      <td>...</td>\n",
       "      <td>...</td>\n",
       "      <td>...</td>\n",
       "      <td>...</td>\n",
       "      <td>...</td>\n",
       "      <td>...</td>\n",
       "      <td>...</td>\n",
       "      <td>...</td>\n",
       "      <td>...</td>\n",
       "      <td>...</td>\n",
       "      <td>...</td>\n",
       "      <td>...</td>\n",
       "      <td>...</td>\n",
       "      <td>...</td>\n",
       "      <td>...</td>\n",
       "      <td>...</td>\n",
       "      <td>...</td>\n",
       "      <td>...</td>\n",
       "      <td>...</td>\n",
       "      <td>...</td>\n",
       "      <td>...</td>\n",
       "      <td>...</td>\n",
       "    </tr>\n",
       "    <tr>\n",
       "      <td>799995</td>\n",
       "      <td>571845</td>\n",
       "      <td>192.168.10.3-40.70.221.249-56540-443-6</td>\n",
       "      <td>40.70.221.249</td>\n",
       "      <td>443</td>\n",
       "      <td>192.168.10.3</td>\n",
       "      <td>56540</td>\n",
       "      <td>6</td>\n",
       "      <td>5/7/2017 5:08</td>\n",
       "      <td>43</td>\n",
       "      <td>1</td>\n",
       "      <td>...</td>\n",
       "      <td>0.0</td>\n",
       "      <td>0.0</td>\n",
       "      <td>0.000</td>\n",
       "      <td>0.0</td>\n",
       "      <td>0.0</td>\n",
       "      <td>BENIGN</td>\n",
       "      <td>0</td>\n",
       "      <td>29</td>\n",
       "      <td>29</td>\n",
       "      <td>29</td>\n",
       "    </tr>\n",
       "    <tr>\n",
       "      <td>799996</td>\n",
       "      <td>664632</td>\n",
       "      <td>192.168.10.14-40.70.221.249-58668-443-6</td>\n",
       "      <td>40.70.221.249</td>\n",
       "      <td>443</td>\n",
       "      <td>192.168.10.14</td>\n",
       "      <td>58668</td>\n",
       "      <td>6</td>\n",
       "      <td>5/7/2017 5:08</td>\n",
       "      <td>10</td>\n",
       "      <td>1</td>\n",
       "      <td>...</td>\n",
       "      <td>0.0</td>\n",
       "      <td>0.0</td>\n",
       "      <td>0.000</td>\n",
       "      <td>0.0</td>\n",
       "      <td>0.0</td>\n",
       "      <td>BENIGN</td>\n",
       "      <td>0</td>\n",
       "      <td>29</td>\n",
       "      <td>29</td>\n",
       "      <td>29</td>\n",
       "    </tr>\n",
       "    <tr>\n",
       "      <td>799997</td>\n",
       "      <td>515236</td>\n",
       "      <td>192.168.10.15-209.48.71.129-58122-80-6</td>\n",
       "      <td>209.48.71.129</td>\n",
       "      <td>80</td>\n",
       "      <td>192.168.10.15</td>\n",
       "      <td>58122</td>\n",
       "      <td>6</td>\n",
       "      <td>5/7/2017 5:08</td>\n",
       "      <td>1</td>\n",
       "      <td>2</td>\n",
       "      <td>...</td>\n",
       "      <td>0.0</td>\n",
       "      <td>0.0</td>\n",
       "      <td>0.000</td>\n",
       "      <td>0.0</td>\n",
       "      <td>0.0</td>\n",
       "      <td>BENIGN</td>\n",
       "      <td>0</td>\n",
       "      <td>29</td>\n",
       "      <td>29</td>\n",
       "      <td>29</td>\n",
       "    </tr>\n",
       "    <tr>\n",
       "      <td>799998</td>\n",
       "      <td>528475</td>\n",
       "      <td>192.168.10.3-192.168.10.50-53-65345-17</td>\n",
       "      <td>192.168.10.50</td>\n",
       "      <td>65345</td>\n",
       "      <td>192.168.10.3</td>\n",
       "      <td>53</td>\n",
       "      <td>17</td>\n",
       "      <td>5/7/2017 5:08</td>\n",
       "      <td>200</td>\n",
       "      <td>2</td>\n",
       "      <td>...</td>\n",
       "      <td>0.0</td>\n",
       "      <td>0.0</td>\n",
       "      <td>0.000</td>\n",
       "      <td>0.0</td>\n",
       "      <td>0.0</td>\n",
       "      <td>BENIGN</td>\n",
       "      <td>0</td>\n",
       "      <td>29</td>\n",
       "      <td>29</td>\n",
       "      <td>29</td>\n",
       "    </tr>\n",
       "    <tr>\n",
       "      <td>799999</td>\n",
       "      <td>529609</td>\n",
       "      <td>192.168.10.3-192.168.10.14-445-58669-6</td>\n",
       "      <td>192.168.10.14</td>\n",
       "      <td>58669</td>\n",
       "      <td>192.168.10.3</td>\n",
       "      <td>445</td>\n",
       "      <td>6</td>\n",
       "      <td>5/7/2017 5:10</td>\n",
       "      <td>3557</td>\n",
       "      <td>19</td>\n",
       "      <td>...</td>\n",
       "      <td>0.0</td>\n",
       "      <td>0.0</td>\n",
       "      <td>0.000</td>\n",
       "      <td>0.0</td>\n",
       "      <td>0.0</td>\n",
       "      <td>BENIGN</td>\n",
       "      <td>0</td>\n",
       "      <td>1</td>\n",
       "      <td>1</td>\n",
       "      <td>1</td>\n",
       "    </tr>\n",
       "  </tbody>\n",
       "</table>\n",
       "<p>800000 rows × 90 columns</p>\n",
       "</div>"
      ],
      "text/plain": [
       "        Unnamed: 0                                  Flow ID      Source IP  \\\n",
       "0           486607   192.168.10.3-192.168.10.14-53-53558-17  192.168.10.14   \n",
       "1           450780  149.56.241.113-192.168.10.5-443-55081-6   192.168.10.5   \n",
       "2           448060   192.168.10.8-192.28.146.84-60483-443-6   192.168.10.8   \n",
       "3           610827  162.208.20.178-192.168.10.5-443-55058-6   192.168.10.5   \n",
       "4           632511   192.168.10.3-192.168.10.51-53-25630-17  192.168.10.51   \n",
       "...            ...                                      ...            ...   \n",
       "799995      571845   192.168.10.3-40.70.221.249-56540-443-6  40.70.221.249   \n",
       "799996      664632  192.168.10.14-40.70.221.249-58668-443-6  40.70.221.249   \n",
       "799997      515236   192.168.10.15-209.48.71.129-58122-80-6  209.48.71.129   \n",
       "799998      528475   192.168.10.3-192.168.10.50-53-65345-17  192.168.10.50   \n",
       "799999      529609   192.168.10.3-192.168.10.14-445-58669-6  192.168.10.14   \n",
       "\n",
       "         Source Port  Destination IP   Destination Port   Protocol  \\\n",
       "0              53558    192.168.10.3                 53         17   \n",
       "1              55081  149.56.241.113                443          6   \n",
       "2              60483   192.28.146.84                443          6   \n",
       "3              55058  162.208.20.178                443          6   \n",
       "4              25630    192.168.10.3                 53         17   \n",
       "...              ...             ...                ...        ...   \n",
       "799995           443    192.168.10.3              56540          6   \n",
       "799996           443   192.168.10.14              58668          6   \n",
       "799997            80   192.168.10.15              58122          6   \n",
       "799998         65345    192.168.10.3                 53         17   \n",
       "799999         58669    192.168.10.3                445          6   \n",
       "\n",
       "            Timestamp   Flow Duration   Total Fwd Packets  ...   Active Min  \\\n",
       "0       5/7/2017 3:10           48246                   2  ...          0.0   \n",
       "1       5/7/2017 3:10        63318690                  42  ...      66069.0   \n",
       "2       5/7/2017 3:10             284                   3  ...          0.0   \n",
       "3       5/7/2017 3:10            6931                   1  ...          0.0   \n",
       "4       5/7/2017 3:10             180                   2  ...          0.0   \n",
       "...               ...             ...                 ...  ...          ...   \n",
       "799995  5/7/2017 5:08              43                   1  ...          0.0   \n",
       "799996  5/7/2017 5:08              10                   1  ...          0.0   \n",
       "799997  5/7/2017 5:08               1                   2  ...          0.0   \n",
       "799998  5/7/2017 5:08             200                   2  ...          0.0   \n",
       "799999  5/7/2017 5:10            3557                  19  ...          0.0   \n",
       "\n",
       "        Idle Mean     Idle Std    Idle Max   Idle Min   Label  target  \\\n",
       "0             0.0        0.000         0.0        0.0  BENIGN       0   \n",
       "1       6950374.0  1911561.654  10000000.0  5110560.0  BENIGN       0   \n",
       "2             0.0        0.000         0.0        0.0  BENIGN       0   \n",
       "3             0.0        0.000         0.0        0.0  BENIGN       0   \n",
       "4             0.0        0.000         0.0        0.0  BENIGN       0   \n",
       "...           ...          ...         ...        ...     ...     ...   \n",
       "799995        0.0        0.000         0.0        0.0  BENIGN       0   \n",
       "799996        0.0        0.000         0.0        0.0  BENIGN       0   \n",
       "799997        0.0        0.000         0.0        0.0  BENIGN       0   \n",
       "799998        0.0        0.000         0.0        0.0  BENIGN       0   \n",
       "799999        0.0        0.000         0.0        0.0  BENIGN       0   \n",
       "\n",
       "        BiFlowsCount_x  BiFlowsCount_y  BiFlowsCount  \n",
       "0                 3042            3042          3042  \n",
       "1                 3042            3042          3042  \n",
       "2                 3042            3042          3042  \n",
       "3                 3042            3042          3042  \n",
       "4                 3042            3042          3042  \n",
       "...                ...             ...           ...  \n",
       "799995              29              29            29  \n",
       "799996              29              29            29  \n",
       "799997              29              29            29  \n",
       "799998              29              29            29  \n",
       "799999               1               1             1  \n",
       "\n",
       "[800000 rows x 90 columns]"
      ]
     },
     "execution_count": 7,
     "metadata": {},
     "output_type": "execute_result"
    }
   ],
   "source": [
    "df2 = df.groupby([' Timestamp'])[' Flow Duration'].count()\n",
    "df2 = pd.DataFrame(df2).reset_index()\n",
    "df2.columns=[' Timestamp','BiFlowsCount']\n",
    "df = df.merge(df2, left_on=' Timestamp', right_on=' Timestamp')\n",
    "#df = df.sort_values(' Timestamp')\n",
    "\n",
    "df"
   ]
  },
  {
   "cell_type": "code",
   "execution_count": 8,
   "metadata": {},
   "outputs": [
    {
     "data": {
      "text/plain": [
       "Index(['Unnamed: 0', 'Flow ID', ' Source IP', ' Source Port',\n",
       "       ' Destination IP', ' Destination Port', ' Protocol', ' Timestamp',\n",
       "       ' Flow Duration', ' Total Fwd Packets', ' Total Backward Packets',\n",
       "       'Total Length of Fwd Packets', ' Total Length of Bwd Packets',\n",
       "       ' Fwd Packet Length Max', ' Fwd Packet Length Min',\n",
       "       ' Fwd Packet Length Mean', ' Fwd Packet Length Std',\n",
       "       'Bwd Packet Length Max', ' Bwd Packet Length Min',\n",
       "       ' Bwd Packet Length Mean', ' Bwd Packet Length Std', 'Flow Bytes/s',\n",
       "       ' Flow Packets/s', ' Flow IAT Mean', ' Flow IAT Std', ' Flow IAT Max',\n",
       "       ' Flow IAT Min', 'Fwd IAT Total', ' Fwd IAT Mean', ' Fwd IAT Std',\n",
       "       ' Fwd IAT Max', ' Fwd IAT Min', 'Bwd IAT Total', ' Bwd IAT Mean',\n",
       "       ' Bwd IAT Std', ' Bwd IAT Max', ' Bwd IAT Min', 'Fwd PSH Flags',\n",
       "       ' Bwd PSH Flags', ' Fwd URG Flags', ' Bwd URG Flags',\n",
       "       ' Fwd Header Length', ' Bwd Header Length', 'Fwd Packets/s',\n",
       "       ' Bwd Packets/s', ' Min Packet Length', ' Max Packet Length',\n",
       "       ' Packet Length Mean', ' Packet Length Std', ' Packet Length Variance',\n",
       "       'FIN Flag Count', ' SYN Flag Count', ' RST Flag Count',\n",
       "       ' PSH Flag Count', ' ACK Flag Count', ' URG Flag Count',\n",
       "       ' CWE Flag Count', ' ECE Flag Count', ' Down/Up Ratio',\n",
       "       ' Average Packet Size', ' Avg Fwd Segment Size',\n",
       "       ' Avg Bwd Segment Size', ' Fwd Header Length.1', 'Fwd Avg Bytes/Bulk',\n",
       "       ' Fwd Avg Packets/Bulk', ' Fwd Avg Bulk Rate', ' Bwd Avg Bytes/Bulk',\n",
       "       ' Bwd Avg Packets/Bulk', 'Bwd Avg Bulk Rate', 'Subflow Fwd Packets',\n",
       "       ' Subflow Fwd Bytes', ' Subflow Bwd Packets', ' Subflow Bwd Bytes',\n",
       "       'Init_Win_bytes_forward', ' Init_Win_bytes_backward',\n",
       "       ' act_data_pkt_fwd', ' min_seg_size_forward', 'Active Mean',\n",
       "       ' Active Std', ' Active Max', ' Active Min', 'Idle Mean', ' Idle Std',\n",
       "       ' Idle Max', ' Idle Min', ' Label', 'target', 'BiFlowsCount_x',\n",
       "       'BiFlowsCount_y', 'BiFlowsCount'],\n",
       "      dtype='object')"
      ]
     },
     "execution_count": 8,
     "metadata": {},
     "output_type": "execute_result"
    }
   ],
   "source": [
    "df.columns"
   ]
  },
  {
   "cell_type": "code",
   "execution_count": 9,
   "metadata": {},
   "outputs": [],
   "source": [
    "del df['Unnamed: 0']\n",
    "del df['target']"
   ]
  },
  {
   "cell_type": "code",
   "execution_count": 12,
   "metadata": {},
   "outputs": [],
   "source": [
    " features = ['Flow ID', ' Source IP', ' Source Port',\n",
    "       ' Destination IP', ' Destination Port', ' Protocol', ' Timestamp',\n",
    "       ' Flow Duration', ' Total Fwd Packets', ' Total Backward Packets',\n",
    "       'Total Length of Fwd Packets', ' Total Length of Bwd Packets',\n",
    "       ' Fwd Packet Length Max', ' Fwd Packet Length Min',\n",
    "       ' Fwd Packet Length Mean', ' Fwd Packet Length Std',\n",
    "       'Bwd Packet Length Max', ' Bwd Packet Length Min',\n",
    "       ' Bwd Packet Length Mean', ' Bwd Packet Length Std', 'Flow Bytes/s',\n",
    "       ' Flow Packets/s', ' Flow IAT Mean', ' Flow IAT Std', ' Flow IAT Max',\n",
    "       ' Flow IAT Min', 'Fwd IAT Total', ' Fwd IAT Mean', ' Fwd IAT Std',\n",
    "       ' Fwd IAT Max', ' Fwd IAT Min', 'Bwd IAT Total', ' Bwd IAT Mean',\n",
    "       ' Bwd IAT Std', ' Bwd IAT Max', ' Bwd IAT Min', 'Fwd PSH Flags',\n",
    "       ' Bwd PSH Flags', ' Fwd URG Flags', ' Bwd URG Flags',\n",
    "       ' Fwd Header Length', ' Bwd Header Length', 'Fwd Packets/s',\n",
    "       ' Bwd Packets/s', ' Min Packet Length', ' Max Packet Length',\n",
    "       ' Packet Length Mean', ' Packet Length Std', ' Packet Length Variance',\n",
    "       'FIN Flag Count', ' SYN Flag Count', ' RST Flag Count',\n",
    "       ' PSH Flag Count', ' ACK Flag Count', ' URG Flag Count',\n",
    "       ' CWE Flag Count', ' ECE Flag Count', ' Down/Up Ratio',\n",
    "       ' Average Packet Size', ' Avg Fwd Segment Size',\n",
    "       ' Avg Bwd Segment Size', ' Fwd Header Length.1', 'Fwd Avg Bytes/Bulk',\n",
    "       ' Fwd Avg Packets/Bulk', ' Fwd Avg Bulk Rate', ' Bwd Avg Bytes/Bulk',\n",
    "       ' Bwd Avg Packets/Bulk', 'Bwd Avg Bulk Rate', 'Subflow Fwd Packets',\n",
    "       ' Subflow Fwd Bytes', ' Subflow Bwd Packets', ' Subflow Bwd Bytes',\n",
    "       'Init_Win_bytes_forward', ' Init_Win_bytes_backward',\n",
    "       ' act_data_pkt_fwd', ' min_seg_size_forward', 'Active Mean',\n",
    "       ' Active Std', ' Active Max', ' Active Min', 'Idle Mean', ' Idle Std',\n",
    "       ' Idle Max', ' Idle Min', 'BiFlowsCount_x',\n",
    "       'BiFlowsCount_y', 'BiFlowsCount'] "
   ]
  },
  {
   "cell_type": "code",
   "execution_count": 19,
   "metadata": {},
   "outputs": [],
   "source": [
    "fraction = 0.5\n",
    "df = df.sample(frac=fraction, replace=True, random_state=1)"
   ]
  },
  {
   "cell_type": "code",
   "execution_count": 20,
   "metadata": {},
   "outputs": [],
   "source": [
    "def targetify(s):\n",
    "    if s == 'BENIGN':\n",
    "        return 0\n",
    "    else:\n",
    "        return 1"
   ]
  },
  {
   "cell_type": "code",
   "execution_count": 21,
   "metadata": {},
   "outputs": [],
   "source": [
    "df['Target']=df[' Label'].apply(targetify)"
   ]
  },
  {
   "cell_type": "code",
   "execution_count": 22,
   "metadata": {},
   "outputs": [],
   "source": [
    "X = df[features]\n",
    "X[features] = X[features].apply(pd.to_numeric, errors='coerce', axis=1)"
   ]
  },
  {
   "cell_type": "code",
   "execution_count": 23,
   "metadata": {},
   "outputs": [],
   "source": [
    "y = df['Target']"
   ]
  },
  {
   "cell_type": "code",
   "execution_count": 24,
   "metadata": {},
   "outputs": [],
   "source": [
    "X = X.fillna(0)"
   ]
  },
  {
   "cell_type": "code",
   "execution_count": 25,
   "metadata": {},
   "outputs": [
    {
     "name": "stdout",
     "output_type": "stream",
     "text": [
      "(320000, 87) (320000,)\n",
      "(80000, 87) (80000,)\n"
     ]
    }
   ],
   "source": [
    "X_train, X_test, y_train, y_test = train_test_split(X, y, test_size=0.2)\n",
    "print (X_train.shape, y_train.shape)\n",
    "print( X_test.shape, y_test.shape)"
   ]
  },
  {
   "cell_type": "code",
   "execution_count": 26,
   "metadata": {},
   "outputs": [],
   "source": [
    "min_max_scaler = preprocessing.MinMaxScaler()\n",
    "x_scaled = min_max_scaler.fit_transform(X_train.values)\n",
    "X_train = pd.DataFrame(x_scaled,columns=features)\n",
    "x_scaled_test = min_max_scaler.fit_transform(X_test.values)\n",
    "X_test = pd.DataFrame(x_scaled_test,columns=features)"
   ]
  },
  {
   "cell_type": "code",
   "execution_count": 27,
   "metadata": {},
   "outputs": [],
   "source": [
    "model = tf.keras.Sequential([\n",
    "    tf.keras.layers.Embedding(100000, 64), # since it doesn't consider \"words,\" the embedding doesn't really matter\n",
    "    tf.keras.layers.Bidirectional(tf.keras.layers.LSTM(64)),\n",
    "    tf.keras.layers.Dense(64, activation='relu'),\n",
    "    tf.keras.layers.Dense(1, activation='sigmoid')\n",
    "    # tf.keras.layers.Dense(1, activation='softmax') # loss too big\n",
    "]) "
   ]
  },
  {
   "cell_type": "code",
   "execution_count": 28,
   "metadata": {},
   "outputs": [],
   "source": [
    "model.compile(loss='binary_crossentropy',\n",
    "              # optimizer='sgd', # almost same\n",
    "              optimizer=tf.keras.optimizers.Adam(1e-4),\n",
    "              metrics=['accuracy'])"
   ]
  },
  {
   "cell_type": "code",
   "execution_count": 29,
   "metadata": {},
   "outputs": [
    {
     "name": "stdout",
     "output_type": "stream",
     "text": [
      "Train on 320000 samples\n",
      "Epoch 1/3\n",
      "320000/320000 [==============================] - 1132s 4ms/sample - loss: 0.4024 - accuracy: 0.8153\n",
      "Epoch 2/3\n",
      "320000/320000 [==============================] - 1158s 4ms/sample - loss: 0.3186 - accuracy: 0.8780\n",
      "Epoch 3/3\n",
      "320000/320000 [==============================] - 1154s 4ms/sample - loss: 0.3187 - accuracy: 0.8775\n"
     ]
    }
   ],
   "source": [
    "history = model.fit(X_train.values, y_train.values, epochs=3)\n"
   ]
  },
  {
   "cell_type": "code",
   "execution_count": 30,
   "metadata": {},
   "outputs": [
    {
     "name": "stdout",
     "output_type": "stream",
     "text": [
      "[[0.27193978]\n",
      " [0.86086416]\n",
      " [0.86086416]\n",
      " ...\n",
      " [0.9910575 ]\n",
      " [0.86086434]\n",
      " [0.34109417]]\n"
     ]
    }
   ],
   "source": [
    "pred_class = model.predict(X_test.values[:])\n",
    "print(pred_class)"
   ]
  },
  {
   "cell_type": "code",
   "execution_count": 31,
   "metadata": {},
   "outputs": [],
   "source": [
    "def myRound(x, r):\n",
    "    if x>r/float(1000):\n",
    "        return 1\n",
    "    else:\n",
    "        return 0"
   ]
  },
  {
   "cell_type": "code",
   "execution_count": 32,
   "metadata": {},
   "outputs": [
    {
     "name": "stdout",
     "output_type": "stream",
     "text": [
      "1.0\n",
      "1.0\n"
     ]
    }
   ],
   "source": [
    "print(round(pred_class[2][0]))\n",
    "print(round(pred_class[1][0]))"
   ]
  },
  {
   "cell_type": "code",
   "execution_count": 33,
   "metadata": {},
   "outputs": [],
   "source": [
    "predictions = [int(round(x[0])) for x in pred_class]\n",
    "true_class = list(y_test)"
   ]
  },
  {
   "cell_type": "code",
   "execution_count": 34,
   "metadata": {},
   "outputs": [
    {
     "name": "stdout",
     "output_type": "stream",
     "text": [
      "[0, 1, 0, 1, 0, 0, 0, 1, 0, 1] 80000\n",
      "[0, 1, 1, 1, 0, 0, 0, 1, 0, 1] 80000\n"
     ]
    }
   ],
   "source": [
    "print(true_class[:10], len(true_class))\n",
    "print(predictions[:10], len(predictions))"
   ]
  },
  {
   "cell_type": "code",
   "execution_count": 35,
   "metadata": {},
   "outputs": [
    {
     "name": "stdout",
     "output_type": "stream",
     "text": [
      "       pred_class  true_class\n",
      "40000           1           0\n",
      "66174           1           0\n",
      "28889           1           1\n",
      "28890           1           1\n",
      "66173           1           1\n",
      "47366           1           1\n",
      "66171           1           1\n",
      "28894           1           1\n",
      "47365           1           1\n",
      "47364           1           1\n"
     ]
    }
   ],
   "source": [
    "compdf = pd.DataFrame({'pred_class':predictions, 'true_class':true_class})\n",
    "compdf = compdf.sort_values('pred_class', ascending=False)\n",
    "print(str(compdf.head(10)))"
   ]
  },
  {
   "cell_type": "code",
   "execution_count": 36,
   "metadata": {},
   "outputs": [],
   "source": [
    "predictions = list(compdf['pred_class'].apply(myRound, r=225))\n",
    "true_class = list(compdf['true_class'])"
   ]
  },
  {
   "cell_type": "code",
   "execution_count": 37,
   "metadata": {},
   "outputs": [
    {
     "name": "stdout",
     "output_type": "stream",
     "text": [
      "[1, 1, 1, 1, 1, 1, 1, 1, 1, 1]\n",
      "[0, 0, 1, 1, 1, 1, 1, 1, 1, 1]\n"
     ]
    }
   ],
   "source": [
    "print(predictions[:10])\n",
    "print(true_class[:10])"
   ]
  },
  {
   "cell_type": "code",
   "execution_count": 38,
   "metadata": {},
   "outputs": [],
   "source": [
    "from sklearn.metrics import confusion_matrix"
   ]
  },
  {
   "cell_type": "code",
   "execution_count": 39,
   "metadata": {},
   "outputs": [
    {
     "data": {
      "text/plain": [
       "array([[34421,  5528],\n",
       "       [ 4004, 36047]], dtype=int64)"
      ]
     },
     "execution_count": 39,
     "metadata": {},
     "output_type": "execute_result"
    }
   ],
   "source": [
    "confm = confusion_matrix(true_class, predictions)\n",
    "confm"
   ]
  },
  {
   "cell_type": "code",
   "execution_count": 40,
   "metadata": {},
   "outputs": [
    {
     "data": {
      "text/plain": [
       "0.88085"
      ]
     },
     "execution_count": 40,
     "metadata": {},
     "output_type": "execute_result"
    }
   ],
   "source": [
    "tn, fp, fn, tp = confm.ravel()\n",
    "(tn + tp)/(tn+tp+fn+fp)"
   ]
  },
  {
   "cell_type": "code",
   "execution_count": 41,
   "metadata": {},
   "outputs": [
    {
     "name": "stdout",
     "output_type": "stream",
     "text": [
      "False alarm rate is\n"
     ]
    },
    {
     "data": {
      "text/plain": [
       "0.13837642994818394"
      ]
     },
     "execution_count": 41,
     "metadata": {},
     "output_type": "execute_result"
    }
   ],
   "source": [
    "print(\"False alarm rate is\")\n",
    "fp/(tn+fp)"
   ]
  },
  {
   "cell_type": "code",
   "execution_count": 42,
   "metadata": {},
   "outputs": [
    {
     "name": "stdout",
     "output_type": "stream",
     "text": [
      "Precision is\n"
     ]
    },
    {
     "data": {
      "text/plain": [
       "0.8670354780517138"
      ]
     },
     "execution_count": 42,
     "metadata": {},
     "output_type": "execute_result"
    }
   ],
   "source": [
    "print(\"Precision is\")\n",
    "Precision = tp/(tp+fp)\n",
    "Precision"
   ]
  },
  {
   "cell_type": "code",
   "execution_count": 43,
   "metadata": {},
   "outputs": [
    {
     "name": "stdout",
     "output_type": "stream",
     "text": [
      "Recall is\n"
     ]
    },
    {
     "data": {
      "text/plain": [
       "0.9000274649821478"
      ]
     },
     "execution_count": 43,
     "metadata": {},
     "output_type": "execute_result"
    }
   ],
   "source": [
    "print(\"Recall is\")\n",
    "Recall = tp/(tp+fn)\n",
    "Recall"
   ]
  },
  {
   "cell_type": "code",
   "execution_count": 44,
   "metadata": {},
   "outputs": [
    {
     "name": "stdout",
     "output_type": "stream",
     "text": [
      "F1 is\n"
     ]
    },
    {
     "data": {
      "text/plain": [
       "0.8832234827138412"
      ]
     },
     "execution_count": 44,
     "metadata": {},
     "output_type": "execute_result"
    }
   ],
   "source": [
    "print(\"F1 is\")\n",
    "2*Precision*Recall/(Precision+Recall)"
   ]
  },
  {
   "cell_type": "code",
   "execution_count": null,
   "metadata": {},
   "outputs": [],
   "source": []
  }
 ],
 "metadata": {
  "kernelspec": {
   "display_name": "Python 3",
   "language": "python",
   "name": "python3"
  },
  "language_info": {
   "codemirror_mode": {
    "name": "ipython",
    "version": 3
   },
   "file_extension": ".py",
   "mimetype": "text/x-python",
   "name": "python",
   "nbconvert_exporter": "python",
   "pygments_lexer": "ipython3",
   "version": "3.6.9"
  }
 },
 "nbformat": 4,
 "nbformat_minor": 2
}
