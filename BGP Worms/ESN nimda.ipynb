{
 "cells": [
  {
   "cell_type": "code",
   "execution_count": 25,
   "metadata": {},
   "outputs": [],
   "source": [
    "import numpy as np # library that supports large and multi-dimensional arrays and matrices\n",
    "import pandas as pd # library for data manipulation and analysis\n",
    "import scipy.io # to read data from and write data to a variety of file formats\n",
    "from scipy import sparse # 2D sparse matrix package\n",
    "from sklearn.decomposition import PCA # linear dimensionality reduction\n",
    "from sklearn.linear_model import Ridge # linear least squares with L2 regularization\n",
    "from sklearn.metrics import accuracy_score, f1_score, roc_auc_score\n",
    "from scipy.stats import zscore\n",
    "from sklearn import preprocessing\n",
    "from sklearn.model_selection import train_test_split\n",
    "import math\n",
    "from matplotlib.pyplot import *\n",
    "import time"
   ]
  },
  {
   "cell_type": "code",
   "execution_count": 26,
   "metadata": {},
   "outputs": [],
   "source": [
    "class Reservoir(object):\n",
    "    \"\"\"\n",
    "    Build a reservoir and evaluate internal states\n",
    "    \n",
    "    Parameters:\n",
    "        n_internal_units = processing units in the reservoir\n",
    "        spectral_radius = largest eigenvalue of the reservoir matrix of connection weights\n",
    "        leak = amount of leakage in the reservoir state update (optional)\n",
    "        connectivity = percentage of nonzero connection weights (unused in circle reservoir)\n",
    "        input_scaling = scaling of the input connection weights\n",
    "        noise_level = deviation of the Gaussian noise injected in the state update\n",
    "        circle = generate determinisitc reservoir with circle topology\n",
    "    \"\"\"\n",
    "    \n",
    "    def __init__(self, n_internal_units=100, spectral_radius=0.99, leak=None,\n",
    "                 connectivity=0.3, input_scaling=0.2, noise_level=0.01, circle=False):\n",
    "        \n",
    "        # Initialize attributes\n",
    "        self._n_internal_units = n_internal_units\n",
    "        self._input_scaling = input_scaling\n",
    "        self._noise_level = noise_level\n",
    "        self._leak = leak\n",
    "\n",
    "        # Input weights depend on input size: they are set when data is provided\n",
    "        self._input_weights = None\n",
    "\n",
    "        # Generate internal weights\n",
    "        if circle:\n",
    "            self._internal_weights = self._initialize_internal_weights_Circ(\n",
    "                    n_internal_units,\n",
    "                    spectral_radius)\n",
    "        else:\n",
    "            self._internal_weights = self._initialize_internal_weights(\n",
    "                n_internal_units,\n",
    "                connectivity,\n",
    "                spectral_radius)\n",
    "\n",
    "\n",
    "    def _initialize_internal_weights_Circ(self, n_internal_units, spectral_radius):\n",
    "        np.random.seed(33)\n",
    "        internal_weights = np.zeros((n_internal_units, n_internal_units))\n",
    "        internal_weights[0,-1] = spectral_radius\n",
    "        for i in range(n_internal_units-1):\n",
    "            internal_weights[i+1,i] = spectral_radius\n",
    "                \n",
    "        return internal_weights\n",
    "    \n",
    "    \n",
    "    def _initialize_internal_weights(self, n_internal_units,\n",
    "                                     connectivity, spectral_radius):\n",
    "\n",
    "        # Generate sparse, uniformly distributed weights.\n",
    "        np.random.seed(33)\n",
    "        internal_weights = sparse.rand(n_internal_units,\n",
    "                                       n_internal_units,\n",
    "                                       density=connectivity).todense()\n",
    "\n",
    "        # Ensure that the nonzero values are uniformly distributed in [-0.5, 0.5]\n",
    "        #np.random.seed(33)\n",
    "        internal_weights[np.where(internal_weights > 0)] -= 0.5\n",
    "        \n",
    "        # Adjust the spectral radius.\n",
    "        E, _ = np.linalg.eig(internal_weights)\n",
    "        e_max = np.max(np.abs(E))\n",
    "        internal_weights /= np.abs(e_max)/spectral_radius       \n",
    "\n",
    "        return internal_weights\n",
    "\n",
    "\n",
    "    def _compute_state_matrix(self, X, n_drop=0):\n",
    "        N, T, _ = X.shape\n",
    "        previous_state = np.zeros((N, self._n_internal_units), dtype=float)\n",
    "\n",
    "        # Storage\n",
    "        state_matrix = np.empty((N, T - n_drop, self._n_internal_units), dtype=float)\n",
    "        for t in range(T):\n",
    "            current_input = X[:, t, :]\n",
    "\n",
    "            # Calculate state\n",
    "            state_before_tanh = self._internal_weights.dot(previous_state.T) + self._input_weights.dot(current_input.T)\n",
    "\n",
    "            # Add noise\n",
    "            state_before_tanh += np.random.rand(self._n_internal_units, N)*self._noise_level\n",
    "\n",
    "            # Apply nonlinearity and leakage (optional)\n",
    "            if self._leak is None:\n",
    "                previous_state = np.tanh(state_before_tanh).T\n",
    "            else:\n",
    "                previous_state = (1.0 - self._leak)*previous_state + np.tanh(state_before_tanh).T\n",
    "\n",
    "            # Store everything after the dropout period\n",
    "            if (t > n_drop - 1):\n",
    "                state_matrix[:, t - n_drop, :] = previous_state\n",
    "\n",
    "        return state_matrix\n",
    "\n",
    "\n",
    "    def get_states(self, X, n_drop=0, bidir=True):\n",
    "        N, T, V = X.shape\n",
    "        np.random.seed(33)\n",
    "        if self._input_weights is None:\n",
    "            self._input_weights = (2.0*np.random.binomial(1, 0.5 , [self._n_internal_units, V]) - 1.0)*self._input_scaling\n",
    "\n",
    "        # compute sequence of reservoir states\n",
    "        states = self._compute_state_matrix(X, n_drop)\n",
    "    \n",
    "        # reservoir states on time reversed input\n",
    "        if bidir is True:\n",
    "            X_r = X[:, ::-1, :]\n",
    "            states_r = self._compute_state_matrix(X_r, n_drop)\n",
    "            states = np.concatenate((states, states_r), axis=2)\n",
    "\n",
    "        return states\n",
    "    \n",
    "    def getReservoirEmbedding(self, X,pca, ridge_embedding,  n_drop=0, bidir=False, test = False):\n",
    "\n",
    "        res_states = self.get_states(X, n_drop=0, bidir=False)\n",
    "\n",
    "        N_samples = res_states.shape[0]\n",
    "        res_states = res_states.reshape(-1, res_states.shape[2])                    \n",
    "        # ..transform..\n",
    "        if test:\n",
    "            red_states = pca.transform(res_states)\n",
    "        else:\n",
    "            red_states = pca.fit_transform(res_states)          \n",
    "        # ..and put back in tensor form\n",
    "        red_states = red_states.reshape(N_samples,-1,red_states.shape[1])\n",
    "        print(\"red_states:\" + str(red_states.shape))\n",
    "\n",
    "        coeff_tr = []\n",
    "        biases_tr = []   \n",
    "        \n",
    "        for i in range(X.shape[0]):\n",
    "            ridge_embedding.fit(red_states[i, 0:-1, :], red_states[i, 1:, :])\n",
    "            coeff_tr.append(ridge_embedding.coef_.ravel())\n",
    "            biases_tr.append(ridge_embedding.intercept_.ravel())\n",
    "        #print(np.array(coeff_tr).shape,np.array(biases_tr).shape)\n",
    "        input_repr = np.concatenate((np.vstack(coeff_tr), np.vstack(biases_tr)), axis=1)\n",
    "        return input_repr"
   ]
  },
  {
   "cell_type": "code",
   "execution_count": 27,
   "metadata": {},
   "outputs": [
    {
     "data": {
      "text/html": [
       "<div>\n",
       "<style scoped>\n",
       "    .dataframe tbody tr th:only-of-type {\n",
       "        vertical-align: middle;\n",
       "    }\n",
       "\n",
       "    .dataframe tbody tr th {\n",
       "        vertical-align: top;\n",
       "    }\n",
       "\n",
       "    .dataframe thead th {\n",
       "        text-align: right;\n",
       "    }\n",
       "</style>\n",
       "<table border=\"1\" class=\"dataframe\">\n",
       "  <thead>\n",
       "    <tr style=\"text-align: right;\">\n",
       "      <th></th>\n",
       "      <th>0</th>\n",
       "      <th>1</th>\n",
       "      <th>2</th>\n",
       "      <th>3</th>\n",
       "      <th>4</th>\n",
       "      <th>5</th>\n",
       "      <th>6</th>\n",
       "      <th>7</th>\n",
       "      <th>8</th>\n",
       "      <th>9</th>\n",
       "      <th>...</th>\n",
       "      <th>28</th>\n",
       "      <th>29</th>\n",
       "      <th>30</th>\n",
       "      <th>31</th>\n",
       "      <th>32</th>\n",
       "      <th>33</th>\n",
       "      <th>34</th>\n",
       "      <th>35</th>\n",
       "      <th>36</th>\n",
       "      <th>37</th>\n",
       "    </tr>\n",
       "  </thead>\n",
       "  <tbody>\n",
       "    <tr>\n",
       "      <td>0</td>\n",
       "      <td>0.002240</td>\n",
       "      <td>0.001481</td>\n",
       "      <td>0.001402</td>\n",
       "      <td>0.000048</td>\n",
       "      <td>0.250</td>\n",
       "      <td>0.058824</td>\n",
       "      <td>0.250</td>\n",
       "      <td>0.000678</td>\n",
       "      <td>0.008775</td>\n",
       "      <td>0.000000</td>\n",
       "      <td>...</td>\n",
       "      <td>0</td>\n",
       "      <td>0</td>\n",
       "      <td>0</td>\n",
       "      <td>0</td>\n",
       "      <td>0</td>\n",
       "      <td>0.002110</td>\n",
       "      <td>0.0</td>\n",
       "      <td>0.003874</td>\n",
       "      <td>0.035004</td>\n",
       "      <td>0</td>\n",
       "    </tr>\n",
       "    <tr>\n",
       "      <td>1</td>\n",
       "      <td>0.001535</td>\n",
       "      <td>0.007407</td>\n",
       "      <td>0.001873</td>\n",
       "      <td>0.000351</td>\n",
       "      <td>0.250</td>\n",
       "      <td>0.058824</td>\n",
       "      <td>0.250</td>\n",
       "      <td>0.000000</td>\n",
       "      <td>0.051737</td>\n",
       "      <td>0.000000</td>\n",
       "      <td>...</td>\n",
       "      <td>0</td>\n",
       "      <td>0</td>\n",
       "      <td>0</td>\n",
       "      <td>0</td>\n",
       "      <td>0</td>\n",
       "      <td>0.000629</td>\n",
       "      <td>0.0</td>\n",
       "      <td>0.012728</td>\n",
       "      <td>0.059666</td>\n",
       "      <td>0</td>\n",
       "    </tr>\n",
       "    <tr>\n",
       "      <td>2</td>\n",
       "      <td>0.001120</td>\n",
       "      <td>0.007407</td>\n",
       "      <td>0.000815</td>\n",
       "      <td>0.000218</td>\n",
       "      <td>0.125</td>\n",
       "      <td>0.039216</td>\n",
       "      <td>0.125</td>\n",
       "      <td>0.000000</td>\n",
       "      <td>0.007130</td>\n",
       "      <td>0.009231</td>\n",
       "      <td>...</td>\n",
       "      <td>0</td>\n",
       "      <td>0</td>\n",
       "      <td>0</td>\n",
       "      <td>0</td>\n",
       "      <td>0</td>\n",
       "      <td>0.000853</td>\n",
       "      <td>0.0</td>\n",
       "      <td>0.004427</td>\n",
       "      <td>0.027844</td>\n",
       "      <td>0</td>\n",
       "    </tr>\n",
       "    <tr>\n",
       "      <td>3</td>\n",
       "      <td>0.000995</td>\n",
       "      <td>0.007407</td>\n",
       "      <td>0.000803</td>\n",
       "      <td>0.000254</td>\n",
       "      <td>0.250</td>\n",
       "      <td>0.058824</td>\n",
       "      <td>0.250</td>\n",
       "      <td>0.000678</td>\n",
       "      <td>0.006399</td>\n",
       "      <td>0.004615</td>\n",
       "      <td>...</td>\n",
       "      <td>0</td>\n",
       "      <td>0</td>\n",
       "      <td>0</td>\n",
       "      <td>0</td>\n",
       "      <td>0</td>\n",
       "      <td>0.000718</td>\n",
       "      <td>0.0</td>\n",
       "      <td>0.004427</td>\n",
       "      <td>0.042959</td>\n",
       "      <td>0</td>\n",
       "    </tr>\n",
       "    <tr>\n",
       "      <td>4</td>\n",
       "      <td>0.000788</td>\n",
       "      <td>0.005926</td>\n",
       "      <td>0.001007</td>\n",
       "      <td>0.000157</td>\n",
       "      <td>0.250</td>\n",
       "      <td>0.039216</td>\n",
       "      <td>0.250</td>\n",
       "      <td>0.000000</td>\n",
       "      <td>0.002925</td>\n",
       "      <td>0.000000</td>\n",
       "      <td>...</td>\n",
       "      <td>0</td>\n",
       "      <td>0</td>\n",
       "      <td>0</td>\n",
       "      <td>0</td>\n",
       "      <td>0</td>\n",
       "      <td>0.000629</td>\n",
       "      <td>0.0</td>\n",
       "      <td>0.002767</td>\n",
       "      <td>0.050119</td>\n",
       "      <td>0</td>\n",
       "    </tr>\n",
       "    <tr>\n",
       "      <td>...</td>\n",
       "      <td>...</td>\n",
       "      <td>...</td>\n",
       "      <td>...</td>\n",
       "      <td>...</td>\n",
       "      <td>...</td>\n",
       "      <td>...</td>\n",
       "      <td>...</td>\n",
       "      <td>...</td>\n",
       "      <td>...</td>\n",
       "      <td>...</td>\n",
       "      <td>...</td>\n",
       "      <td>...</td>\n",
       "      <td>...</td>\n",
       "      <td>...</td>\n",
       "      <td>...</td>\n",
       "      <td>...</td>\n",
       "      <td>...</td>\n",
       "      <td>...</td>\n",
       "      <td>...</td>\n",
       "      <td>...</td>\n",
       "      <td>...</td>\n",
       "    </tr>\n",
       "    <tr>\n",
       "      <td>8604</td>\n",
       "      <td>0.003774</td>\n",
       "      <td>0.010370</td>\n",
       "      <td>0.003873</td>\n",
       "      <td>0.000435</td>\n",
       "      <td>0.375</td>\n",
       "      <td>0.127451</td>\n",
       "      <td>0.375</td>\n",
       "      <td>0.004065</td>\n",
       "      <td>0.026325</td>\n",
       "      <td>0.012308</td>\n",
       "      <td>...</td>\n",
       "      <td>0</td>\n",
       "      <td>0</td>\n",
       "      <td>0</td>\n",
       "      <td>0</td>\n",
       "      <td>0</td>\n",
       "      <td>0.003636</td>\n",
       "      <td>0.0</td>\n",
       "      <td>0.005534</td>\n",
       "      <td>0.061257</td>\n",
       "      <td>0</td>\n",
       "    </tr>\n",
       "    <tr>\n",
       "      <td>8605</td>\n",
       "      <td>0.002488</td>\n",
       "      <td>0.007407</td>\n",
       "      <td>0.001924</td>\n",
       "      <td>0.000290</td>\n",
       "      <td>0.375</td>\n",
       "      <td>0.058824</td>\n",
       "      <td>0.375</td>\n",
       "      <td>0.002033</td>\n",
       "      <td>0.009141</td>\n",
       "      <td>0.001538</td>\n",
       "      <td>...</td>\n",
       "      <td>0</td>\n",
       "      <td>0</td>\n",
       "      <td>0</td>\n",
       "      <td>0</td>\n",
       "      <td>0</td>\n",
       "      <td>0.002245</td>\n",
       "      <td>0.0</td>\n",
       "      <td>0.005534</td>\n",
       "      <td>0.042164</td>\n",
       "      <td>0</td>\n",
       "    </tr>\n",
       "    <tr>\n",
       "      <td>8606</td>\n",
       "      <td>0.001286</td>\n",
       "      <td>0.007407</td>\n",
       "      <td>0.000866</td>\n",
       "      <td>0.000435</td>\n",
       "      <td>0.250</td>\n",
       "      <td>0.068627</td>\n",
       "      <td>0.250</td>\n",
       "      <td>0.000678</td>\n",
       "      <td>0.012980</td>\n",
       "      <td>0.013846</td>\n",
       "      <td>...</td>\n",
       "      <td>1</td>\n",
       "      <td>0</td>\n",
       "      <td>0</td>\n",
       "      <td>0</td>\n",
       "      <td>0</td>\n",
       "      <td>0.000853</td>\n",
       "      <td>0.0</td>\n",
       "      <td>0.006641</td>\n",
       "      <td>0.036595</td>\n",
       "      <td>0</td>\n",
       "    </tr>\n",
       "    <tr>\n",
       "      <td>8607</td>\n",
       "      <td>0.002322</td>\n",
       "      <td>0.008889</td>\n",
       "      <td>0.001376</td>\n",
       "      <td>0.000508</td>\n",
       "      <td>0.250</td>\n",
       "      <td>0.068627</td>\n",
       "      <td>0.250</td>\n",
       "      <td>0.003388</td>\n",
       "      <td>0.023400</td>\n",
       "      <td>0.001538</td>\n",
       "      <td>...</td>\n",
       "      <td>1</td>\n",
       "      <td>0</td>\n",
       "      <td>0</td>\n",
       "      <td>0</td>\n",
       "      <td>0</td>\n",
       "      <td>0.001706</td>\n",
       "      <td>0.0</td>\n",
       "      <td>0.009961</td>\n",
       "      <td>0.030231</td>\n",
       "      <td>0</td>\n",
       "    </tr>\n",
       "    <tr>\n",
       "      <td>8608</td>\n",
       "      <td>0.001991</td>\n",
       "      <td>0.008889</td>\n",
       "      <td>0.001249</td>\n",
       "      <td>0.000133</td>\n",
       "      <td>0.250</td>\n",
       "      <td>0.049020</td>\n",
       "      <td>0.250</td>\n",
       "      <td>0.002710</td>\n",
       "      <td>0.011335</td>\n",
       "      <td>0.001538</td>\n",
       "      <td>...</td>\n",
       "      <td>0</td>\n",
       "      <td>0</td>\n",
       "      <td>0</td>\n",
       "      <td>0</td>\n",
       "      <td>0</td>\n",
       "      <td>0.001481</td>\n",
       "      <td>0.0</td>\n",
       "      <td>0.008301</td>\n",
       "      <td>0.025457</td>\n",
       "      <td>0</td>\n",
       "    </tr>\n",
       "  </tbody>\n",
       "</table>\n",
       "<p>8609 rows × 38 columns</p>\n",
       "</div>"
      ],
      "text/plain": [
       "            0         1         2         3      4         5      6   \\\n",
       "0     0.002240  0.001481  0.001402  0.000048  0.250  0.058824  0.250   \n",
       "1     0.001535  0.007407  0.001873  0.000351  0.250  0.058824  0.250   \n",
       "2     0.001120  0.007407  0.000815  0.000218  0.125  0.039216  0.125   \n",
       "3     0.000995  0.007407  0.000803  0.000254  0.250  0.058824  0.250   \n",
       "4     0.000788  0.005926  0.001007  0.000157  0.250  0.039216  0.250   \n",
       "...        ...       ...       ...       ...    ...       ...    ...   \n",
       "8604  0.003774  0.010370  0.003873  0.000435  0.375  0.127451  0.375   \n",
       "8605  0.002488  0.007407  0.001924  0.000290  0.375  0.058824  0.375   \n",
       "8606  0.001286  0.007407  0.000866  0.000435  0.250  0.068627  0.250   \n",
       "8607  0.002322  0.008889  0.001376  0.000508  0.250  0.068627  0.250   \n",
       "8608  0.001991  0.008889  0.001249  0.000133  0.250  0.049020  0.250   \n",
       "\n",
       "            7         8         9   ...  28  29  30  31  32        33   34  \\\n",
       "0     0.000678  0.008775  0.000000  ...   0   0   0   0   0  0.002110  0.0   \n",
       "1     0.000000  0.051737  0.000000  ...   0   0   0   0   0  0.000629  0.0   \n",
       "2     0.000000  0.007130  0.009231  ...   0   0   0   0   0  0.000853  0.0   \n",
       "3     0.000678  0.006399  0.004615  ...   0   0   0   0   0  0.000718  0.0   \n",
       "4     0.000000  0.002925  0.000000  ...   0   0   0   0   0  0.000629  0.0   \n",
       "...        ...       ...       ...  ...  ..  ..  ..  ..  ..       ...  ...   \n",
       "8604  0.004065  0.026325  0.012308  ...   0   0   0   0   0  0.003636  0.0   \n",
       "8605  0.002033  0.009141  0.001538  ...   0   0   0   0   0  0.002245  0.0   \n",
       "8606  0.000678  0.012980  0.013846  ...   1   0   0   0   0  0.000853  0.0   \n",
       "8607  0.003388  0.023400  0.001538  ...   1   0   0   0   0  0.001706  0.0   \n",
       "8608  0.002710  0.011335  0.001538  ...   0   0   0   0   0  0.001481  0.0   \n",
       "\n",
       "            35        36  37  \n",
       "0     0.003874  0.035004   0  \n",
       "1     0.012728  0.059666   0  \n",
       "2     0.004427  0.027844   0  \n",
       "3     0.004427  0.042959   0  \n",
       "4     0.002767  0.050119   0  \n",
       "...        ...       ...  ..  \n",
       "8604  0.005534  0.061257   0  \n",
       "8605  0.005534  0.042164   0  \n",
       "8606  0.006641  0.036595   0  \n",
       "8607  0.009961  0.030231   0  \n",
       "8608  0.008301  0.025457   0  \n",
       "\n",
       "[8609 rows x 38 columns]"
      ]
     },
     "execution_count": 27,
     "metadata": {},
     "output_type": "execute_result"
    }
   ],
   "source": [
    "df_train = pd.read_csv('Nimda_new.csv', header=None)\n",
    "df_train"
   ]
  },
  {
   "cell_type": "code",
   "execution_count": 28,
   "metadata": {},
   "outputs": [],
   "source": [
    "# def targetify(s):\n",
    "#     if s == -1:\n",
    "#         return 0\n",
    "#     else:\n",
    "#         return 1"
   ]
  },
  {
   "cell_type": "code",
   "execution_count": 29,
   "metadata": {},
   "outputs": [],
   "source": [
    "def eqArray(a,b):\n",
    "    return np.where(a == b, 1, 0)"
   ]
  },
  {
   "cell_type": "code",
   "execution_count": 30,
   "metadata": {},
   "outputs": [],
   "source": [
    "cols = [33, 0, 2, 3, 8, 11, 36, 1, 34, 9, 7, 12, 6, 4, 34, 5, 10, 15, 13, 31]\n",
    "#cols = [37, 4, 6, 7, 12, 15, 40, 5, 39, 13, 11, 16, 10, 8, 38, 9, 14, 19, 17, 35]\n",
    "features = df_train.columns[cols]"
   ]
  },
  {
   "cell_type": "code",
   "execution_count": 31,
   "metadata": {},
   "outputs": [
    {
     "name": "stdout",
     "output_type": "stream",
     "text": [
      "Finished loading training X and y......\n",
      "X_train shape:(6887, 20, 1) y_train shape:(6887,)\n",
      "X_test shape:(1722, 20, 1) y_test shape:(1722,)\n"
     ]
    }
   ],
   "source": [
    "#fraction = 0.5\n",
    "#print(str(num_features) + \" features\")\n",
    "#print(\"fraction:\" + str(fraction))\n",
    "#data = df_train.sample(frac=fraction, replace=True, random_state=1)\n",
    "\n",
    "# get X and y. Normalize X and make it into 3D shape for reservoir\n",
    "# num_col = df_train.shape[1]\n",
    "# num_row = df_train.shape[0]\n",
    "\n",
    "df_train['Target']=df_train.loc[:,37]#.apply(targetify)\n",
    "#df_test['Target']=df_test.loc[:,37].apply(targetify)\n",
    "\n",
    "X_data = df_train[features].apply(pd.to_numeric, errors='coerce', axis=1)\n",
    "#X_data[features] = X_data[features].apply(pd.to_numeric, errors='coerce', axis=1)\n",
    "min_max_scaler = preprocessing.MinMaxScaler()\n",
    "x_scaled = min_max_scaler.fit_transform(X_data.values)\n",
    "X = np.nan_to_num(x_scaled)\n",
    "if len(X.shape) < 3:\n",
    "    X = np.atleast_3d(X)\n",
    "y = df_train['Target']\n",
    "print(\"Finished loading training X and y......\")\n",
    "\n",
    "# X_data_test = df_test[features]\n",
    "# X_data_test[features] = X_data_test[features].apply(pd.to_numeric, errors='coerce', axis=1)\n",
    "# min_max_scaler = preprocessing.MinMaxScaler()\n",
    "# x_scaled_test = min_max_scaler.fit_transform(X_data_test.values)\n",
    "# Xtest = np.nan_to_num(x_scaled_test)\n",
    "# if len(Xtest.shape) < 3:\n",
    "#     Xtest = np.atleast_3d(Xtest)\n",
    "# ytest = df_test['Target']\n",
    "# print(\"Finished loading test X and y......\")\n",
    "\n",
    "# X_train = X\n",
    "# y_train = y\n",
    "# X_test = Xtest\n",
    "# y_test = ytest\n",
    "# print (X_train.shape, y_train.shape)\n",
    "# print( X_test.shape, y_test.shape)\n",
    "\n",
    "# split into training and testing data\n",
    "X_train, X_test, y_train, y_test = train_test_split(X, y, test_size=0.2, random_state=100)\n",
    "\n",
    "print(\"X_train shape:\" + str(X_train.shape), \"y_train shape:\" + str(y_train.shape))\n",
    "print(\"X_test shape:\" + str(X_test.shape), \"y_test shape:\" + str(y_test.shape))\n",
    "\n",
    "pca = PCA() #n_components gives number of components to keep for linear dimensionality reduction\n",
    "ridge_embedding = Ridge(alpha=10, fit_intercept=True)\n",
    "readout = Ridge(alpha=5)"
   ]
  },
  {
   "cell_type": "code",
   "execution_count": 32,
   "metadata": {},
   "outputs": [
    {
     "name": "stdout",
     "output_type": "stream",
     "text": [
      "30 internal units\n",
      "red_states:(6887, 20, 30)\n",
      "Finished loading training reservoir embedding......\n",
      "red_states:(1722, 20, 30)\n",
      "Finished loading testing reservoir embedding......\n",
      "      pred_class  true_class\n",
      "156     0.788186           0\n",
      "1224    0.758789           1\n",
      "752     0.754452           1\n",
      "1445    0.754178           1\n",
      "1517    0.741119           1\n",
      "509     0.740043           1\n",
      "943     0.723486           0\n",
      "1646    0.712810           1\n",
      "1688    0.709249           1\n",
      "780     0.698283           0\n"
     ]
    }
   ],
   "source": [
    "n=30 #number of internal units\n",
    "print(str(n) + \" internal units\")\n",
    "\n",
    "#run through reservoir\n",
    "start = time.clock()\n",
    "res = Reservoir(n_internal_units=n, spectral_radius=0.9, leak=0.2,\n",
    "     connectivity=0.25, input_scaling=0.3, noise_level=0.01, circle=False)\n",
    "input_repr = res.getReservoirEmbedding(np.array(X_train), pca, ridge_embedding,  n_drop=0, bidir=False, test = False)\n",
    "print(\"Finished loading training reservoir embedding......\")\n",
    "end = time.clock()\n",
    "input_repr_te = res.getReservoirEmbedding(np.array(X_test), pca, ridge_embedding,  n_drop=0, bidir=False, test = True)\n",
    "print(\"Finished loading testing reservoir embedding......\")\n",
    "\n",
    "#fit output\n",
    "readout.fit(input_repr, y_train)\n",
    "pred_class = readout.predict(input_repr_te)\n",
    "#predictions = [int(round(x)) for x in pred_class]\n",
    "true_class = list(y_test)\n",
    "\n",
    "#analysis\n",
    "compdf = pd.DataFrame({'pred_class':pred_class, 'true_class':true_class})\n",
    "compdf = compdf.sort_values('pred_class', ascending=False)\n",
    "print(str(compdf.head(10)))"
   ]
  },
  {
   "cell_type": "code",
   "execution_count": 33,
   "metadata": {},
   "outputs": [],
   "source": [
    "def myRound(x, r):\n",
    "    if x>r/float(1000):\n",
    "        return 1\n",
    "    else:\n",
    "        return 0"
   ]
  },
  {
   "cell_type": "code",
   "execution_count": 34,
   "metadata": {},
   "outputs": [
    {
     "data": {
      "text/plain": [
       "0.8141695702671312"
      ]
     },
     "execution_count": 34,
     "metadata": {},
     "output_type": "execute_result"
    }
   ],
   "source": [
    "predictions = list(compdf['pred_class'].apply(myRound, r=225))\n",
    "true_class = list(compdf['true_class'])\n",
    "accuracy = np.sum(list(map(eqArray, predictions, true_class))) / len(true_class)\n",
    "accuracy"
   ]
  },
  {
   "cell_type": "code",
   "execution_count": 35,
   "metadata": {},
   "outputs": [],
   "source": [
    "from sklearn.metrics import confusion_matrix"
   ]
  },
  {
   "cell_type": "code",
   "execution_count": 36,
   "metadata": {},
   "outputs": [],
   "source": [
    "def myRound(x, r):\n",
    "    if x>r/float(1000):\n",
    "        return 1\n",
    "    else:\n",
    "        return 0"
   ]
  },
  {
   "cell_type": "code",
   "execution_count": 37,
   "metadata": {},
   "outputs": [
    {
     "data": {
      "text/plain": [
       "array([[1234,  227],\n",
       "       [  93,  168]], dtype=int64)"
      ]
     },
     "execution_count": 37,
     "metadata": {},
     "output_type": "execute_result"
    }
   ],
   "source": [
    "confm = confusion_matrix(true_class, predictions)\n",
    "confm"
   ]
  },
  {
   "cell_type": "code",
   "execution_count": 38,
   "metadata": {},
   "outputs": [
    {
     "data": {
      "text/plain": [
       "0.8141695702671312"
      ]
     },
     "execution_count": 38,
     "metadata": {},
     "output_type": "execute_result"
    }
   ],
   "source": [
    "tn, fp, fn, tp = confm.ravel()\n",
    "(tn + tp)/(tn+tp+fn+fp)"
   ]
  },
  {
   "cell_type": "code",
   "execution_count": 39,
   "metadata": {},
   "outputs": [
    {
     "name": "stdout",
     "output_type": "stream",
     "text": [
      "False alarm rate is\n"
     ]
    },
    {
     "data": {
      "text/plain": [
       "0.15537303216974674"
      ]
     },
     "execution_count": 39,
     "metadata": {},
     "output_type": "execute_result"
    }
   ],
   "source": [
    "print(\"False alarm rate is\")\n",
    "fp/(tn+fp)"
   ]
  },
  {
   "cell_type": "code",
   "execution_count": 40,
   "metadata": {},
   "outputs": [
    {
     "name": "stdout",
     "output_type": "stream",
     "text": [
      "Precision is\n"
     ]
    },
    {
     "data": {
      "text/plain": [
       "0.4253164556962025"
      ]
     },
     "execution_count": 40,
     "metadata": {},
     "output_type": "execute_result"
    }
   ],
   "source": [
    "print(\"Precision is\")\n",
    "Precision = tp/(tp+fp)\n",
    "Precision"
   ]
  },
  {
   "cell_type": "code",
   "execution_count": 41,
   "metadata": {},
   "outputs": [
    {
     "name": "stdout",
     "output_type": "stream",
     "text": [
      "Recall is\n"
     ]
    },
    {
     "data": {
      "text/plain": [
       "0.6436781609195402"
      ]
     },
     "execution_count": 41,
     "metadata": {},
     "output_type": "execute_result"
    }
   ],
   "source": [
    "print(\"Recall is\")\n",
    "Recall = tp/(tp+fn)\n",
    "Recall"
   ]
  },
  {
   "cell_type": "code",
   "execution_count": 42,
   "metadata": {},
   "outputs": [
    {
     "name": "stdout",
     "output_type": "stream",
     "text": [
      "F1 is\n"
     ]
    },
    {
     "data": {
      "text/plain": [
       "0.5121951219512195"
      ]
     },
     "execution_count": 42,
     "metadata": {},
     "output_type": "execute_result"
    }
   ],
   "source": [
    "print(\"F1 is\")\n",
    "2*Precision*Recall/(Precision+Recall)"
   ]
  },
  {
   "cell_type": "code",
   "execution_count": 43,
   "metadata": {},
   "outputs": [
    {
     "name": "stdout",
     "output_type": "stream",
     "text": [
      "Run Time: 7.1432\n"
     ]
    }
   ],
   "source": [
    "print(\"Run Time: %.4f\" % (end-start))"
   ]
  },
  {
   "cell_type": "code",
   "execution_count": null,
   "metadata": {},
   "outputs": [],
   "source": []
  }
 ],
 "metadata": {
  "kernelspec": {
   "display_name": "Python 3",
   "language": "python",
   "name": "python3"
  },
  "language_info": {
   "codemirror_mode": {
    "name": "ipython",
    "version": 3
   },
   "file_extension": ".py",
   "mimetype": "text/x-python",
   "name": "python",
   "nbconvert_exporter": "python",
   "pygments_lexer": "ipython3",
   "version": "3.6.9"
  }
 },
 "nbformat": 4,
 "nbformat_minor": 2
}
