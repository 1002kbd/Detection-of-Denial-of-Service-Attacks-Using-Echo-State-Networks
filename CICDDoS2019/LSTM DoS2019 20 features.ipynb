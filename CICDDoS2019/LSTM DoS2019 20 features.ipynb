{
 "cells": [
  {
   "cell_type": "code",
   "execution_count": 40,
   "metadata": {},
   "outputs": [],
   "source": [
    " import tensorflow as tf\n",
    "import pandas as pd\n",
    "import numpy as np\n",
    "import sklearn\n",
    "import matplotlib.pyplot as plt\n",
    "from sklearn.model_selection import train_test_split\n",
    "from sklearn import preprocessing"
   ]
  },
  {
   "cell_type": "code",
   "execution_count": 41,
   "metadata": {},
   "outputs": [],
   "source": [
    "def plot_graphs(history, string):\n",
    "    plt.plot(history.history[string])\n",
    "    # plt.plot(history.history['val_'+string], '')\n",
    "    plt.xlabel(\"Epochs\")\n",
    "    plt.ylabel(string)\n",
    "    # plt.legend([string, 'val_'+string])\n",
    "    plt.show()"
   ]
  },
  {
   "cell_type": "code",
   "execution_count": 42,
   "metadata": {},
   "outputs": [
    {
     "data": {
      "text/html": [
       "<div>\n",
       "<style scoped>\n",
       "    .dataframe tbody tr th:only-of-type {\n",
       "        vertical-align: middle;\n",
       "    }\n",
       "\n",
       "    .dataframe tbody tr th {\n",
       "        vertical-align: top;\n",
       "    }\n",
       "\n",
       "    .dataframe thead th {\n",
       "        text-align: right;\n",
       "    }\n",
       "</style>\n",
       "<table border=\"1\" class=\"dataframe\">\n",
       "  <thead>\n",
       "    <tr style=\"text-align: right;\">\n",
       "      <th></th>\n",
       "      <th>Unnamed: 0</th>\n",
       "      <th>Unnamed: 0.1</th>\n",
       "      <th>Unnamed: 0.1.1</th>\n",
       "      <th>Flow ID</th>\n",
       "      <th>Source IP</th>\n",
       "      <th>Source Port</th>\n",
       "      <th>Destination IP</th>\n",
       "      <th>Destination Port</th>\n",
       "      <th>Protocol</th>\n",
       "      <th>Timestamp</th>\n",
       "      <th>...</th>\n",
       "      <th>Active Max</th>\n",
       "      <th>Active Min</th>\n",
       "      <th>Idle Mean</th>\n",
       "      <th>Idle Std</th>\n",
       "      <th>Idle Max</th>\n",
       "      <th>Idle Min</th>\n",
       "      <th>SimillarHTTP</th>\n",
       "      <th>Inbound</th>\n",
       "      <th>Label</th>\n",
       "      <th>target</th>\n",
       "    </tr>\n",
       "  </thead>\n",
       "  <tbody>\n",
       "    <tr>\n",
       "      <td>0</td>\n",
       "      <td>331784</td>\n",
       "      <td>2383541</td>\n",
       "      <td>25018</td>\n",
       "      <td>172.16.0.5-192.168.50.1-900-51191-17</td>\n",
       "      <td>172.16.0.5</td>\n",
       "      <td>900</td>\n",
       "      <td>192.168.50.1</td>\n",
       "      <td>51191</td>\n",
       "      <td>17</td>\n",
       "      <td>2018-12-01 11:27:48.991419</td>\n",
       "      <td>...</td>\n",
       "      <td>0.0</td>\n",
       "      <td>0.0</td>\n",
       "      <td>0.0</td>\n",
       "      <td>0.0</td>\n",
       "      <td>0.0</td>\n",
       "      <td>0.0</td>\n",
       "      <td>0</td>\n",
       "      <td>1</td>\n",
       "      <td>DrDoS_LDAP</td>\n",
       "      <td>1</td>\n",
       "    </tr>\n",
       "    <tr>\n",
       "      <td>1</td>\n",
       "      <td>681538</td>\n",
       "      <td>2787990</td>\n",
       "      <td>3686</td>\n",
       "      <td>172.16.0.5-192.168.50.1-900-30666-17</td>\n",
       "      <td>172.16.0.5</td>\n",
       "      <td>900</td>\n",
       "      <td>192.168.50.1</td>\n",
       "      <td>30666</td>\n",
       "      <td>17</td>\n",
       "      <td>2018-12-01 11:29:40.752984</td>\n",
       "      <td>...</td>\n",
       "      <td>0.0</td>\n",
       "      <td>0.0</td>\n",
       "      <td>0.0</td>\n",
       "      <td>0.0</td>\n",
       "      <td>0.0</td>\n",
       "      <td>0.0</td>\n",
       "      <td>0</td>\n",
       "      <td>1</td>\n",
       "      <td>DrDoS_LDAP</td>\n",
       "      <td>1</td>\n",
       "    </tr>\n",
       "    <tr>\n",
       "      <td>2</td>\n",
       "      <td>129580</td>\n",
       "      <td>9703</td>\n",
       "      <td>7328</td>\n",
       "      <td>192.168.50.8-74.208.236.171-58739-80-6</td>\n",
       "      <td>192.168.50.8</td>\n",
       "      <td>58739</td>\n",
       "      <td>74.208.236.171</td>\n",
       "      <td>80</td>\n",
       "      <td>6</td>\n",
       "      <td>2018-12-01 09:58:53.243688</td>\n",
       "      <td>...</td>\n",
       "      <td>0.0</td>\n",
       "      <td>0.0</td>\n",
       "      <td>0.0</td>\n",
       "      <td>0.0</td>\n",
       "      <td>0.0</td>\n",
       "      <td>0.0</td>\n",
       "      <td>0</td>\n",
       "      <td>0</td>\n",
       "      <td>BENIGN</td>\n",
       "      <td>0</td>\n",
       "    </tr>\n",
       "    <tr>\n",
       "      <td>3</td>\n",
       "      <td>422212</td>\n",
       "      <td>630396</td>\n",
       "      <td>1480</td>\n",
       "      <td>172.16.0.5-192.168.50.1-780-975-17</td>\n",
       "      <td>172.16.0.5</td>\n",
       "      <td>780</td>\n",
       "      <td>192.168.50.1</td>\n",
       "      <td>975</td>\n",
       "      <td>17</td>\n",
       "      <td>2018-12-01 10:40:27.990422</td>\n",
       "      <td>...</td>\n",
       "      <td>0.0</td>\n",
       "      <td>0.0</td>\n",
       "      <td>0.0</td>\n",
       "      <td>0.0</td>\n",
       "      <td>0.0</td>\n",
       "      <td>0.0</td>\n",
       "      <td>0</td>\n",
       "      <td>1</td>\n",
       "      <td>DrDoS_NTP</td>\n",
       "      <td>1</td>\n",
       "    </tr>\n",
       "    <tr>\n",
       "      <td>4</td>\n",
       "      <td>67101</td>\n",
       "      <td>5034493</td>\n",
       "      <td>1847</td>\n",
       "      <td>172.217.10.98-192.168.50.7-80-52361-6</td>\n",
       "      <td>192.168.50.7</td>\n",
       "      <td>52361</td>\n",
       "      <td>172.217.10.98</td>\n",
       "      <td>80</td>\n",
       "      <td>6</td>\n",
       "      <td>2018-12-01 13:29:02.216554</td>\n",
       "      <td>...</td>\n",
       "      <td>0.0</td>\n",
       "      <td>0.0</td>\n",
       "      <td>0.0</td>\n",
       "      <td>0.0</td>\n",
       "      <td>0.0</td>\n",
       "      <td>0.0</td>\n",
       "      <td>0</td>\n",
       "      <td>0</td>\n",
       "      <td>BENIGN</td>\n",
       "      <td>0</td>\n",
       "    </tr>\n",
       "  </tbody>\n",
       "</table>\n",
       "<p>5 rows × 91 columns</p>\n",
       "</div>"
      ],
      "text/plain": [
       "   Unnamed: 0  Unnamed: 0.1  Unnamed: 0.1.1  \\\n",
       "0      331784       2383541           25018   \n",
       "1      681538       2787990            3686   \n",
       "2      129580          9703            7328   \n",
       "3      422212        630396            1480   \n",
       "4       67101       5034493            1847   \n",
       "\n",
       "                                  Flow ID     Source IP   Source Port  \\\n",
       "0    172.16.0.5-192.168.50.1-900-51191-17    172.16.0.5           900   \n",
       "1    172.16.0.5-192.168.50.1-900-30666-17    172.16.0.5           900   \n",
       "2  192.168.50.8-74.208.236.171-58739-80-6  192.168.50.8         58739   \n",
       "3      172.16.0.5-192.168.50.1-780-975-17    172.16.0.5           780   \n",
       "4   172.217.10.98-192.168.50.7-80-52361-6  192.168.50.7         52361   \n",
       "\n",
       "   Destination IP   Destination Port   Protocol                   Timestamp  \\\n",
       "0    192.168.50.1              51191         17  2018-12-01 11:27:48.991419   \n",
       "1    192.168.50.1              30666         17  2018-12-01 11:29:40.752984   \n",
       "2  74.208.236.171                 80          6  2018-12-01 09:58:53.243688   \n",
       "3    192.168.50.1                975         17  2018-12-01 10:40:27.990422   \n",
       "4   172.217.10.98                 80          6  2018-12-01 13:29:02.216554   \n",
       "\n",
       "   ...   Active Max   Active Min  Idle Mean   Idle Std   Idle Max   Idle Min  \\\n",
       "0  ...          0.0          0.0        0.0        0.0        0.0        0.0   \n",
       "1  ...          0.0          0.0        0.0        0.0        0.0        0.0   \n",
       "2  ...          0.0          0.0        0.0        0.0        0.0        0.0   \n",
       "3  ...          0.0          0.0        0.0        0.0        0.0        0.0   \n",
       "4  ...          0.0          0.0        0.0        0.0        0.0        0.0   \n",
       "\n",
       "   SimillarHTTP   Inbound       Label  target  \n",
       "0             0         1  DrDoS_LDAP       1  \n",
       "1             0         1  DrDoS_LDAP       1  \n",
       "2             0         0      BENIGN       0  \n",
       "3             0         1   DrDoS_NTP       1  \n",
       "4             0         0      BENIGN       0  \n",
       "\n",
       "[5 rows x 91 columns]"
      ]
     },
     "execution_count": 42,
     "metadata": {},
     "output_type": "execute_result"
    }
   ],
   "source": [
    "df1 = pd.read_csv('short_oversampled_CICDDoS2019.csv')\n",
    "df1.head()"
   ]
  },
  {
   "cell_type": "code",
   "execution_count": 43,
   "metadata": {},
   "outputs": [
    {
     "data": {
      "text/html": [
       "<div>\n",
       "<style scoped>\n",
       "    .dataframe tbody tr th:only-of-type {\n",
       "        vertical-align: middle;\n",
       "    }\n",
       "\n",
       "    .dataframe tbody tr th {\n",
       "        vertical-align: top;\n",
       "    }\n",
       "\n",
       "    .dataframe thead th {\n",
       "        text-align: right;\n",
       "    }\n",
       "</style>\n",
       "<table border=\"1\" class=\"dataframe\">\n",
       "  <thead>\n",
       "    <tr style=\"text-align: right;\">\n",
       "      <th></th>\n",
       "      <th>Flow ID</th>\n",
       "      <th>Source IP</th>\n",
       "      <th>Source Port</th>\n",
       "      <th>Destination IP</th>\n",
       "      <th>Destination Port</th>\n",
       "      <th>Protocol</th>\n",
       "      <th>Timestamp</th>\n",
       "      <th>Flow Duration</th>\n",
       "      <th>Total Fwd Packets</th>\n",
       "      <th>Total Backward Packets</th>\n",
       "      <th>...</th>\n",
       "      <th>Active Std</th>\n",
       "      <th>Active Max</th>\n",
       "      <th>Active Min</th>\n",
       "      <th>Idle Mean</th>\n",
       "      <th>Idle Std</th>\n",
       "      <th>Idle Max</th>\n",
       "      <th>Idle Min</th>\n",
       "      <th>SimillarHTTP</th>\n",
       "      <th>Label</th>\n",
       "      <th>BiFlowsCount</th>\n",
       "    </tr>\n",
       "  </thead>\n",
       "  <tbody>\n",
       "    <tr>\n",
       "      <td>0</td>\n",
       "      <td>172.16.0.5-192.168.50.1-900-51191-17</td>\n",
       "      <td>172.16.0.5</td>\n",
       "      <td>900</td>\n",
       "      <td>192.168.50.1</td>\n",
       "      <td>51191</td>\n",
       "      <td>17</td>\n",
       "      <td>2018-12-01 11:27:48.991419</td>\n",
       "      <td>2</td>\n",
       "      <td>2</td>\n",
       "      <td>0</td>\n",
       "      <td>...</td>\n",
       "      <td>0.0</td>\n",
       "      <td>0.0</td>\n",
       "      <td>0.0</td>\n",
       "      <td>0.0</td>\n",
       "      <td>0.0</td>\n",
       "      <td>0.0</td>\n",
       "      <td>0.0</td>\n",
       "      <td>0</td>\n",
       "      <td>DrDoS_LDAP</td>\n",
       "      <td>1</td>\n",
       "    </tr>\n",
       "    <tr>\n",
       "      <td>1</td>\n",
       "      <td>172.16.0.5-192.168.50.1-900-30666-17</td>\n",
       "      <td>172.16.0.5</td>\n",
       "      <td>900</td>\n",
       "      <td>192.168.50.1</td>\n",
       "      <td>30666</td>\n",
       "      <td>17</td>\n",
       "      <td>2018-12-01 11:29:40.752984</td>\n",
       "      <td>1</td>\n",
       "      <td>2</td>\n",
       "      <td>0</td>\n",
       "      <td>...</td>\n",
       "      <td>0.0</td>\n",
       "      <td>0.0</td>\n",
       "      <td>0.0</td>\n",
       "      <td>0.0</td>\n",
       "      <td>0.0</td>\n",
       "      <td>0.0</td>\n",
       "      <td>0.0</td>\n",
       "      <td>0</td>\n",
       "      <td>DrDoS_LDAP</td>\n",
       "      <td>1</td>\n",
       "    </tr>\n",
       "    <tr>\n",
       "      <td>2</td>\n",
       "      <td>192.168.50.8-74.208.236.171-58739-80-6</td>\n",
       "      <td>192.168.50.8</td>\n",
       "      <td>58739</td>\n",
       "      <td>74.208.236.171</td>\n",
       "      <td>80</td>\n",
       "      <td>6</td>\n",
       "      <td>2018-12-01 09:58:53.243688</td>\n",
       "      <td>7286835</td>\n",
       "      <td>2</td>\n",
       "      <td>8</td>\n",
       "      <td>...</td>\n",
       "      <td>0.0</td>\n",
       "      <td>0.0</td>\n",
       "      <td>0.0</td>\n",
       "      <td>0.0</td>\n",
       "      <td>0.0</td>\n",
       "      <td>0.0</td>\n",
       "      <td>0.0</td>\n",
       "      <td>0</td>\n",
       "      <td>BENIGN</td>\n",
       "      <td>159</td>\n",
       "    </tr>\n",
       "    <tr>\n",
       "      <td>3</td>\n",
       "      <td>192.168.50.8-74.208.236.171-58739-80-6</td>\n",
       "      <td>192.168.50.8</td>\n",
       "      <td>58739</td>\n",
       "      <td>74.208.236.171</td>\n",
       "      <td>80</td>\n",
       "      <td>6</td>\n",
       "      <td>2018-12-01 09:58:53.243688</td>\n",
       "      <td>7286835</td>\n",
       "      <td>2</td>\n",
       "      <td>8</td>\n",
       "      <td>...</td>\n",
       "      <td>0.0</td>\n",
       "      <td>0.0</td>\n",
       "      <td>0.0</td>\n",
       "      <td>0.0</td>\n",
       "      <td>0.0</td>\n",
       "      <td>0.0</td>\n",
       "      <td>0.0</td>\n",
       "      <td>0</td>\n",
       "      <td>BENIGN</td>\n",
       "      <td>159</td>\n",
       "    </tr>\n",
       "    <tr>\n",
       "      <td>4</td>\n",
       "      <td>192.168.50.8-74.208.236.171-58739-80-6</td>\n",
       "      <td>192.168.50.8</td>\n",
       "      <td>58739</td>\n",
       "      <td>74.208.236.171</td>\n",
       "      <td>80</td>\n",
       "      <td>6</td>\n",
       "      <td>2018-12-01 09:58:53.243688</td>\n",
       "      <td>7286835</td>\n",
       "      <td>2</td>\n",
       "      <td>8</td>\n",
       "      <td>...</td>\n",
       "      <td>0.0</td>\n",
       "      <td>0.0</td>\n",
       "      <td>0.0</td>\n",
       "      <td>0.0</td>\n",
       "      <td>0.0</td>\n",
       "      <td>0.0</td>\n",
       "      <td>0.0</td>\n",
       "      <td>0</td>\n",
       "      <td>BENIGN</td>\n",
       "      <td>159</td>\n",
       "    </tr>\n",
       "    <tr>\n",
       "      <td>...</td>\n",
       "      <td>...</td>\n",
       "      <td>...</td>\n",
       "      <td>...</td>\n",
       "      <td>...</td>\n",
       "      <td>...</td>\n",
       "      <td>...</td>\n",
       "      <td>...</td>\n",
       "      <td>...</td>\n",
       "      <td>...</td>\n",
       "      <td>...</td>\n",
       "      <td>...</td>\n",
       "      <td>...</td>\n",
       "      <td>...</td>\n",
       "      <td>...</td>\n",
       "      <td>...</td>\n",
       "      <td>...</td>\n",
       "      <td>...</td>\n",
       "      <td>...</td>\n",
       "      <td>...</td>\n",
       "      <td>...</td>\n",
       "      <td>...</td>\n",
       "    </tr>\n",
       "    <tr>\n",
       "      <td>999995</td>\n",
       "      <td>172.16.0.5-192.168.50.1-783-1285-17</td>\n",
       "      <td>172.16.0.5</td>\n",
       "      <td>783</td>\n",
       "      <td>192.168.50.1</td>\n",
       "      <td>1285</td>\n",
       "      <td>17</td>\n",
       "      <td>2018-12-01 11:25:22.598985</td>\n",
       "      <td>1</td>\n",
       "      <td>2</td>\n",
       "      <td>0</td>\n",
       "      <td>...</td>\n",
       "      <td>0.0</td>\n",
       "      <td>0.0</td>\n",
       "      <td>0.0</td>\n",
       "      <td>0.0</td>\n",
       "      <td>0.0</td>\n",
       "      <td>0.0</td>\n",
       "      <td>0.0</td>\n",
       "      <td>0</td>\n",
       "      <td>DrDoS_LDAP</td>\n",
       "      <td>1</td>\n",
       "    </tr>\n",
       "    <tr>\n",
       "      <td>999996</td>\n",
       "      <td>172.16.0.5-192.168.50.1-798-28534-17</td>\n",
       "      <td>172.16.0.5</td>\n",
       "      <td>798</td>\n",
       "      <td>192.168.50.1</td>\n",
       "      <td>28534</td>\n",
       "      <td>17</td>\n",
       "      <td>2018-12-01 11:26:13.214604</td>\n",
       "      <td>1</td>\n",
       "      <td>2</td>\n",
       "      <td>0</td>\n",
       "      <td>...</td>\n",
       "      <td>0.0</td>\n",
       "      <td>0.0</td>\n",
       "      <td>0.0</td>\n",
       "      <td>0.0</td>\n",
       "      <td>0.0</td>\n",
       "      <td>0.0</td>\n",
       "      <td>0.0</td>\n",
       "      <td>0</td>\n",
       "      <td>DrDoS_LDAP</td>\n",
       "      <td>1</td>\n",
       "    </tr>\n",
       "    <tr>\n",
       "      <td>999997</td>\n",
       "      <td>172.16.0.5-192.168.50.1-975-62605-17</td>\n",
       "      <td>172.16.0.5</td>\n",
       "      <td>975</td>\n",
       "      <td>192.168.50.1</td>\n",
       "      <td>62605</td>\n",
       "      <td>17</td>\n",
       "      <td>2018-12-01 11:28:10.369171</td>\n",
       "      <td>1</td>\n",
       "      <td>2</td>\n",
       "      <td>0</td>\n",
       "      <td>...</td>\n",
       "      <td>0.0</td>\n",
       "      <td>0.0</td>\n",
       "      <td>0.0</td>\n",
       "      <td>0.0</td>\n",
       "      <td>0.0</td>\n",
       "      <td>0.0</td>\n",
       "      <td>0.0</td>\n",
       "      <td>0</td>\n",
       "      <td>DrDoS_LDAP</td>\n",
       "      <td>1</td>\n",
       "    </tr>\n",
       "    <tr>\n",
       "      <td>999998</td>\n",
       "      <td>172.16.0.5-192.168.50.1-518-50242-17</td>\n",
       "      <td>172.16.0.5</td>\n",
       "      <td>518</td>\n",
       "      <td>192.168.50.1</td>\n",
       "      <td>50242</td>\n",
       "      <td>17</td>\n",
       "      <td>2018-12-01 11:23:48.951612</td>\n",
       "      <td>1</td>\n",
       "      <td>2</td>\n",
       "      <td>0</td>\n",
       "      <td>...</td>\n",
       "      <td>0.0</td>\n",
       "      <td>0.0</td>\n",
       "      <td>0.0</td>\n",
       "      <td>0.0</td>\n",
       "      <td>0.0</td>\n",
       "      <td>0.0</td>\n",
       "      <td>0.0</td>\n",
       "      <td>0</td>\n",
       "      <td>DrDoS_LDAP</td>\n",
       "      <td>1</td>\n",
       "    </tr>\n",
       "    <tr>\n",
       "      <td>999999</td>\n",
       "      <td>172.16.0.5-192.168.50.1-49694-64325-6</td>\n",
       "      <td>172.16.0.5</td>\n",
       "      <td>49694</td>\n",
       "      <td>192.168.50.1</td>\n",
       "      <td>64325</td>\n",
       "      <td>6</td>\n",
       "      <td>2018-12-01 13:30:04.263978</td>\n",
       "      <td>0</td>\n",
       "      <td>2</td>\n",
       "      <td>0</td>\n",
       "      <td>...</td>\n",
       "      <td>0.0</td>\n",
       "      <td>0.0</td>\n",
       "      <td>0.0</td>\n",
       "      <td>0.0</td>\n",
       "      <td>0.0</td>\n",
       "      <td>0.0</td>\n",
       "      <td>0.0</td>\n",
       "      <td>0</td>\n",
       "      <td>UDP-lag</td>\n",
       "      <td>1</td>\n",
       "    </tr>\n",
       "  </tbody>\n",
       "</table>\n",
       "<p>1000000 rows × 87 columns</p>\n",
       "</div>"
      ],
      "text/plain": [
       "                                       Flow ID     Source IP   Source Port  \\\n",
       "0         172.16.0.5-192.168.50.1-900-51191-17    172.16.0.5           900   \n",
       "1         172.16.0.5-192.168.50.1-900-30666-17    172.16.0.5           900   \n",
       "2       192.168.50.8-74.208.236.171-58739-80-6  192.168.50.8         58739   \n",
       "3       192.168.50.8-74.208.236.171-58739-80-6  192.168.50.8         58739   \n",
       "4       192.168.50.8-74.208.236.171-58739-80-6  192.168.50.8         58739   \n",
       "...                                        ...           ...           ...   \n",
       "999995     172.16.0.5-192.168.50.1-783-1285-17    172.16.0.5           783   \n",
       "999996    172.16.0.5-192.168.50.1-798-28534-17    172.16.0.5           798   \n",
       "999997    172.16.0.5-192.168.50.1-975-62605-17    172.16.0.5           975   \n",
       "999998    172.16.0.5-192.168.50.1-518-50242-17    172.16.0.5           518   \n",
       "999999   172.16.0.5-192.168.50.1-49694-64325-6    172.16.0.5         49694   \n",
       "\n",
       "        Destination IP   Destination Port   Protocol  \\\n",
       "0         192.168.50.1              51191         17   \n",
       "1         192.168.50.1              30666         17   \n",
       "2       74.208.236.171                 80          6   \n",
       "3       74.208.236.171                 80          6   \n",
       "4       74.208.236.171                 80          6   \n",
       "...                ...                ...        ...   \n",
       "999995    192.168.50.1               1285         17   \n",
       "999996    192.168.50.1              28534         17   \n",
       "999997    192.168.50.1              62605         17   \n",
       "999998    192.168.50.1              50242         17   \n",
       "999999    192.168.50.1              64325          6   \n",
       "\n",
       "                         Timestamp   Flow Duration   Total Fwd Packets  \\\n",
       "0       2018-12-01 11:27:48.991419               2                   2   \n",
       "1       2018-12-01 11:29:40.752984               1                   2   \n",
       "2       2018-12-01 09:58:53.243688         7286835                   2   \n",
       "3       2018-12-01 09:58:53.243688         7286835                   2   \n",
       "4       2018-12-01 09:58:53.243688         7286835                   2   \n",
       "...                            ...             ...                 ...   \n",
       "999995  2018-12-01 11:25:22.598985               1                   2   \n",
       "999996  2018-12-01 11:26:13.214604               1                   2   \n",
       "999997  2018-12-01 11:28:10.369171               1                   2   \n",
       "999998  2018-12-01 11:23:48.951612               1                   2   \n",
       "999999  2018-12-01 13:30:04.263978               0                   2   \n",
       "\n",
       "         Total Backward Packets  ...   Active Std   Active Max   Active Min  \\\n",
       "0                             0  ...          0.0          0.0          0.0   \n",
       "1                             0  ...          0.0          0.0          0.0   \n",
       "2                             8  ...          0.0          0.0          0.0   \n",
       "3                             8  ...          0.0          0.0          0.0   \n",
       "4                             8  ...          0.0          0.0          0.0   \n",
       "...                         ...  ...          ...          ...          ...   \n",
       "999995                        0  ...          0.0          0.0          0.0   \n",
       "999996                        0  ...          0.0          0.0          0.0   \n",
       "999997                        0  ...          0.0          0.0          0.0   \n",
       "999998                        0  ...          0.0          0.0          0.0   \n",
       "999999                        0  ...          0.0          0.0          0.0   \n",
       "\n",
       "        Idle Mean   Idle Std   Idle Max   Idle Min  SimillarHTTP       Label  \\\n",
       "0             0.0        0.0        0.0        0.0             0  DrDoS_LDAP   \n",
       "1             0.0        0.0        0.0        0.0             0  DrDoS_LDAP   \n",
       "2             0.0        0.0        0.0        0.0             0      BENIGN   \n",
       "3             0.0        0.0        0.0        0.0             0      BENIGN   \n",
       "4             0.0        0.0        0.0        0.0             0      BENIGN   \n",
       "...           ...        ...        ...        ...           ...         ...   \n",
       "999995        0.0        0.0        0.0        0.0             0  DrDoS_LDAP   \n",
       "999996        0.0        0.0        0.0        0.0             0  DrDoS_LDAP   \n",
       "999997        0.0        0.0        0.0        0.0             0  DrDoS_LDAP   \n",
       "999998        0.0        0.0        0.0        0.0             0  DrDoS_LDAP   \n",
       "999999        0.0        0.0        0.0        0.0             0     UDP-lag   \n",
       "\n",
       "        BiFlowsCount  \n",
       "0                  1  \n",
       "1                  1  \n",
       "2                159  \n",
       "3                159  \n",
       "4                159  \n",
       "...              ...  \n",
       "999995             1  \n",
       "999996             1  \n",
       "999997             1  \n",
       "999998             1  \n",
       "999999             1  \n",
       "\n",
       "[1000000 rows x 87 columns]"
      ]
     },
     "execution_count": 43,
     "metadata": {},
     "output_type": "execute_result"
    }
   ],
   "source": [
    "df2 = df1.groupby([' Timestamp'])[' Flow Duration'].count()\n",
    "df2 = pd.DataFrame(df2).reset_index()\n",
    "df2.columns=[' Timestamp','BiFlowsCount']\n",
    "df = df1.merge(df2, left_on=' Timestamp', right_on=' Timestamp')\n",
    "#df = df.sort_values(' Timestamp')\n",
    "del df['Unnamed: 0']\n",
    "del df['Unnamed: 0.1']\n",
    "del df['Unnamed: 0.1.1']\n",
    "del df['target']\n",
    "del df[' Inbound']\n",
    "df"
   ]
  },
  {
   "cell_type": "code",
   "execution_count": 44,
   "metadata": {},
   "outputs": [
    {
     "data": {
      "text/plain": [
       "Index(['Flow ID', ' Source IP', ' Source Port', ' Destination IP',\n",
       "       ' Destination Port', ' Protocol', ' Timestamp', ' Flow Duration',\n",
       "       ' Total Fwd Packets', ' Total Backward Packets',\n",
       "       'Total Length of Fwd Packets', ' Total Length of Bwd Packets',\n",
       "       ' Fwd Packet Length Max', ' Fwd Packet Length Min',\n",
       "       ' Fwd Packet Length Mean', ' Fwd Packet Length Std',\n",
       "       'Bwd Packet Length Max', ' Bwd Packet Length Min',\n",
       "       ' Bwd Packet Length Mean', ' Bwd Packet Length Std', 'Flow Bytes/s',\n",
       "       ' Flow Packets/s', ' Flow IAT Mean', ' Flow IAT Std', ' Flow IAT Max',\n",
       "       ' Flow IAT Min', 'Fwd IAT Total', ' Fwd IAT Mean', ' Fwd IAT Std',\n",
       "       ' Fwd IAT Max', ' Fwd IAT Min', 'Bwd IAT Total', ' Bwd IAT Mean',\n",
       "       ' Bwd IAT Std', ' Bwd IAT Max', ' Bwd IAT Min', 'Fwd PSH Flags',\n",
       "       ' Bwd PSH Flags', ' Fwd URG Flags', ' Bwd URG Flags',\n",
       "       ' Fwd Header Length', ' Bwd Header Length', 'Fwd Packets/s',\n",
       "       ' Bwd Packets/s', ' Min Packet Length', ' Max Packet Length',\n",
       "       ' Packet Length Mean', ' Packet Length Std', ' Packet Length Variance',\n",
       "       'FIN Flag Count', ' SYN Flag Count', ' RST Flag Count',\n",
       "       ' PSH Flag Count', ' ACK Flag Count', ' URG Flag Count',\n",
       "       ' CWE Flag Count', ' ECE Flag Count', ' Down/Up Ratio',\n",
       "       ' Average Packet Size', ' Avg Fwd Segment Size',\n",
       "       ' Avg Bwd Segment Size', ' Fwd Header Length.1', 'Fwd Avg Bytes/Bulk',\n",
       "       ' Fwd Avg Packets/Bulk', ' Fwd Avg Bulk Rate', ' Bwd Avg Bytes/Bulk',\n",
       "       ' Bwd Avg Packets/Bulk', 'Bwd Avg Bulk Rate', 'Subflow Fwd Packets',\n",
       "       ' Subflow Fwd Bytes', ' Subflow Bwd Packets', ' Subflow Bwd Bytes',\n",
       "       'Init_Win_bytes_forward', ' Init_Win_bytes_backward',\n",
       "       ' act_data_pkt_fwd', ' min_seg_size_forward', 'Active Mean',\n",
       "       ' Active Std', ' Active Max', ' Active Min', 'Idle Mean', ' Idle Std',\n",
       "       ' Idle Max', ' Idle Min', 'SimillarHTTP', ' Label', 'BiFlowsCount'],\n",
       "      dtype='object')"
      ]
     },
     "execution_count": 44,
     "metadata": {},
     "output_type": "execute_result"
    }
   ],
   "source": [
    "df.columns"
   ]
  },
  {
   "cell_type": "code",
   "execution_count": 45,
   "metadata": {},
   "outputs": [],
   "source": [
    "features = ['BiFlowsCount', ' Source Port', ' Destination Port', ' URG Flag Count', ' ACK Flag Count', ' Fwd Packet Length Min',\n",
    "' Avg Fwd Segment Size', 'Fwd Packets/s', ' Min Packet Length', ' Fwd Packet Length Mean', ' Flow Packets/s', ' Packet Length Mean',\n",
    "' CWE Flag Count', ' Protocol', ' Average Packet Size', ' Down/Up Ratio', 'Flow Bytes/s', 'Init_Win_bytes_forward', ' RST Flag Count',\n",
    "' Bwd IAT Min']"
   ]
  },
  {
   "cell_type": "code",
   "execution_count": 72,
   "metadata": {},
   "outputs": [],
   "source": [
    "fraction = 0.5\n",
    "df = df.sample(frac=fraction, replace=True, random_state=1)"
   ]
  },
  {
   "cell_type": "code",
   "execution_count": 73,
   "metadata": {},
   "outputs": [],
   "source": [
    "def targetify(s):\n",
    "    if s == 'BENIGN':\n",
    "        return 0\n",
    "    else:\n",
    "        return 1"
   ]
  },
  {
   "cell_type": "code",
   "execution_count": 74,
   "metadata": {},
   "outputs": [],
   "source": [
    "df['Target']=df[' Label'].apply(targetify)"
   ]
  },
  {
   "cell_type": "code",
   "execution_count": 75,
   "metadata": {},
   "outputs": [
    {
     "name": "stderr",
     "output_type": "stream",
     "text": [
      "C:\\Users\\kdagi\\Anaconda3\\lib\\site-packages\\pandas\\core\\frame.py:3494: SettingWithCopyWarning: \n",
      "A value is trying to be set on a copy of a slice from a DataFrame.\n",
      "Try using .loc[row_indexer,col_indexer] = value instead\n",
      "\n",
      "See the caveats in the documentation: http://pandas.pydata.org/pandas-docs/stable/user_guide/indexing.html#returning-a-view-versus-a-copy\n",
      "  self[k1] = value[k2]\n"
     ]
    }
   ],
   "source": [
    "X = df[features]\n",
    "X[features] = X[features].apply(pd.to_numeric, errors='coerce', axis=1)"
   ]
  },
  {
   "cell_type": "code",
   "execution_count": 76,
   "metadata": {},
   "outputs": [],
   "source": [
    "y = df['Target']"
   ]
  },
  {
   "cell_type": "code",
   "execution_count": 77,
   "metadata": {},
   "outputs": [],
   "source": [
    "X = X.fillna(0)"
   ]
  },
  {
   "cell_type": "code",
   "execution_count": 78,
   "metadata": {},
   "outputs": [
    {
     "name": "stdout",
     "output_type": "stream",
     "text": [
      "(400000, 20) (400000,)\n",
      "(100000, 20) (100000,)\n"
     ]
    }
   ],
   "source": [
    "X_train, X_test, y_train, y_test = train_test_split(X, y, test_size=0.2)\n",
    "print (X_train.shape, y_train.shape)\n",
    "print( X_test.shape, y_test.shape)"
   ]
  },
  {
   "cell_type": "code",
   "execution_count": 79,
   "metadata": {},
   "outputs": [],
   "source": [
    "min_max_scaler = preprocessing.MinMaxScaler()\n",
    "x_scaled = min_max_scaler.fit_transform(X_train.values)\n",
    "X_train = pd.DataFrame(x_scaled,columns=features)\n",
    "x_scaled_test = min_max_scaler.fit_transform(X_test.values)\n",
    "X_test = pd.DataFrame(x_scaled_test,columns=features)"
   ]
  },
  {
   "cell_type": "code",
   "execution_count": 80,
   "metadata": {},
   "outputs": [],
   "source": [
    "model = tf.keras.Sequential([\n",
    "    # An Embedding layer expecting input vocab of size 100000, and\n",
    "# output embedding dimension of size 64.\n",
    "    tf.keras.layers.Embedding(100000, 64), # since it doesn't consider \"words,\" the embedding doesn't really matter\n",
    "    tf.keras.layers.Bidirectional(tf.keras.layers.LSTM(64)), # units = 64\n",
    "    tf.keras.layers.Dense(64, activation='relu'), # 64 units, activation = relu\n",
    "    tf.keras.layers.Dense(1, activation='sigmoid') # 1 unit, activation sigmoid\n",
    "    # tf.keras.layers.Dense(1, activation='softmax') # loss too big\n",
    "]) "
   ]
  },
  {
   "cell_type": "code",
   "execution_count": 81,
   "metadata": {},
   "outputs": [],
   "source": [
    "model.compile(loss='binary_crossentropy',\n",
    "              # optimizer='sgd', # almost same\n",
    "              optimizer=tf.keras.optimizers.Adam(1e-4),\n",
    "              metrics=['accuracy'])\n",
    "\n",
    "#Once the model is created, you can config the model with losses and metrics with model.compile(), train the model with model.fit(), or use the model to do prediction with model.predict()."
   ]
  },
  {
   "cell_type": "code",
   "execution_count": 82,
   "metadata": {},
   "outputs": [
    {
     "name": "stdout",
     "output_type": "stream",
     "text": [
      "Train on 400000 samples\n",
      "Epoch 1/3\n",
      "400000/400000 [==============================] - 8177s 20ms/sample - loss: 0.4329 - accuracy: 0.7504\n",
      "Epoch 2/3\n",
      "400000/400000 [==============================] - 30615s 77ms/sample - loss: 0.4060 - accuracy: 0.7676\n",
      "Epoch 3/3\n",
      "400000/400000 [==============================] - 6608s 17ms/sample - loss: 0.4049 - accuracy: 0.7683\n"
     ]
    }
   ],
   "source": [
    "history = model.fit(X_train.values, y_train.values, epochs=3)\n"
   ]
  },
  {
   "cell_type": "code",
   "execution_count": 83,
   "metadata": {},
   "outputs": [
    {
     "name": "stdout",
     "output_type": "stream",
     "text": [
      "[[0.6640037 ]\n",
      " [0.99981433]\n",
      " [0.6640037 ]\n",
      " ...\n",
      " [0.0019826 ]\n",
      " [0.3901229 ]\n",
      " [0.99981433]]\n"
     ]
    }
   ],
   "source": [
    "pred_class = model.predict(X_test.values[:])\n",
    "print(pred_class)"
   ]
  },
  {
   "cell_type": "code",
   "execution_count": 84,
   "metadata": {},
   "outputs": [],
   "source": [
    "def myRound(x, r):\n",
    "    if x>r/float(1000):\n",
    "        return 1\n",
    "    else:\n",
    "        return 0"
   ]
  },
  {
   "cell_type": "code",
   "execution_count": 85,
   "metadata": {},
   "outputs": [
    {
     "name": "stdout",
     "output_type": "stream",
     "text": [
      "1.0\n",
      "1.0\n"
     ]
    }
   ],
   "source": [
    "print(round(pred_class[2][0]))\n",
    "print(round(pred_class[1][0]))"
   ]
  },
  {
   "cell_type": "code",
   "execution_count": 86,
   "metadata": {},
   "outputs": [],
   "source": [
    "predictions = [int(round(x[0])) for x in pred_class]\n",
    "true_class = list(y_test)"
   ]
  },
  {
   "cell_type": "code",
   "execution_count": 87,
   "metadata": {},
   "outputs": [
    {
     "name": "stdout",
     "output_type": "stream",
     "text": [
      "[0, 1, 0, 0, 0, 0, 0, 0, 0, 1] 100000\n",
      "[1, 1, 1, 0, 0, 0, 1, 0, 0, 1] 100000\n"
     ]
    }
   ],
   "source": [
    "print(true_class[:10], len(true_class))\n",
    "print(predictions[:10], len(predictions))"
   ]
  },
  {
   "cell_type": "code",
   "execution_count": 88,
   "metadata": {},
   "outputs": [
    {
     "name": "stdout",
     "output_type": "stream",
     "text": [
      "       pred_class  true_class\n",
      "0               1           0\n",
      "54139           1           1\n",
      "54072           1           1\n",
      "54074           1           1\n",
      "54075           1           1\n",
      "54080           1           1\n",
      "54081           1           1\n",
      "54082           1           1\n",
      "54084           1           1\n",
      "54085           1           1\n"
     ]
    }
   ],
   "source": [
    "compdf = pd.DataFrame({'pred_class':predictions, 'true_class':true_class})\n",
    "compdf = compdf.sort_values('pred_class', ascending=False)\n",
    "print(str(compdf.head(10)))"
   ]
  },
  {
   "cell_type": "code",
   "execution_count": 89,
   "metadata": {},
   "outputs": [],
   "source": [
    "predictions = list(compdf['pred_class'].apply(myRound, r=225))\n",
    "true_class = list(compdf['true_class'])"
   ]
  },
  {
   "cell_type": "code",
   "execution_count": 90,
   "metadata": {},
   "outputs": [
    {
     "name": "stdout",
     "output_type": "stream",
     "text": [
      "[1, 1, 1, 1, 1, 1, 1, 1, 1, 1]\n",
      "[0, 1, 1, 1, 1, 1, 1, 1, 1, 1]\n"
     ]
    }
   ],
   "source": [
    "print(predictions[:10])\n",
    "print(true_class[:10])"
   ]
  },
  {
   "cell_type": "code",
   "execution_count": 91,
   "metadata": {},
   "outputs": [],
   "source": [
    "from sklearn.metrics import confusion_matrix"
   ]
  },
  {
   "cell_type": "code",
   "execution_count": 92,
   "metadata": {},
   "outputs": [
    {
     "data": {
      "text/plain": [
       "array([[40757,  9121],\n",
       "       [14080, 36042]], dtype=int64)"
      ]
     },
     "execution_count": 92,
     "metadata": {},
     "output_type": "execute_result"
    }
   ],
   "source": [
    "confm = confusion_matrix(true_class, predictions)\n",
    "confm"
   ]
  },
  {
   "cell_type": "code",
   "execution_count": 93,
   "metadata": {},
   "outputs": [
    {
     "data": {
      "text/plain": [
       "0.76799"
      ]
     },
     "execution_count": 93,
     "metadata": {},
     "output_type": "execute_result"
    }
   ],
   "source": [
    "tn, fp, fn, tp = confm.ravel()\n",
    "(tn + tp)/(tn+tp+fn+fp)"
   ]
  },
  {
   "cell_type": "code",
   "execution_count": 94,
   "metadata": {},
   "outputs": [
    {
     "name": "stdout",
     "output_type": "stream",
     "text": [
      "False alarm rate is\n"
     ]
    },
    {
     "data": {
      "text/plain": [
       "0.1828661935121697"
      ]
     },
     "execution_count": 94,
     "metadata": {},
     "output_type": "execute_result"
    }
   ],
   "source": [
    "print(\"False alarm rate is\")\n",
    "fp/(tn+fp)"
   ]
  },
  {
   "cell_type": "code",
   "execution_count": 95,
   "metadata": {},
   "outputs": [
    {
     "name": "stdout",
     "output_type": "stream",
     "text": [
      "Precision is\n"
     ]
    },
    {
     "data": {
      "text/plain": [
       "0.7980426455284193"
      ]
     },
     "execution_count": 95,
     "metadata": {},
     "output_type": "execute_result"
    }
   ],
   "source": [
    "print(\"Precision is\")\n",
    "Precision = tp/(tp+fp)\n",
    "Precision"
   ]
  },
  {
   "cell_type": "code",
   "execution_count": 96,
   "metadata": {},
   "outputs": [
    {
     "name": "stdout",
     "output_type": "stream",
     "text": [
      "Recall is\n"
     ]
    },
    {
     "data": {
      "text/plain": [
       "0.7190854315470253"
      ]
     },
     "execution_count": 96,
     "metadata": {},
     "output_type": "execute_result"
    }
   ],
   "source": [
    "print(\"Recall is\")\n",
    "Recall = tp/(tp+fn)\n",
    "Recall"
   ]
  },
  {
   "cell_type": "code",
   "execution_count": 97,
   "metadata": {},
   "outputs": [
    {
     "name": "stdout",
     "output_type": "stream",
     "text": [
      "F1 is\n"
     ]
    },
    {
     "data": {
      "text/plain": [
       "0.7565094191110878"
      ]
     },
     "execution_count": 97,
     "metadata": {},
     "output_type": "execute_result"
    }
   ],
   "source": [
    "print(\"F1 is\")\n",
    "2*Precision*Recall/(Precision+Recall)"
   ]
  },
  {
   "cell_type": "code",
   "execution_count": null,
   "metadata": {},
   "outputs": [],
   "source": []
  }
 ],
 "metadata": {
  "kernelspec": {
   "display_name": "Python 3",
   "language": "python",
   "name": "python3"
  },
  "language_info": {
   "codemirror_mode": {
    "name": "ipython",
    "version": 3
   },
   "file_extension": ".py",
   "mimetype": "text/x-python",
   "name": "python",
   "nbconvert_exporter": "python",
   "pygments_lexer": "ipython3",
   "version": "3.6.9"
  }
 },
 "nbformat": 4,
 "nbformat_minor": 2
}
