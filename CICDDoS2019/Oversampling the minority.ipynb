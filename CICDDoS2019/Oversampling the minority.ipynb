{
 "cells": [
  {
   "cell_type": "code",
   "execution_count": 19,
   "metadata": {},
   "outputs": [],
   "source": [
    "import numpy as np\n",
    "import pandas as pd\n",
    "import imblearn\n",
    "import matplotlib.pyplot as plt\n",
    "import imblearn\n",
    "from imblearn.over_sampling import SMOTE"
   ]
  },
  {
   "cell_type": "code",
   "execution_count": 2,
   "metadata": {},
   "outputs": [
    {
     "name": "stderr",
     "output_type": "stream",
     "text": [
      "C:\\Users\\kdagi\\Anaconda3\\lib\\site-packages\\IPython\\core\\interactiveshell.py:3058: DtypeWarning: Columns (75) have mixed types. Specify dtype option on import or set low_memory=False.\n",
      "  interactivity=interactivity, compiler=compiler, result=result)\n"
     ]
    },
    {
     "data": {
      "text/html": [
       "<div>\n",
       "<style scoped>\n",
       "    .dataframe tbody tr th:only-of-type {\n",
       "        vertical-align: middle;\n",
       "    }\n",
       "\n",
       "    .dataframe tbody tr th {\n",
       "        vertical-align: top;\n",
       "    }\n",
       "\n",
       "    .dataframe thead th {\n",
       "        text-align: right;\n",
       "    }\n",
       "</style>\n",
       "<table border=\"1\" class=\"dataframe\">\n",
       "  <thead>\n",
       "    <tr style=\"text-align: right;\">\n",
       "      <th></th>\n",
       "      <th>Unnamed: 0</th>\n",
       "      <th>ACK Flag Count</th>\n",
       "      <th>Active Max</th>\n",
       "      <th>Active Mean</th>\n",
       "      <th>Active Min</th>\n",
       "      <th>Active Std</th>\n",
       "      <th>Average Packet Size</th>\n",
       "      <th>Avg Bwd Segment Size</th>\n",
       "      <th>Avg Fwd Segment Size</th>\n",
       "      <th>Bwd Avg Bulk Rate</th>\n",
       "      <th>...</th>\n",
       "      <th>Subflow Fwd Packets</th>\n",
       "      <th>Time</th>\n",
       "      <th>Total Backward Packets</th>\n",
       "      <th>Total Fwd Packets</th>\n",
       "      <th>Total Length of Bwd Packets</th>\n",
       "      <th>Total Length of Fwd Packets</th>\n",
       "      <th>URG Flag Count</th>\n",
       "      <th>act_data_pkt_fwd</th>\n",
       "      <th>min_seg_size_forward</th>\n",
       "      <th>BiFlowsCount</th>\n",
       "    </tr>\n",
       "  </thead>\n",
       "  <tbody>\n",
       "    <tr>\n",
       "      <td>0</td>\n",
       "      <td>180548</td>\n",
       "      <td>0</td>\n",
       "      <td>0</td>\n",
       "      <td>0.0</td>\n",
       "      <td>0</td>\n",
       "      <td>0.0</td>\n",
       "      <td>2208.000000</td>\n",
       "      <td>0.0</td>\n",
       "      <td>1472.000000</td>\n",
       "      <td>0</td>\n",
       "      <td>...</td>\n",
       "      <td>2</td>\n",
       "      <td>2018-12-01 11:25:46 AM</td>\n",
       "      <td>0</td>\n",
       "      <td>2</td>\n",
       "      <td>0</td>\n",
       "      <td>2944</td>\n",
       "      <td>0</td>\n",
       "      <td>1</td>\n",
       "      <td>27</td>\n",
       "      <td>3844</td>\n",
       "    </tr>\n",
       "    <tr>\n",
       "      <td>1</td>\n",
       "      <td>5303468</td>\n",
       "      <td>1</td>\n",
       "      <td>0</td>\n",
       "      <td>0.0</td>\n",
       "      <td>0</td>\n",
       "      <td>0.0</td>\n",
       "      <td>0.000000</td>\n",
       "      <td>0.0</td>\n",
       "      <td>0.000000</td>\n",
       "      <td>0</td>\n",
       "      <td>...</td>\n",
       "      <td>2</td>\n",
       "      <td>2018-12-01 1:30:17 PM</td>\n",
       "      <td>0</td>\n",
       "      <td>2</td>\n",
       "      <td>0</td>\n",
       "      <td>0</td>\n",
       "      <td>0</td>\n",
       "      <td>0</td>\n",
       "      <td>20</td>\n",
       "      <td>5583</td>\n",
       "    </tr>\n",
       "    <tr>\n",
       "      <td>2</td>\n",
       "      <td>2544372</td>\n",
       "      <td>0</td>\n",
       "      <td>0</td>\n",
       "      <td>0.0</td>\n",
       "      <td>0</td>\n",
       "      <td>0.0</td>\n",
       "      <td>450.857143</td>\n",
       "      <td>0.0</td>\n",
       "      <td>419.428571</td>\n",
       "      <td>0</td>\n",
       "      <td>...</td>\n",
       "      <td>14</td>\n",
       "      <td>2018-12-01 10:40:03 AM</td>\n",
       "      <td>0</td>\n",
       "      <td>14</td>\n",
       "      <td>0</td>\n",
       "      <td>5872</td>\n",
       "      <td>0</td>\n",
       "      <td>13</td>\n",
       "      <td>0</td>\n",
       "      <td>2297</td>\n",
       "    </tr>\n",
       "    <tr>\n",
       "      <td>3</td>\n",
       "      <td>2937474</td>\n",
       "      <td>0</td>\n",
       "      <td>0</td>\n",
       "      <td>0.0</td>\n",
       "      <td>0</td>\n",
       "      <td>0.0</td>\n",
       "      <td>478.000000</td>\n",
       "      <td>0.0</td>\n",
       "      <td>368.000000</td>\n",
       "      <td>0</td>\n",
       "      <td>...</td>\n",
       "      <td>4</td>\n",
       "      <td>2018-12-01 10:41:20 AM</td>\n",
       "      <td>0</td>\n",
       "      <td>4</td>\n",
       "      <td>0</td>\n",
       "      <td>1472</td>\n",
       "      <td>0</td>\n",
       "      <td>3</td>\n",
       "      <td>20</td>\n",
       "      <td>2439</td>\n",
       "    </tr>\n",
       "    <tr>\n",
       "      <td>4</td>\n",
       "      <td>4876523</td>\n",
       "      <td>1</td>\n",
       "      <td>0</td>\n",
       "      <td>0.0</td>\n",
       "      <td>0</td>\n",
       "      <td>0.0</td>\n",
       "      <td>0.000000</td>\n",
       "      <td>0.0</td>\n",
       "      <td>0.000000</td>\n",
       "      <td>0</td>\n",
       "      <td>...</td>\n",
       "      <td>2</td>\n",
       "      <td>2018-12-01 1:34:19 PM</td>\n",
       "      <td>0</td>\n",
       "      <td>2</td>\n",
       "      <td>0</td>\n",
       "      <td>0</td>\n",
       "      <td>0</td>\n",
       "      <td>0</td>\n",
       "      <td>20</td>\n",
       "      <td>6549</td>\n",
       "    </tr>\n",
       "  </tbody>\n",
       "</table>\n",
       "<p>5 rows × 91 columns</p>\n",
       "</div>"
      ],
      "text/plain": [
       "   Unnamed: 0  ACK Flag Count  Active Max  Active Mean  Active Min  \\\n",
       "0      180548               0           0          0.0           0   \n",
       "1     5303468               1           0          0.0           0   \n",
       "2     2544372               0           0          0.0           0   \n",
       "3     2937474               0           0          0.0           0   \n",
       "4     4876523               1           0          0.0           0   \n",
       "\n",
       "   Active Std  Average Packet Size  Avg Bwd Segment Size  \\\n",
       "0         0.0          2208.000000                   0.0   \n",
       "1         0.0             0.000000                   0.0   \n",
       "2         0.0           450.857143                   0.0   \n",
       "3         0.0           478.000000                   0.0   \n",
       "4         0.0             0.000000                   0.0   \n",
       "\n",
       "   Avg Fwd Segment Size  Bwd Avg Bulk Rate  ...  Subflow Fwd Packets  \\\n",
       "0           1472.000000                  0  ...                    2   \n",
       "1              0.000000                  0  ...                    2   \n",
       "2            419.428571                  0  ...                   14   \n",
       "3            368.000000                  0  ...                    4   \n",
       "4              0.000000                  0  ...                    2   \n",
       "\n",
       "                     Time  Total Backward Packets  Total Fwd Packets  \\\n",
       "0  2018-12-01 11:25:46 AM                       0                  2   \n",
       "1   2018-12-01 1:30:17 PM                       0                  2   \n",
       "2  2018-12-01 10:40:03 AM                       0                 14   \n",
       "3  2018-12-01 10:41:20 AM                       0                  4   \n",
       "4   2018-12-01 1:34:19 PM                       0                  2   \n",
       "\n",
       "   Total Length of Bwd Packets  Total Length of Fwd Packets  URG Flag Count  \\\n",
       "0                            0                         2944               0   \n",
       "1                            0                            0               0   \n",
       "2                            0                         5872               0   \n",
       "3                            0                         1472               0   \n",
       "4                            0                            0               0   \n",
       "\n",
       "   act_data_pkt_fwd  min_seg_size_forward  BiFlowsCount  \n",
       "0                 1                    27          3844  \n",
       "1                 0                    20          5583  \n",
       "2                13                     0          2297  \n",
       "3                 3                    20          2439  \n",
       "4                 0                    20          6549  \n",
       "\n",
       "[5 rows x 91 columns]"
      ]
     },
     "execution_count": 2,
     "metadata": {},
     "output_type": "execute_result"
    }
   ],
   "source": [
    "df = pd.read_csv('shortCICDDoS2019.csv')\n",
    "df.head()"
   ]
  },
  {
   "cell_type": "code",
   "execution_count": 3,
   "metadata": {},
   "outputs": [
    {
     "data": {
      "text/plain": [
       "LDAP       407276\n",
       "SYN        295464\n",
       "NTP        224968\n",
       "UDP-lag     68432\n",
       "Benign       3789\n",
       "WebDDoS        71\n",
       "Name: Label, dtype: int64"
      ]
     },
     "execution_count": 3,
     "metadata": {},
     "output_type": "execute_result"
    }
   ],
   "source": [
    "df[\"Label\"].value_counts()"
   ]
  },
  {
   "cell_type": "code",
   "execution_count": null,
   "metadata": {},
   "outputs": [],
   "source": []
  },
  {
   "cell_type": "code",
   "execution_count": 4,
   "metadata": {},
   "outputs": [],
   "source": [
    "features = ['ACK Flag Count', 'Active Max', 'Active Mean', 'Active Min',\n",
    "       'Active Std', 'Average Packet Size', 'Avg Bwd Segment Size',\n",
    "       'Avg Fwd Segment Size', 'Bwd Avg Bulk Rate', 'Bwd Avg Bytes/Bulk',\n",
    "       'Bwd Avg Packets/Bulk', 'Bwd Header Length', 'Bwd IAT Max',\n",
    "       'Bwd IAT Mean', 'Bwd IAT Min', 'Bwd IAT Std', 'Bwd IAT Total',\n",
    "       'Bwd PSH Flags', 'Bwd Packet Length Max', 'Bwd Packet Length Mean',\n",
    "       'Bwd Packet Length Min', 'Bwd Packet Length Std', 'Bwd Packets/s',\n",
    "       'Bwd URG Flags', 'CWE Flag Count', 'Forward and Backward Packets',\n",
    "       'Destination IP', 'Destination Port', 'Down/Up Ratio', 'ECE Flag Count',\n",
    "       'FIN Flag Count', 'Flow Bytes/s', 'Flow Duration', 'Flow IAT Max',\n",
    "       'Flow IAT Mean', 'Flow IAT Min', 'Flow IAT Std', 'Flow ID',\n",
    "       'Flow Packets/s', 'Fwd Avg Bulk Rate', 'Fwd Avg Bytes/Bulk',\n",
    "       'Fwd Avg Packets/Bulk', 'Fwd Header Length.1', 'Fwd Header Length',\n",
    "       'Fwd IAT Max', 'Fwd IAT Mean', 'Fwd IAT Min', 'Fwd IAT Std',\n",
    "       'Fwd IAT Total', 'Fwd PSH Flags', 'Fwd Packet Length Max',\n",
    "       'Fwd Packet Length Mean', 'Fwd Packet Length Min',\n",
    "       'Fwd Packet Length Std', 'Fwd Packets/s', 'Fwd URG Flags', 'Idle Max',\n",
    "       'Idle Mean', 'Idle Min', 'Idle Std', 'Inbound',\n",
    "       'Init_Win_bytes_backward', 'Init_Win_bytes_forward',\n",
    "       'Max Packet Length', 'Min Packet Length', 'Number of Records',\n",
    "       'PSH Flag Count', 'Packet Length Mean', 'Packet Length Std',\n",
    "       'Packet Length Variance', 'Protocol', 'RST Flag Count',\n",
    "       'SYN Flag Count', 'SimillarHTTP', 'Source IP', 'Source Port',\n",
    "       'Subflow Bwd Bytes', 'Subflow Bwd Packets', 'Subflow Fwd Bytes',\n",
    "       'Subflow Fwd Packets', 'Time', 'Total Backward Packets',\n",
    "       'Total Fwd Packets', 'Total Length of Bwd Packets',\n",
    "       'Total Length of Fwd Packets', 'URG Flag Count', 'act_data_pkt_fwd',\n",
    "       'min_seg_size_forward', 'BiFlowsCount']"
   ]
  },
  {
   "cell_type": "code",
   "execution_count": 5,
   "metadata": {},
   "outputs": [
    {
     "name": "stderr",
     "output_type": "stream",
     "text": [
      "C:\\Users\\kdagi\\Anaconda3\\lib\\site-packages\\pandas\\core\\frame.py:3494: SettingWithCopyWarning: \n",
      "A value is trying to be set on a copy of a slice from a DataFrame.\n",
      "Try using .loc[row_indexer,col_indexer] = value instead\n",
      "\n",
      "See the caveats in the documentation: http://pandas.pydata.org/pandas-docs/stable/user_guide/indexing.html#returning-a-view-versus-a-copy\n",
      "  self[k1] = value[k2]\n"
     ]
    }
   ],
   "source": [
    "X = df[features]\n",
    "X[features] = X[features].apply(pd.to_numeric, errors='coerce', axis=1)"
   ]
  },
  {
   "cell_type": "code",
   "execution_count": 6,
   "metadata": {},
   "outputs": [],
   "source": [
    "def targetify(s):\n",
    "    if s == 'Benign':\n",
    "        return 0\n",
    "    else:\n",
    "        return 1"
   ]
  },
  {
   "cell_type": "code",
   "execution_count": 7,
   "metadata": {},
   "outputs": [],
   "source": [
    "df['target']=df['Label'].apply(targetify)"
   ]
  },
  {
   "cell_type": "code",
   "execution_count": 8,
   "metadata": {},
   "outputs": [],
   "source": [
    "y = df['target']"
   ]
  },
  {
   "cell_type": "code",
   "execution_count": 9,
   "metadata": {},
   "outputs": [],
   "source": [
    "X = X.fillna(0)"
   ]
  },
  {
   "cell_type": "code",
   "execution_count": 10,
   "metadata": {},
   "outputs": [
    {
     "name": "stdout",
     "output_type": "stream",
     "text": [
      "Regular: 3789\n",
      "Anomaly: 996211\n",
      "Proportion: 0.0 : 1\n"
     ]
    },
    {
     "data": {
      "image/png": "[encoded data removed]",
      "text/plain": [
       "<Figure size 432x288 with 1 Axes>"
      ]
     },
     "metadata": {
      "needs_background": "light"
     },
     "output_type": "display_data"
    }
   ],
   "source": [
    "target_count = df.target.value_counts()\n",
    "print('Regular:', target_count[0])\n",
    "print('Anomaly:', target_count[1])\n",
    "print('Proportion:', round(target_count[0] / target_count[1], 2), ': 1')\n",
    "\n",
    "target_count.plot(kind='bar', title='Count (target)');"
   ]
  },
  {
   "cell_type": "code",
   "execution_count": 11,
   "metadata": {},
   "outputs": [],
   "source": [
    "def plot_2d_space(X, y, label='Classes'):   \n",
    "    colors = ['#1F77B4', '#FF7F0E']\n",
    "    markers = ['o', 's']\n",
    "    for l, c, m in zip(np.unique(y), colors, markers):\n",
    "        plt.scatter(\n",
    "            X[y==l, 0],\n",
    "            X[y==l, 1],\n",
    "            c=c, label=l, marker=m\n",
    "        )\n",
    "    plt.title(label)\n",
    "    plt.legend(loc='upper right')\n",
    "    plt.show()"
   ]
  },
  {
   "cell_type": "code",
   "execution_count": 12,
   "metadata": {},
   "outputs": [
    {
     "data": {
      "image/png": "[encoded data removed]",
      "text/plain": [
       "<Figure size 432x288 with 1 Axes>"
      ]
     },
     "metadata": {
      "needs_background": "light"
     },
     "output_type": "display_data"
    }
   ],
   "source": [
    "from sklearn.decomposition import PCA\n",
    "\n",
    "pca = PCA(n_components=2)\n",
    "X = pca.fit_transform(X)\n",
    "\n",
    "plot_2d_space(X, y, 'Imbalanced dataset (2 PCA components)')"
   ]
  },
  {
   "cell_type": "code",
   "execution_count": 13,
   "metadata": {},
   "outputs": [],
   "source": [
    "import imblearn"
   ]
  },
  {
   "cell_type": "code",
   "execution_count": 15,
   "metadata": {},
   "outputs": [],
   "source": [
    "from imblearn.over_sampling import SMOTE\n",
    "\n"
   ]
  },
  {
   "cell_type": "code",
   "execution_count": 25,
   "metadata": {},
   "outputs": [],
   "source": [
    "seed = 100\n",
    "k = 8\n",
    "sm = SMOTE(k_neighbors=k, random_state=seed)\n",
    "X_res, y_res = sm.fit_sample(X, y)"
   ]
  },
  {
   "cell_type": "code",
   "execution_count": 17,
   "metadata": {},
   "outputs": [],
   "source": [
    "#smote = SMOTE(ratio='minority')\n"
   ]
  },
  {
   "cell_type": "code",
   "execution_count": 26,
   "metadata": {},
   "outputs": [
    {
     "data": {
      "image/png": "[encoded data removed]",
      "text/plain": [
       "<Figure size 432x288 with 1 Axes>"
      ]
     },
     "metadata": {
      "needs_background": "light"
     },
     "output_type": "display_data"
    }
   ],
   "source": [
    "#X, y = smote.fit_sample(X, y)\n",
    "plot_2d_space(X_res, y_res, 'SMOTE over-sampling')\n"
   ]
  },
  {
   "cell_type": "code",
   "execution_count": 27,
   "metadata": {},
   "outputs": [
    {
     "name": "stdout",
     "output_type": "stream",
     "text": [
      "Regular: 3789\n",
      "Anomaly: 996211\n",
      "Proportion: 0.0 : 1\n"
     ]
    }
   ],
   "source": [
    "target_count = df.target.value_counts()\n",
    "print('Regular:', target_count[0])\n",
    "print('Anomaly:', target_count[1])\n",
    "print('Proportion:', round(target_count[0] / target_count[1], 2), ': 1')"
   ]
  },
  {
   "cell_type": "code",
   "execution_count": null,
   "metadata": {},
   "outputs": [],
   "source": []
  }
 ],
 "metadata": {
  "kernelspec": {
   "display_name": "Python 3",
   "language": "python",
   "name": "python3"
  },
  "language_info": {
   "codemirror_mode": {
    "name": "ipython",
    "version": 3
   },
   "file_extension": ".py",
   "mimetype": "text/x-python",
   "name": "python",
   "nbconvert_exporter": "python",
   "pygments_lexer": "ipython3",
   "version": "3.6.9"
  }
 },
 "nbformat": 4,
 "nbformat_minor": 2
}
