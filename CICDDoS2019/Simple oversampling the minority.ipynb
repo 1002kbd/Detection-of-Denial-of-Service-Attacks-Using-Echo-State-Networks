{
 "cells": [
  {
   "cell_type": "code",
   "execution_count": 1,
   "metadata": {},
   "outputs": [
    {
     "name": "stderr",
     "output_type": "stream",
     "text": [
      "C:\\Users\\kdagi\\Anaconda3\\lib\\site-packages\\sklearn\\externals\\six.py:31: DeprecationWarning: The module is deprecated in version 0.21 and will be removed in version 0.23 since we've dropped support for Python 2.7. Please rely on the official version of six (https://pypi.org/project/six/).\n",
      "  \"(https://pypi.org/project/six/).\", DeprecationWarning)\n"
     ]
    }
   ],
   "source": [
    "import numpy as np\n",
    "import pandas as pd\n",
    "import imblearn\n",
    "import matplotlib.pyplot as plt\n",
    "import imblearn\n",
    "from imblearn.over_sampling import SMOTE"
   ]
  },
  {
   "cell_type": "code",
   "execution_count": 2,
   "metadata": {},
   "outputs": [
    {
     "name": "stderr",
     "output_type": "stream",
     "text": [
      "C:\\Users\\kdagi\\Anaconda3\\lib\\site-packages\\IPython\\core\\interactiveshell.py:3058: DtypeWarning: Columns (86) have mixed types. Specify dtype option on import or set low_memory=False.\n",
      "  interactivity=interactivity, compiler=compiler, result=result)\n"
     ]
    },
    {
     "data": {
      "text/html": [
       "<div>\n",
       "<style scoped>\n",
       "    .dataframe tbody tr th:only-of-type {\n",
       "        vertical-align: middle;\n",
       "    }\n",
       "\n",
       "    .dataframe tbody tr th {\n",
       "        vertical-align: top;\n",
       "    }\n",
       "\n",
       "    .dataframe thead th {\n",
       "        text-align: right;\n",
       "    }\n",
       "</style>\n",
       "<table border=\"1\" class=\"dataframe\">\n",
       "  <thead>\n",
       "    <tr style=\"text-align: right;\">\n",
       "      <th></th>\n",
       "      <th>Unnamed: 0</th>\n",
       "      <th>Unnamed: 0.1</th>\n",
       "      <th>Flow ID</th>\n",
       "      <th>Source IP</th>\n",
       "      <th>Source Port</th>\n",
       "      <th>Destination IP</th>\n",
       "      <th>Destination Port</th>\n",
       "      <th>Protocol</th>\n",
       "      <th>Timestamp</th>\n",
       "      <th>Flow Duration</th>\n",
       "      <th>...</th>\n",
       "      <th>Active Std</th>\n",
       "      <th>Active Max</th>\n",
       "      <th>Active Min</th>\n",
       "      <th>Idle Mean</th>\n",
       "      <th>Idle Std</th>\n",
       "      <th>Idle Max</th>\n",
       "      <th>Idle Min</th>\n",
       "      <th>SimillarHTTP</th>\n",
       "      <th>Inbound</th>\n",
       "      <th>Label</th>\n",
       "    </tr>\n",
       "  </thead>\n",
       "  <tbody>\n",
       "    <tr>\n",
       "      <td>0</td>\n",
       "      <td>2323886</td>\n",
       "      <td>11697</td>\n",
       "      <td>172.16.0.5-192.168.50.1-900-21222-17</td>\n",
       "      <td>172.16.0.5</td>\n",
       "      <td>900</td>\n",
       "      <td>192.168.50.1</td>\n",
       "      <td>21222</td>\n",
       "      <td>17</td>\n",
       "      <td>2018-12-01 11:27:31.415715</td>\n",
       "      <td>49</td>\n",
       "      <td>...</td>\n",
       "      <td>0.0</td>\n",
       "      <td>0.0</td>\n",
       "      <td>0.0</td>\n",
       "      <td>0.0</td>\n",
       "      <td>0.0</td>\n",
       "      <td>0.0</td>\n",
       "      <td>0.0</td>\n",
       "      <td>0</td>\n",
       "      <td>1</td>\n",
       "      <td>DrDoS_LDAP</td>\n",
       "    </tr>\n",
       "    <tr>\n",
       "      <td>1</td>\n",
       "      <td>4535861</td>\n",
       "      <td>218920</td>\n",
       "      <td>172.16.0.5-192.168.50.1-61405-48244-6</td>\n",
       "      <td>172.16.0.5</td>\n",
       "      <td>61405</td>\n",
       "      <td>192.168.50.1</td>\n",
       "      <td>48244</td>\n",
       "      <td>6</td>\n",
       "      <td>2018-12-01 13:33:18.865758</td>\n",
       "      <td>0</td>\n",
       "      <td>...</td>\n",
       "      <td>0.0</td>\n",
       "      <td>0.0</td>\n",
       "      <td>0.0</td>\n",
       "      <td>0.0</td>\n",
       "      <td>0.0</td>\n",
       "      <td>0.0</td>\n",
       "      <td>0.0</td>\n",
       "      <td>0</td>\n",
       "      <td>1</td>\n",
       "      <td>Syn</td>\n",
       "    </tr>\n",
       "    <tr>\n",
       "      <td>2</td>\n",
       "      <td>672030</td>\n",
       "      <td>4387</td>\n",
       "      <td>172.16.0.5-192.168.50.1-557-35921-17</td>\n",
       "      <td>172.16.0.5</td>\n",
       "      <td>557</td>\n",
       "      <td>192.168.50.1</td>\n",
       "      <td>35921</td>\n",
       "      <td>17</td>\n",
       "      <td>2018-12-01 10:40:44.164579</td>\n",
       "      <td>436</td>\n",
       "      <td>...</td>\n",
       "      <td>0.0</td>\n",
       "      <td>0.0</td>\n",
       "      <td>0.0</td>\n",
       "      <td>0.0</td>\n",
       "      <td>0.0</td>\n",
       "      <td>0.0</td>\n",
       "      <td>0.0</td>\n",
       "      <td>0</td>\n",
       "      <td>1</td>\n",
       "      <td>DrDoS_NTP</td>\n",
       "    </tr>\n",
       "    <tr>\n",
       "      <td>3</td>\n",
       "      <td>3855490</td>\n",
       "      <td>670514</td>\n",
       "      <td>172.16.0.5-192.168.50.1-55413-50260-6</td>\n",
       "      <td>172.16.0.5</td>\n",
       "      <td>55413</td>\n",
       "      <td>192.168.50.1</td>\n",
       "      <td>50260</td>\n",
       "      <td>6</td>\n",
       "      <td>2018-12-01 13:31:38.130611</td>\n",
       "      <td>1</td>\n",
       "      <td>...</td>\n",
       "      <td>0.0</td>\n",
       "      <td>0.0</td>\n",
       "      <td>0.0</td>\n",
       "      <td>0.0</td>\n",
       "      <td>0.0</td>\n",
       "      <td>0.0</td>\n",
       "      <td>0.0</td>\n",
       "      <td>0</td>\n",
       "      <td>1</td>\n",
       "      <td>Syn</td>\n",
       "    </tr>\n",
       "    <tr>\n",
       "      <td>4</td>\n",
       "      <td>3195907</td>\n",
       "      <td>29861</td>\n",
       "      <td>172.16.0.5-192.168.50.1-760-4843-17</td>\n",
       "      <td>172.16.0.5</td>\n",
       "      <td>760</td>\n",
       "      <td>192.168.50.1</td>\n",
       "      <td>4843</td>\n",
       "      <td>17</td>\n",
       "      <td>2018-12-01 11:31:32.548922</td>\n",
       "      <td>1</td>\n",
       "      <td>...</td>\n",
       "      <td>0.0</td>\n",
       "      <td>0.0</td>\n",
       "      <td>0.0</td>\n",
       "      <td>0.0</td>\n",
       "      <td>0.0</td>\n",
       "      <td>0.0</td>\n",
       "      <td>0.0</td>\n",
       "      <td>0</td>\n",
       "      <td>1</td>\n",
       "      <td>DrDoS_LDAP</td>\n",
       "    </tr>\n",
       "  </tbody>\n",
       "</table>\n",
       "<p>5 rows × 89 columns</p>\n",
       "</div>"
      ],
      "text/plain": [
       "   Unnamed: 0  Unnamed: 0.1                                Flow ID  \\\n",
       "0     2323886         11697   172.16.0.5-192.168.50.1-900-21222-17   \n",
       "1     4535861        218920  172.16.0.5-192.168.50.1-61405-48244-6   \n",
       "2      672030          4387   172.16.0.5-192.168.50.1-557-35921-17   \n",
       "3     3855490        670514  172.16.0.5-192.168.50.1-55413-50260-6   \n",
       "4     3195907         29861    172.16.0.5-192.168.50.1-760-4843-17   \n",
       "\n",
       "    Source IP   Source Port  Destination IP   Destination Port   Protocol  \\\n",
       "0  172.16.0.5           900    192.168.50.1              21222         17   \n",
       "1  172.16.0.5         61405    192.168.50.1              48244          6   \n",
       "2  172.16.0.5           557    192.168.50.1              35921         17   \n",
       "3  172.16.0.5         55413    192.168.50.1              50260          6   \n",
       "4  172.16.0.5           760    192.168.50.1               4843         17   \n",
       "\n",
       "                    Timestamp   Flow Duration  ...   Active Std   Active Max  \\\n",
       "0  2018-12-01 11:27:31.415715              49  ...          0.0          0.0   \n",
       "1  2018-12-01 13:33:18.865758               0  ...          0.0          0.0   \n",
       "2  2018-12-01 10:40:44.164579             436  ...          0.0          0.0   \n",
       "3  2018-12-01 13:31:38.130611               1  ...          0.0          0.0   \n",
       "4  2018-12-01 11:31:32.548922               1  ...          0.0          0.0   \n",
       "\n",
       "    Active Min  Idle Mean   Idle Std   Idle Max   Idle Min  SimillarHTTP  \\\n",
       "0          0.0        0.0        0.0        0.0        0.0             0   \n",
       "1          0.0        0.0        0.0        0.0        0.0             0   \n",
       "2          0.0        0.0        0.0        0.0        0.0             0   \n",
       "3          0.0        0.0        0.0        0.0        0.0             0   \n",
       "4          0.0        0.0        0.0        0.0        0.0             0   \n",
       "\n",
       "    Inbound       Label  \n",
       "0         1  DrDoS_LDAP  \n",
       "1         1         Syn  \n",
       "2         1   DrDoS_NTP  \n",
       "3         1         Syn  \n",
       "4         1  DrDoS_LDAP  \n",
       "\n",
       "[5 rows x 89 columns]"
      ]
     },
     "execution_count": 2,
     "metadata": {},
     "output_type": "execute_result"
    }
   ],
   "source": [
    "df = pd.read_csv('shortCICDDoS2019.csv')\n",
    "df.head()"
   ]
  },
  {
   "cell_type": "code",
   "execution_count": 7,
   "metadata": {},
   "outputs": [
    {
     "data": {
      "text/plain": [
       "DrDoS_LDAP    407163\n",
       "Syn           295717\n",
       "DrDoS_NTP     224841\n",
       "UDP-lag        68546\n",
       "BENIGN          3654\n",
       "WebDDoS           79\n",
       "Name:  Label, dtype: int64"
      ]
     },
     "execution_count": 7,
     "metadata": {},
     "output_type": "execute_result"
    }
   ],
   "source": [
    "df[\" Label\"].value_counts()"
   ]
  },
  {
   "cell_type": "code",
   "execution_count": 3,
   "metadata": {},
   "outputs": [
    {
     "data": {
      "text/plain": [
       "Index(['Unnamed: 0', 'Unnamed: 0.1', 'Flow ID', ' Source IP', ' Source Port',\n",
       "       ' Destination IP', ' Destination Port', ' Protocol', ' Timestamp',\n",
       "       ' Flow Duration', ' Total Fwd Packets', ' Total Backward Packets',\n",
       "       'Total Length of Fwd Packets', ' Total Length of Bwd Packets',\n",
       "       ' Fwd Packet Length Max', ' Fwd Packet Length Min',\n",
       "       ' Fwd Packet Length Mean', ' Fwd Packet Length Std',\n",
       "       'Bwd Packet Length Max', ' Bwd Packet Length Min',\n",
       "       ' Bwd Packet Length Mean', ' Bwd Packet Length Std', 'Flow Bytes/s',\n",
       "       ' Flow Packets/s', ' Flow IAT Mean', ' Flow IAT Std', ' Flow IAT Max',\n",
       "       ' Flow IAT Min', 'Fwd IAT Total', ' Fwd IAT Mean', ' Fwd IAT Std',\n",
       "       ' Fwd IAT Max', ' Fwd IAT Min', 'Bwd IAT Total', ' Bwd IAT Mean',\n",
       "       ' Bwd IAT Std', ' Bwd IAT Max', ' Bwd IAT Min', 'Fwd PSH Flags',\n",
       "       ' Bwd PSH Flags', ' Fwd URG Flags', ' Bwd URG Flags',\n",
       "       ' Fwd Header Length', ' Bwd Header Length', 'Fwd Packets/s',\n",
       "       ' Bwd Packets/s', ' Min Packet Length', ' Max Packet Length',\n",
       "       ' Packet Length Mean', ' Packet Length Std', ' Packet Length Variance',\n",
       "       'FIN Flag Count', ' SYN Flag Count', ' RST Flag Count',\n",
       "       ' PSH Flag Count', ' ACK Flag Count', ' URG Flag Count',\n",
       "       ' CWE Flag Count', ' ECE Flag Count', ' Down/Up Ratio',\n",
       "       ' Average Packet Size', ' Avg Fwd Segment Size',\n",
       "       ' Avg Bwd Segment Size', ' Fwd Header Length.1', 'Fwd Avg Bytes/Bulk',\n",
       "       ' Fwd Avg Packets/Bulk', ' Fwd Avg Bulk Rate', ' Bwd Avg Bytes/Bulk',\n",
       "       ' Bwd Avg Packets/Bulk', 'Bwd Avg Bulk Rate', 'Subflow Fwd Packets',\n",
       "       ' Subflow Fwd Bytes', ' Subflow Bwd Packets', ' Subflow Bwd Bytes',\n",
       "       'Init_Win_bytes_forward', ' Init_Win_bytes_backward',\n",
       "       ' act_data_pkt_fwd', ' min_seg_size_forward', 'Active Mean',\n",
       "       ' Active Std', ' Active Max', ' Active Min', 'Idle Mean', ' Idle Std',\n",
       "       ' Idle Max', ' Idle Min', 'SimillarHTTP', ' Inbound', ' Label'],\n",
       "      dtype='object')"
      ]
     },
     "execution_count": 3,
     "metadata": {},
     "output_type": "execute_result"
    }
   ],
   "source": [
    "df.columns"
   ]
  },
  {
   "cell_type": "code",
   "execution_count": 13,
   "metadata": {},
   "outputs": [],
   "source": [
    "def targetify(s):\n",
    "    if s == 'BENIGN':\n",
    "        return 0\n",
    "    else:\n",
    "        return 1"
   ]
  },
  {
   "cell_type": "code",
   "execution_count": 14,
   "metadata": {},
   "outputs": [],
   "source": [
    "df['target']=df[' Label'].apply(targetify)"
   ]
  },
  {
   "cell_type": "code",
   "execution_count": 15,
   "metadata": {},
   "outputs": [
    {
     "name": "stdout",
     "output_type": "stream",
     "text": [
      "Class 0: 3654\n",
      "Class 1: 996346\n",
      "Proportion: 0.0 : 1\n"
     ]
    },
    {
     "data": {
      "image/png": "[encoded data removed]",
      "text/plain": [
       "<Figure size 432x288 with 1 Axes>"
      ]
     },
     "metadata": {
      "needs_background": "light"
     },
     "output_type": "display_data"
    }
   ],
   "source": [
    "target_count = df.target.value_counts()\n",
    "print('Class 0:', target_count[0])\n",
    "print('Class 1:', target_count[1])\n",
    "print('Proportion:', round(target_count[0] / target_count[1], 2), ': 1')\n",
    "\n",
    "target_count.plot(kind='bar', title='Count (target)');"
   ]
  },
  {
   "cell_type": "code",
   "execution_count": 16,
   "metadata": {},
   "outputs": [],
   "source": [
    "features = ['Flow ID', ' Source IP', ' Source Port',\n",
    "       ' Destination IP', ' Destination Port', ' Protocol', ' Timestamp',\n",
    "       ' Flow Duration', ' Total Fwd Packets', ' Total Backward Packets',\n",
    "       'Total Length of Fwd Packets', ' Total Length of Bwd Packets',\n",
    "       ' Fwd Packet Length Max', ' Fwd Packet Length Min',\n",
    "       ' Fwd Packet Length Mean', ' Fwd Packet Length Std',\n",
    "       'Bwd Packet Length Max', ' Bwd Packet Length Min',\n",
    "       ' Bwd Packet Length Mean', ' Bwd Packet Length Std', 'Flow Bytes/s',\n",
    "       ' Flow Packets/s', ' Flow IAT Mean', ' Flow IAT Std', ' Flow IAT Max',\n",
    "       ' Flow IAT Min', 'Fwd IAT Total', ' Fwd IAT Mean', ' Fwd IAT Std',\n",
    "       ' Fwd IAT Max', ' Fwd IAT Min', 'Bwd IAT Total', ' Bwd IAT Mean',\n",
    "       ' Bwd IAT Std', ' Bwd IAT Max', ' Bwd IAT Min', 'Fwd PSH Flags',\n",
    "       ' Bwd PSH Flags', ' Fwd URG Flags', ' Bwd URG Flags',\n",
    "       ' Fwd Header Length', ' Bwd Header Length', 'Fwd Packets/s',\n",
    "       ' Bwd Packets/s', ' Min Packet Length', ' Max Packet Length',\n",
    "       ' Packet Length Mean', ' Packet Length Std', ' Packet Length Variance',\n",
    "       'FIN Flag Count', ' SYN Flag Count', ' RST Flag Count',\n",
    "       ' PSH Flag Count', ' ACK Flag Count', ' URG Flag Count',\n",
    "       ' CWE Flag Count', ' ECE Flag Count', ' Down/Up Ratio',\n",
    "       ' Average Packet Size', ' Avg Fwd Segment Size',\n",
    "       ' Avg Bwd Segment Size', ' Fwd Header Length.1', 'Fwd Avg Bytes/Bulk',\n",
    "       ' Fwd Avg Packets/Bulk', ' Fwd Avg Bulk Rate', ' Bwd Avg Bytes/Bulk',\n",
    "       ' Bwd Avg Packets/Bulk', 'Bwd Avg Bulk Rate', 'Subflow Fwd Packets',\n",
    "       ' Subflow Fwd Bytes', ' Subflow Bwd Packets', ' Subflow Bwd Bytes',\n",
    "       'Init_Win_bytes_forward', ' Init_Win_bytes_backward',\n",
    "       ' act_data_pkt_fwd', ' min_seg_size_forward', 'Active Mean',\n",
    "       ' Active Std', ' Active Max', ' Active Min', 'Idle Mean', ' Idle Std',\n",
    "       ' Idle Max', ' Idle Min', 'SimillarHTTP', ' Inbound', ' Label']"
   ]
  },
  {
   "cell_type": "code",
   "execution_count": 17,
   "metadata": {},
   "outputs": [],
   "source": [
    "X = df[features]\n",
    "X[features] = X[features].apply(pd.to_numeric, errors='coerce', axis=1)"
   ]
  },
  {
   "cell_type": "code",
   "execution_count": 18,
   "metadata": {},
   "outputs": [],
   "source": [
    "y = df['target']"
   ]
  },
  {
   "cell_type": "code",
   "execution_count": 19,
   "metadata": {},
   "outputs": [],
   "source": [
    "X = X.fillna(0)"
   ]
  },
  {
   "cell_type": "code",
   "execution_count": 20,
   "metadata": {},
   "outputs": [],
   "source": [
    "# Class count\n",
    "count_class_0, count_class_1 = df.target.value_counts()\n",
    "\n",
    "# Divide by class\n",
    "df_class_0 = df[df['target'] == 0]\n",
    "df_class_1 = df[df['target'] == 1]"
   ]
  },
  {
   "cell_type": "code",
   "execution_count": 21,
   "metadata": {},
   "outputs": [
    {
     "name": "stdout",
     "output_type": "stream",
     "text": [
      "Random over-sampling:\n",
      "1    996346\n",
      "0    996346\n",
      "Name: target, dtype: int64\n"
     ]
    },
    {
     "data": {
      "image/png": "[encoded data removed]",
      "text/plain": [
       "<Figure size 432x288 with 1 Axes>"
      ]
     },
     "metadata": {
      "needs_background": "light"
     },
     "output_type": "display_data"
    }
   ],
   "source": [
    "df_class_0_over = df_class_0.sample(count_class_0, replace=True)\n",
    "df_test_over = pd.concat([df_class_1, df_class_0_over], axis=0)\n",
    "\n",
    "print('Random over-sampling:')\n",
    "print(df_test_over.target.value_counts())\n",
    "\n",
    "df_test_over.target.value_counts().plot(kind='bar', title='Count (target)');"
   ]
  },
  {
   "cell_type": "code",
   "execution_count": 23,
   "metadata": {},
   "outputs": [
    {
     "data": {
      "text/plain": [
       "DrDoS_LDAP    407163\n",
       "Syn           295717\n",
       "DrDoS_NTP     224841\n",
       "UDP-lag        68546\n",
       "BENIGN          3654\n",
       "WebDDoS           79\n",
       "Name:  Label, dtype: int64"
      ]
     },
     "execution_count": 23,
     "metadata": {},
     "output_type": "execute_result"
    }
   ],
   "source": [
    "df[\" Label\"].value_counts()"
   ]
  },
  {
   "cell_type": "code",
   "execution_count": 24,
   "metadata": {},
   "outputs": [
    {
     "data": {
      "text/plain": [
       "BENIGN        996346\n",
       "DrDoS_LDAP    407163\n",
       "Syn           295717\n",
       "DrDoS_NTP     224841\n",
       "UDP-lag        68546\n",
       "WebDDoS           79\n",
       "Name:  Label, dtype: int64"
      ]
     },
     "execution_count": 24,
     "metadata": {},
     "output_type": "execute_result"
    }
   ],
   "source": [
    "df_test_over[\" Label\"].value_counts()"
   ]
  },
  {
   "cell_type": "code",
   "execution_count": 25,
   "metadata": {},
   "outputs": [],
   "source": [
    "df = df_test_over.sample(frac=1)"
   ]
  },
  {
   "cell_type": "code",
   "execution_count": 26,
   "metadata": {},
   "outputs": [],
   "source": [
    "df.head(1000000).to_csv('short_oversampled_CICDDoS2019.csv')"
   ]
  },
  {
   "cell_type": "code",
   "execution_count": 27,
   "metadata": {},
   "outputs": [
    {
     "data": {
      "text/plain": [
       "BENIGN        500153\n",
       "DrDoS_LDAP    204119\n",
       "Syn           148501\n",
       "DrDoS_NTP     112981\n",
       "UDP-lag        34212\n",
       "WebDDoS           34\n",
       "Name:  Label, dtype: int64"
      ]
     },
     "execution_count": 27,
     "metadata": {},
     "output_type": "execute_result"
    }
   ],
   "source": [
    "dfs = pd.read_csv('short_oversampled_CICDDoS2019.csv')\n",
    "dfs.head()\n",
    "dfs[\" Label\"].value_counts()"
   ]
  },
  {
   "cell_type": "code",
   "execution_count": null,
   "metadata": {},
   "outputs": [],
   "source": []
  }
 ],
 "metadata": {
  "kernelspec": {
   "display_name": "Python 3",
   "language": "python",
   "name": "python3"
  },
  "language_info": {
   "codemirror_mode": {
    "name": "ipython",
    "version": 3
   },
   "file_extension": ".py",
   "mimetype": "text/x-python",
   "name": "python",
   "nbconvert_exporter": "python",
   "pygments_lexer": "ipython3",
   "version": "3.6.9"
  }
 },
 "nbformat": 4,
 "nbformat_minor": 2
}
