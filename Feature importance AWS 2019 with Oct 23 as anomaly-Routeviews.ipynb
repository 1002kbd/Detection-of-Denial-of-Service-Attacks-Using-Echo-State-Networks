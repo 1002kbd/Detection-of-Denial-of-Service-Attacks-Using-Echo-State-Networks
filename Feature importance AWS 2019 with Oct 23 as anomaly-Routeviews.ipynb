{
 "cells": [
  {
   "cell_type": "code",
   "execution_count": 1,
   "metadata": {},
   "outputs": [],
   "source": [
    "import pandas as pd\n",
    "import numpy as np\n",
    "import matplotlib.pyplot as plt\n",
    "import sklearn\n",
    "from sklearn import preprocessing\n",
    "from sklearn.ensemble import ExtraTreesClassifier\n",
    "from sklearn.model_selection import train_test_split"
   ]
  },
  {
   "cell_type": "code",
   "execution_count": 2,
   "metadata": {},
   "outputs": [
    {
     "data": {
      "text/html": [
       "<div>\n",
       "<style scoped>\n",
       "    .dataframe tbody tr th:only-of-type {\n",
       "        vertical-align: middle;\n",
       "    }\n",
       "\n",
       "    .dataframe tbody tr th {\n",
       "        vertical-align: top;\n",
       "    }\n",
       "\n",
       "    .dataframe thead th {\n",
       "        text-align: right;\n",
       "    }\n",
       "</style>\n",
       "<table border=\"1\" class=\"dataframe\">\n",
       "  <thead>\n",
       "    <tr style=\"text-align: right;\">\n",
       "      <th></th>\n",
       "      <th>0</th>\n",
       "      <th>1</th>\n",
       "      <th>2</th>\n",
       "      <th>3</th>\n",
       "      <th>4</th>\n",
       "      <th>5</th>\n",
       "      <th>6</th>\n",
       "      <th>7</th>\n",
       "      <th>8</th>\n",
       "      <th>9</th>\n",
       "      <th>...</th>\n",
       "      <th>32</th>\n",
       "      <th>33</th>\n",
       "      <th>34</th>\n",
       "      <th>35</th>\n",
       "      <th>36</th>\n",
       "      <th>37</th>\n",
       "      <th>38</th>\n",
       "      <th>39</th>\n",
       "      <th>40</th>\n",
       "      <th>41</th>\n",
       "    </tr>\n",
       "  </thead>\n",
       "  <tbody>\n",
       "    <tr>\n",
       "      <td>0</td>\n",
       "      <td>0</td>\n",
       "      <td>0</td>\n",
       "      <td>0</td>\n",
       "      <td>17</td>\n",
       "      <td>5554</td>\n",
       "      <td>390</td>\n",
       "      <td>7700</td>\n",
       "      <td>1342</td>\n",
       "      <td>5</td>\n",
       "      <td>28</td>\n",
       "      <td>...</td>\n",
       "      <td>0</td>\n",
       "      <td>0</td>\n",
       "      <td>0</td>\n",
       "      <td>0</td>\n",
       "      <td>0</td>\n",
       "      <td>7093</td>\n",
       "      <td>16</td>\n",
       "      <td>299</td>\n",
       "      <td>310</td>\n",
       "      <td>0</td>\n",
       "    </tr>\n",
       "    <tr>\n",
       "      <td>1</td>\n",
       "      <td>1</td>\n",
       "      <td>0</td>\n",
       "      <td>1</td>\n",
       "      <td>0</td>\n",
       "      <td>3762</td>\n",
       "      <td>416</td>\n",
       "      <td>6068</td>\n",
       "      <td>1141</td>\n",
       "      <td>6</td>\n",
       "      <td>28</td>\n",
       "      <td>...</td>\n",
       "      <td>0</td>\n",
       "      <td>0</td>\n",
       "      <td>0</td>\n",
       "      <td>0</td>\n",
       "      <td>0</td>\n",
       "      <td>4382</td>\n",
       "      <td>6</td>\n",
       "      <td>406</td>\n",
       "      <td>304</td>\n",
       "      <td>0</td>\n",
       "    </tr>\n",
       "    <tr>\n",
       "      <td>2</td>\n",
       "      <td>2</td>\n",
       "      <td>0</td>\n",
       "      <td>2</td>\n",
       "      <td>0</td>\n",
       "      <td>3106</td>\n",
       "      <td>300</td>\n",
       "      <td>5770</td>\n",
       "      <td>684</td>\n",
       "      <td>6</td>\n",
       "      <td>26</td>\n",
       "      <td>...</td>\n",
       "      <td>0</td>\n",
       "      <td>0</td>\n",
       "      <td>0</td>\n",
       "      <td>0</td>\n",
       "      <td>0</td>\n",
       "      <td>6685</td>\n",
       "      <td>5</td>\n",
       "      <td>296</td>\n",
       "      <td>349</td>\n",
       "      <td>0</td>\n",
       "    </tr>\n",
       "    <tr>\n",
       "      <td>3</td>\n",
       "      <td>3</td>\n",
       "      <td>0</td>\n",
       "      <td>3</td>\n",
       "      <td>0</td>\n",
       "      <td>3306</td>\n",
       "      <td>340</td>\n",
       "      <td>7256</td>\n",
       "      <td>1108</td>\n",
       "      <td>6</td>\n",
       "      <td>28</td>\n",
       "      <td>...</td>\n",
       "      <td>0</td>\n",
       "      <td>0</td>\n",
       "      <td>0</td>\n",
       "      <td>0</td>\n",
       "      <td>0</td>\n",
       "      <td>4420</td>\n",
       "      <td>7</td>\n",
       "      <td>279</td>\n",
       "      <td>320</td>\n",
       "      <td>0</td>\n",
       "    </tr>\n",
       "    <tr>\n",
       "      <td>4</td>\n",
       "      <td>4</td>\n",
       "      <td>0</td>\n",
       "      <td>4</td>\n",
       "      <td>0</td>\n",
       "      <td>3923</td>\n",
       "      <td>375</td>\n",
       "      <td>6899</td>\n",
       "      <td>920</td>\n",
       "      <td>6</td>\n",
       "      <td>28</td>\n",
       "      <td>...</td>\n",
       "      <td>0</td>\n",
       "      <td>0</td>\n",
       "      <td>0</td>\n",
       "      <td>0</td>\n",
       "      <td>0</td>\n",
       "      <td>5405</td>\n",
       "      <td>7</td>\n",
       "      <td>314</td>\n",
       "      <td>319</td>\n",
       "      <td>0</td>\n",
       "    </tr>\n",
       "    <tr>\n",
       "      <td>...</td>\n",
       "      <td>...</td>\n",
       "      <td>...</td>\n",
       "      <td>...</td>\n",
       "      <td>...</td>\n",
       "      <td>...</td>\n",
       "      <td>...</td>\n",
       "      <td>...</td>\n",
       "      <td>...</td>\n",
       "      <td>...</td>\n",
       "      <td>...</td>\n",
       "      <td>...</td>\n",
       "      <td>...</td>\n",
       "      <td>...</td>\n",
       "      <td>...</td>\n",
       "      <td>...</td>\n",
       "      <td>...</td>\n",
       "      <td>...</td>\n",
       "      <td>...</td>\n",
       "      <td>...</td>\n",
       "      <td>...</td>\n",
       "      <td>...</td>\n",
       "    </tr>\n",
       "    <tr>\n",
       "      <td>10075</td>\n",
       "      <td>2355</td>\n",
       "      <td>23</td>\n",
       "      <td>55</td>\n",
       "      <td>0</td>\n",
       "      <td>6072</td>\n",
       "      <td>285</td>\n",
       "      <td>29813</td>\n",
       "      <td>530</td>\n",
       "      <td>7</td>\n",
       "      <td>446</td>\n",
       "      <td>...</td>\n",
       "      <td>0</td>\n",
       "      <td>0</td>\n",
       "      <td>0</td>\n",
       "      <td>0</td>\n",
       "      <td>0</td>\n",
       "      <td>6865</td>\n",
       "      <td>15</td>\n",
       "      <td>537</td>\n",
       "      <td>374</td>\n",
       "      <td>0</td>\n",
       "    </tr>\n",
       "    <tr>\n",
       "      <td>10076</td>\n",
       "      <td>2356</td>\n",
       "      <td>23</td>\n",
       "      <td>56</td>\n",
       "      <td>0</td>\n",
       "      <td>5885</td>\n",
       "      <td>352</td>\n",
       "      <td>17671</td>\n",
       "      <td>637</td>\n",
       "      <td>6</td>\n",
       "      <td>39</td>\n",
       "      <td>...</td>\n",
       "      <td>0</td>\n",
       "      <td>0</td>\n",
       "      <td>0</td>\n",
       "      <td>0</td>\n",
       "      <td>0</td>\n",
       "      <td>7324</td>\n",
       "      <td>31</td>\n",
       "      <td>433</td>\n",
       "      <td>332</td>\n",
       "      <td>0</td>\n",
       "    </tr>\n",
       "    <tr>\n",
       "      <td>10077</td>\n",
       "      <td>2357</td>\n",
       "      <td>23</td>\n",
       "      <td>57</td>\n",
       "      <td>0</td>\n",
       "      <td>5507</td>\n",
       "      <td>336</td>\n",
       "      <td>15280</td>\n",
       "      <td>659</td>\n",
       "      <td>6</td>\n",
       "      <td>71</td>\n",
       "      <td>...</td>\n",
       "      <td>0</td>\n",
       "      <td>0</td>\n",
       "      <td>0</td>\n",
       "      <td>0</td>\n",
       "      <td>0</td>\n",
       "      <td>7140</td>\n",
       "      <td>9</td>\n",
       "      <td>298</td>\n",
       "      <td>323</td>\n",
       "      <td>0</td>\n",
       "    </tr>\n",
       "    <tr>\n",
       "      <td>10078</td>\n",
       "      <td>2358</td>\n",
       "      <td>23</td>\n",
       "      <td>58</td>\n",
       "      <td>0</td>\n",
       "      <td>3916</td>\n",
       "      <td>335</td>\n",
       "      <td>8897</td>\n",
       "      <td>606</td>\n",
       "      <td>6</td>\n",
       "      <td>100</td>\n",
       "      <td>...</td>\n",
       "      <td>0</td>\n",
       "      <td>0</td>\n",
       "      <td>0</td>\n",
       "      <td>0</td>\n",
       "      <td>0</td>\n",
       "      <td>5867</td>\n",
       "      <td>4</td>\n",
       "      <td>226</td>\n",
       "      <td>322</td>\n",
       "      <td>0</td>\n",
       "    </tr>\n",
       "    <tr>\n",
       "      <td>10079</td>\n",
       "      <td>2359</td>\n",
       "      <td>23</td>\n",
       "      <td>59</td>\n",
       "      <td>0</td>\n",
       "      <td>3418</td>\n",
       "      <td>281</td>\n",
       "      <td>8186</td>\n",
       "      <td>594</td>\n",
       "      <td>6</td>\n",
       "      <td>131</td>\n",
       "      <td>...</td>\n",
       "      <td>0</td>\n",
       "      <td>0</td>\n",
       "      <td>0</td>\n",
       "      <td>0</td>\n",
       "      <td>0</td>\n",
       "      <td>5129</td>\n",
       "      <td>2</td>\n",
       "      <td>256</td>\n",
       "      <td>326</td>\n",
       "      <td>0</td>\n",
       "    </tr>\n",
       "  </tbody>\n",
       "</table>\n",
       "<p>10080 rows × 42 columns</p>\n",
       "</div>"
      ],
      "text/plain": [
       "         0   1   2   3     4    5      6     7   8    9   ...  32  33  34  35  \\\n",
       "0         0   0   0  17  5554  390   7700  1342   5   28  ...   0   0   0   0   \n",
       "1         1   0   1   0  3762  416   6068  1141   6   28  ...   0   0   0   0   \n",
       "2         2   0   2   0  3106  300   5770   684   6   26  ...   0   0   0   0   \n",
       "3         3   0   3   0  3306  340   7256  1108   6   28  ...   0   0   0   0   \n",
       "4         4   0   4   0  3923  375   6899   920   6   28  ...   0   0   0   0   \n",
       "...     ...  ..  ..  ..   ...  ...    ...   ...  ..  ...  ...  ..  ..  ..  ..   \n",
       "10075  2355  23  55   0  6072  285  29813   530   7  446  ...   0   0   0   0   \n",
       "10076  2356  23  56   0  5885  352  17671   637   6   39  ...   0   0   0   0   \n",
       "10077  2357  23  57   0  5507  336  15280   659   6   71  ...   0   0   0   0   \n",
       "10078  2358  23  58   0  3916  335   8897   606   6  100  ...   0   0   0   0   \n",
       "10079  2359  23  59   0  3418  281   8186   594   6  131  ...   0   0   0   0   \n",
       "\n",
       "       36    37  38   39   40  41  \n",
       "0       0  7093  16  299  310   0  \n",
       "1       0  4382   6  406  304   0  \n",
       "2       0  6685   5  296  349   0  \n",
       "3       0  4420   7  279  320   0  \n",
       "4       0  5405   7  314  319   0  \n",
       "...    ..   ...  ..  ...  ...  ..  \n",
       "10075   0  6865  15  537  374   0  \n",
       "10076   0  7324  31  433  332   0  \n",
       "10077   0  7140   9  298  323   0  \n",
       "10078   0  5867   4  226  322   0  \n",
       "10079   0  5129   2  256  326   0  \n",
       "\n",
       "[10080 rows x 42 columns]"
      ]
     },
     "execution_count": 2,
     "metadata": {},
     "output_type": "execute_result"
    }
   ],
   "source": [
    "# Select dataset:\n",
    "df = pd.read_csv('Routeviews2019.csv', header=None)\n",
    "df"
   ]
  },
  {
   "cell_type": "code",
   "execution_count": 4,
   "metadata": {},
   "outputs": [],
   "source": [
    "features = df.loc[:, 4:40]"
   ]
  },
  {
   "cell_type": "code",
   "execution_count": 5,
   "metadata": {},
   "outputs": [
    {
     "data": {
      "text/plain": [
       "0    6390\n",
       "1    3690\n",
       "Name: 41, dtype: int64"
      ]
     },
     "execution_count": 5,
     "metadata": {},
     "output_type": "execute_result"
    }
   ],
   "source": [
    "df.iloc[:, 41].value_counts()"
   ]
  },
  {
   "cell_type": "code",
   "execution_count": 6,
   "metadata": {},
   "outputs": [],
   "source": [
    "X = features\n",
    "#X[features] = X[features].apply(pd.to_numeric, errors='coerce', axis=1)\n",
    "X = X.apply(pd.to_numeric, errors='coerce')"
   ]
  },
  {
   "cell_type": "code",
   "execution_count": 7,
   "metadata": {},
   "outputs": [],
   "source": [
    "def targetify(s):\n",
    "    if s == 0.0:\n",
    "        return 0\n",
    "    else:\n",
    "        return 1"
   ]
  },
  {
   "cell_type": "code",
   "execution_count": 8,
   "metadata": {},
   "outputs": [],
   "source": [
    "df['Target']=df.loc[:,41].apply(targetify)"
   ]
  },
  {
   "cell_type": "code",
   "execution_count": 9,
   "metadata": {},
   "outputs": [],
   "source": [
    " y = df['Target']"
   ]
  },
  {
   "cell_type": "code",
   "execution_count": 10,
   "metadata": {},
   "outputs": [
    {
     "data": {
      "text/plain": [
       "0    6390\n",
       "1    3690\n",
       "Name: Target, dtype: int64"
      ]
     },
     "execution_count": 10,
     "metadata": {},
     "output_type": "execute_result"
    }
   ],
   "source": [
    "df[\"Target\"].value_counts()"
   ]
  },
  {
   "cell_type": "code",
   "execution_count": 11,
   "metadata": {},
   "outputs": [],
   "source": [
    "X = X.fillna(0)"
   ]
  },
  {
   "cell_type": "code",
   "execution_count": 12,
   "metadata": {},
   "outputs": [],
   "source": [
    "X = X.apply(pd.to_numeric, errors='coerce')"
   ]
  },
  {
   "cell_type": "code",
   "execution_count": 13,
   "metadata": {},
   "outputs": [],
   "source": [
    "X = X.fillna(0)"
   ]
  },
  {
   "cell_type": "code",
   "execution_count": 14,
   "metadata": {},
   "outputs": [
    {
     "name": "stdout",
     "output_type": "stream",
     "text": [
      "(6048, 37) (6048,)\n",
      "(4032, 37) (4032,)\n"
     ]
    }
   ],
   "source": [
    "X_train, X_test, y_train, y_test = train_test_split(X, y, test_size=0.4)\n",
    "print (X_train.shape, y_train.shape)\n",
    "print( X_test.shape, y_test.shape)"
   ]
  },
  {
   "cell_type": "code",
   "execution_count": 15,
   "metadata": {},
   "outputs": [
    {
     "data": {
      "text/plain": [
       "0    3836\n",
       "1    2212\n",
       "Name: Target, dtype: int64"
      ]
     },
     "execution_count": 15,
     "metadata": {},
     "output_type": "execute_result"
    }
   ],
   "source": [
    "y_train.value_counts()"
   ]
  },
  {
   "cell_type": "code",
   "execution_count": 16,
   "metadata": {},
   "outputs": [
    {
     "data": {
      "text/plain": [
       "0    2554\n",
       "1    1478\n",
       "Name: Target, dtype: int64"
      ]
     },
     "execution_count": 16,
     "metadata": {},
     "output_type": "execute_result"
    }
   ],
   "source": [
    "y_test.value_counts()"
   ]
  },
  {
   "cell_type": "code",
   "execution_count": 17,
   "metadata": {},
   "outputs": [
    {
     "data": {
      "text/html": [
       "<div>\n",
       "<style scoped>\n",
       "    .dataframe tbody tr th:only-of-type {\n",
       "        vertical-align: middle;\n",
       "    }\n",
       "\n",
       "    .dataframe tbody tr th {\n",
       "        vertical-align: top;\n",
       "    }\n",
       "\n",
       "    .dataframe thead th {\n",
       "        text-align: right;\n",
       "    }\n",
       "</style>\n",
       "<table border=\"1\" class=\"dataframe\">\n",
       "  <thead>\n",
       "    <tr style=\"text-align: right;\">\n",
       "      <th></th>\n",
       "      <th>4</th>\n",
       "      <th>5</th>\n",
       "      <th>6</th>\n",
       "      <th>7</th>\n",
       "      <th>8</th>\n",
       "      <th>9</th>\n",
       "      <th>10</th>\n",
       "      <th>11</th>\n",
       "      <th>12</th>\n",
       "      <th>13</th>\n",
       "      <th>...</th>\n",
       "      <th>31</th>\n",
       "      <th>32</th>\n",
       "      <th>33</th>\n",
       "      <th>34</th>\n",
       "      <th>35</th>\n",
       "      <th>36</th>\n",
       "      <th>37</th>\n",
       "      <th>38</th>\n",
       "      <th>39</th>\n",
       "      <th>40</th>\n",
       "    </tr>\n",
       "  </thead>\n",
       "  <tbody>\n",
       "    <tr>\n",
       "      <td>3518</td>\n",
       "      <td>5149</td>\n",
       "      <td>318</td>\n",
       "      <td>18051</td>\n",
       "      <td>708</td>\n",
       "      <td>6</td>\n",
       "      <td>28</td>\n",
       "      <td>6</td>\n",
       "      <td>13859</td>\n",
       "      <td>143393</td>\n",
       "      <td>2088</td>\n",
       "      <td>...</td>\n",
       "      <td>0</td>\n",
       "      <td>0</td>\n",
       "      <td>0</td>\n",
       "      <td>0</td>\n",
       "      <td>0</td>\n",
       "      <td>0</td>\n",
       "      <td>6093</td>\n",
       "      <td>11</td>\n",
       "      <td>533</td>\n",
       "      <td>345</td>\n",
       "    </tr>\n",
       "    <tr>\n",
       "      <td>1412</td>\n",
       "      <td>3141</td>\n",
       "      <td>332</td>\n",
       "      <td>5487</td>\n",
       "      <td>615</td>\n",
       "      <td>6</td>\n",
       "      <td>26</td>\n",
       "      <td>7</td>\n",
       "      <td>6004</td>\n",
       "      <td>118513</td>\n",
       "      <td>2590</td>\n",
       "      <td>...</td>\n",
       "      <td>0</td>\n",
       "      <td>0</td>\n",
       "      <td>0</td>\n",
       "      <td>0</td>\n",
       "      <td>0</td>\n",
       "      <td>0</td>\n",
       "      <td>4023</td>\n",
       "      <td>22</td>\n",
       "      <td>342</td>\n",
       "      <td>321</td>\n",
       "    </tr>\n",
       "    <tr>\n",
       "      <td>2570</td>\n",
       "      <td>5110</td>\n",
       "      <td>296</td>\n",
       "      <td>13901</td>\n",
       "      <td>604</td>\n",
       "      <td>6</td>\n",
       "      <td>28</td>\n",
       "      <td>6</td>\n",
       "      <td>7258</td>\n",
       "      <td>126378</td>\n",
       "      <td>2310</td>\n",
       "      <td>...</td>\n",
       "      <td>0</td>\n",
       "      <td>0</td>\n",
       "      <td>0</td>\n",
       "      <td>0</td>\n",
       "      <td>0</td>\n",
       "      <td>0</td>\n",
       "      <td>6087</td>\n",
       "      <td>9</td>\n",
       "      <td>538</td>\n",
       "      <td>314</td>\n",
       "    </tr>\n",
       "    <tr>\n",
       "      <td>599</td>\n",
       "      <td>6780</td>\n",
       "      <td>386</td>\n",
       "      <td>15691</td>\n",
       "      <td>1216</td>\n",
       "      <td>6</td>\n",
       "      <td>28</td>\n",
       "      <td>7</td>\n",
       "      <td>22752</td>\n",
       "      <td>320496</td>\n",
       "      <td>4648</td>\n",
       "      <td>...</td>\n",
       "      <td>0</td>\n",
       "      <td>0</td>\n",
       "      <td>0</td>\n",
       "      <td>0</td>\n",
       "      <td>0</td>\n",
       "      <td>0</td>\n",
       "      <td>7705</td>\n",
       "      <td>4</td>\n",
       "      <td>551</td>\n",
       "      <td>324</td>\n",
       "    </tr>\n",
       "    <tr>\n",
       "      <td>8148</td>\n",
       "      <td>4521</td>\n",
       "      <td>385</td>\n",
       "      <td>9478</td>\n",
       "      <td>1493</td>\n",
       "      <td>6</td>\n",
       "      <td>28</td>\n",
       "      <td>6</td>\n",
       "      <td>7142</td>\n",
       "      <td>135523</td>\n",
       "      <td>9253</td>\n",
       "      <td>...</td>\n",
       "      <td>0</td>\n",
       "      <td>0</td>\n",
       "      <td>0</td>\n",
       "      <td>0</td>\n",
       "      <td>0</td>\n",
       "      <td>0</td>\n",
       "      <td>5337</td>\n",
       "      <td>9</td>\n",
       "      <td>424</td>\n",
       "      <td>314</td>\n",
       "    </tr>\n",
       "  </tbody>\n",
       "</table>\n",
       "<p>5 rows × 37 columns</p>\n",
       "</div>"
      ],
      "text/plain": [
       "        4    5      6     7   8   9   10     11      12    13  ...  31  32  \\\n",
       "3518  5149  318  18051   708   6  28   6  13859  143393  2088  ...   0   0   \n",
       "1412  3141  332   5487   615   6  26   7   6004  118513  2590  ...   0   0   \n",
       "2570  5110  296  13901   604   6  28   6   7258  126378  2310  ...   0   0   \n",
       "599   6780  386  15691  1216   6  28   7  22752  320496  4648  ...   0   0   \n",
       "8148  4521  385   9478  1493   6  28   6   7142  135523  9253  ...   0   0   \n",
       "\n",
       "      33  34  35  36    37  38   39   40  \n",
       "3518   0   0   0   0  6093  11  533  345  \n",
       "1412   0   0   0   0  4023  22  342  321  \n",
       "2570   0   0   0   0  6087   9  538  314  \n",
       "599    0   0   0   0  7705   4  551  324  \n",
       "8148   0   0   0   0  5337   9  424  314  \n",
       "\n",
       "[5 rows x 37 columns]"
      ]
     },
     "execution_count": 17,
     "metadata": {},
     "output_type": "execute_result"
    }
   ],
   "source": [
    "X_train.head()"
   ]
  },
  {
   "cell_type": "code",
   "execution_count": 18,
   "metadata": {},
   "outputs": [],
   "source": [
    "forest = ExtraTreesClassifier(n_estimators=100, random_state=2)"
   ]
  },
  {
   "cell_type": "code",
   "execution_count": 19,
   "metadata": {},
   "outputs": [
    {
     "data": {
      "text/plain": [
       "ExtraTreesClassifier(bootstrap=False, class_weight=None, criterion='gini',\n",
       "                     max_depth=None, max_features='auto', max_leaf_nodes=None,\n",
       "                     min_impurity_decrease=0.0, min_impurity_split=None,\n",
       "                     min_samples_leaf=1, min_samples_split=2,\n",
       "                     min_weight_fraction_leaf=0.0, n_estimators=100,\n",
       "                     n_jobs=None, oob_score=False, random_state=2, verbose=0,\n",
       "                     warm_start=False)"
      ]
     },
     "execution_count": 19,
     "metadata": {},
     "output_type": "execute_result"
    }
   ],
   "source": [
    "forest.fit(X_train, y_train)"
   ]
  },
  {
   "cell_type": "code",
   "execution_count": 20,
   "metadata": {},
   "outputs": [],
   "source": [
    "importances = forest.feature_importances_"
   ]
  },
  {
   "cell_type": "code",
   "execution_count": 21,
   "metadata": {},
   "outputs": [],
   "source": [
    "std = np.std([tree.feature_importances_ for tree in forest.estimators_], axis=0)\n",
    "indices = np.argsort(importances)[::-1]"
   ]
  },
  {
   "cell_type": "code",
   "execution_count": 22,
   "metadata": {
    "scrolled": true
   },
   "outputs": [
    {
     "name": "stdout",
     "output_type": "stream",
     "text": [
      "Feature ranking:\n",
      "1. feature 33: 37 (0.105452)\n",
      "2. feature 11: 15 (0.085809)\n",
      "3. feature 36: 40 (0.079478)\n",
      "4. feature 0: 4 (0.075095)\n",
      "5. feature 1: 5 (0.073890)\n",
      "6. feature 7: 11 (0.071770)\n",
      "7. feature 2: 6 (0.069780)\n",
      "8. feature 3: 7 (0.069007)\n",
      "9. feature 8: 12 (0.066207)\n",
      "10. feature 35: 39 (0.065264)\n",
      "11. feature 9: 13 (0.064908)\n",
      "12. feature 34: 38 (0.062197)\n",
      "13. feature 5: 9 (0.028234)\n",
      "14. feature 10: 14 (0.027830)\n",
      "15. feature 12: 16 (0.020295)\n",
      "16. feature 6: 10 (0.013313)\n",
      "17. feature 4: 8 (0.012065)\n",
      "18. feature 20: 24 (0.002947)\n",
      "19. feature 22: 26 (0.002737)\n",
      "20. feature 21: 25 (0.002447)\n",
      "21. feature 19: 23 (0.000437)\n",
      "22. feature 32: 36 (0.000303)\n",
      "23. feature 18: 22 (0.000284)\n",
      "24. feature 31: 35 (0.000144)\n",
      "25. feature 17: 21 (0.000105)\n",
      "26. feature 13: 17 (0.000000)\n",
      "27. feature 14: 18 (0.000000)\n",
      "28. feature 15: 19 (0.000000)\n",
      "29. feature 23: 27 (0.000000)\n",
      "30. feature 24: 28 (0.000000)\n",
      "31. feature 25: 29 (0.000000)\n",
      "32. feature 26: 30 (0.000000)\n",
      "33. feature 27: 31 (0.000000)\n",
      "34. feature 28: 32 (0.000000)\n",
      "35. feature 29: 33 (0.000000)\n",
      "36. feature 30: 34 (0.000000)\n",
      "37. feature 16: 20 (0.000000)\n"
     ]
    }
   ],
   "source": [
    "# Print the feature ranking\n",
    "print(\"Feature ranking:\")\n",
    "\n",
    "for f in range(X_train.shape[1]):\n",
    "    print(\"%d. feature %d: %s (%f)\" % (f + 1, indices[f], X.columns[indices[f]], importances[indices[f]]))"
   ]
  },
  {
   "cell_type": "code",
   "execution_count": 23,
   "metadata": {},
   "outputs": [
    {
     "data": {
      "image/png": "[encoded data removed]",
      "text/plain": [
       "<Figure size 432x288 with 1 Axes>"
      ]
     },
     "metadata": {
      "needs_background": "light"
     },
     "output_type": "display_data"
    }
   ],
   "source": [
    "# Plot the top x feature importances of the forest\n",
    "top_x = 20\n",
    "\n",
    "plt.figure()\n",
    "# plt.title(\"Feature Importances\")\n",
    "plt.bar(range(X_train.shape[1]), importances[indices],\n",
    "       color=\"r\", yerr=std[indices], align=\"center\")\n",
    "plt.xticks(range(top_x), indices)\n",
    "plt.xlim([-1, top_x])\n",
    "plt.show()"
   ]
  },
  {
   "cell_type": "code",
   "execution_count": 24,
   "metadata": {},
   "outputs": [
    {
     "data": {
      "image/png": "[encoded data removed]",
      "text/plain": [
       "<Figure size 432x288 with 1 Axes>"
      ]
     },
     "metadata": {
      "needs_background": "light"
     },
     "output_type": "display_data"
    }
   ],
   "source": [
    "plt = pd.Series(forest.feature_importances_, index=X_train.columns).nlargest(top_x).plot(kind='barh')\n",
    "fig = plt.get_figure()\n",
    "fig.savefig('figure.jpg', bbox_inches = \"tight\")"
   ]
  },
  {
   "cell_type": "code",
   "execution_count": null,
   "metadata": {},
   "outputs": [],
   "source": []
  },
  {
   "cell_type": "code",
   "execution_count": null,
   "metadata": {},
   "outputs": [],
   "source": []
  },
  {
   "cell_type": "code",
   "execution_count": null,
   "metadata": {},
   "outputs": [],
   "source": []
  }
 ],
 "metadata": {
  "kernelspec": {
   "display_name": "Python 3",
   "language": "python",
   "name": "python3"
  },
  "language_info": {
   "codemirror_mode": {
    "name": "ipython",
    "version": 3
   },
   "file_extension": ".py",
   "mimetype": "text/x-python",
   "name": "python",
   "nbconvert_exporter": "python",
   "pygments_lexer": "ipython3",
   "version": "3.6.9"
  }
 },
 "nbformat": 4,
 "nbformat_minor": 2
}
