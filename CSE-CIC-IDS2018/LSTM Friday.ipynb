{
 "cells": [
  {
   "cell_type": "code",
   "execution_count": 1,
   "metadata": {},
   "outputs": [],
   "source": [
    " import tensorflow as tf\n",
    "import pandas as pd\n",
    "import numpy as np\n",
    "import sklearn\n",
    "import matplotlib.pyplot as plt\n",
    "from sklearn.model_selection import train_test_split\n",
    "from sklearn import preprocessing"
   ]
  },
  {
   "cell_type": "code",
   "execution_count": 2,
   "metadata": {},
   "outputs": [],
   "source": [
    "def plot_graphs(history, string):\n",
    "    plt.plot(history.history[string])\n",
    "    # plt.plot(history.history['val_'+string], '')\n",
    "    plt.xlabel(\"Epochs\")\n",
    "    plt.ylabel(string)\n",
    "    # plt.legend([string, 'val_'+string])\n",
    "    plt.show()"
   ]
  },
  {
   "cell_type": "code",
   "execution_count": 3,
   "metadata": {},
   "outputs": [
    {
     "name": "stderr",
     "output_type": "stream",
     "text": [
      "C:\\Users\\kdagi\\Anaconda3\\lib\\site-packages\\IPython\\core\\interactiveshell.py:3058: DtypeWarning: Columns (0,1,3,4,5,6,7,8,9,10,11,12,13,14,15,16,17,18,19,20,21,22,23,24,25,26,27,28,29,30,31,32,33,34,35,36,37,38,39,40,41,42,43,44,45,46,47,48,49,50,51,52,53,54,55,56,57,58,59,60,61,62,63,64,65,66,67,68,69,70,71,72,73,74,75,76,77,78) have mixed types. Specify dtype option on import or set low_memory=False.\n",
      "  interactivity=interactivity, compiler=compiler, result=result)\n"
     ]
    },
    {
     "data": {
      "text/html": [
       "<div>\n",
       "<style scoped>\n",
       "    .dataframe tbody tr th:only-of-type {\n",
       "        vertical-align: middle;\n",
       "    }\n",
       "\n",
       "    .dataframe tbody tr th {\n",
       "        vertical-align: top;\n",
       "    }\n",
       "\n",
       "    .dataframe thead th {\n",
       "        text-align: right;\n",
       "    }\n",
       "</style>\n",
       "<table border=\"1\" class=\"dataframe\">\n",
       "  <thead>\n",
       "    <tr style=\"text-align: right;\">\n",
       "      <th></th>\n",
       "      <th>Dst Port</th>\n",
       "      <th>Protocol</th>\n",
       "      <th>Timestamp</th>\n",
       "      <th>Flow Duration</th>\n",
       "      <th>Tot Fwd Pkts</th>\n",
       "      <th>Tot Bwd Pkts</th>\n",
       "      <th>TotLen Fwd Pkts</th>\n",
       "      <th>TotLen Bwd Pkts</th>\n",
       "      <th>Fwd Pkt Len Max</th>\n",
       "      <th>Fwd Pkt Len Min</th>\n",
       "      <th>...</th>\n",
       "      <th>Fwd Seg Size Min</th>\n",
       "      <th>Active Mean</th>\n",
       "      <th>Active Std</th>\n",
       "      <th>Active Max</th>\n",
       "      <th>Active Min</th>\n",
       "      <th>Idle Mean</th>\n",
       "      <th>Idle Std</th>\n",
       "      <th>Idle Max</th>\n",
       "      <th>Idle Min</th>\n",
       "      <th>Label</th>\n",
       "    </tr>\n",
       "  </thead>\n",
       "  <tbody>\n",
       "    <tr>\n",
       "      <td>0</td>\n",
       "      <td>0</td>\n",
       "      <td>0</td>\n",
       "      <td>16/02/2018 08:27:23</td>\n",
       "      <td>112640768</td>\n",
       "      <td>3</td>\n",
       "      <td>0</td>\n",
       "      <td>0</td>\n",
       "      <td>0</td>\n",
       "      <td>0</td>\n",
       "      <td>0</td>\n",
       "      <td>...</td>\n",
       "      <td>0</td>\n",
       "      <td>0</td>\n",
       "      <td>0</td>\n",
       "      <td>0</td>\n",
       "      <td>0</td>\n",
       "      <td>5.63e+07</td>\n",
       "      <td>138.593</td>\n",
       "      <td>56300000</td>\n",
       "      <td>56300000</td>\n",
       "      <td>Benign</td>\n",
       "    </tr>\n",
       "    <tr>\n",
       "      <td>1</td>\n",
       "      <td>0</td>\n",
       "      <td>0</td>\n",
       "      <td>16/02/2018 08:30:12</td>\n",
       "      <td>112641773</td>\n",
       "      <td>3</td>\n",
       "      <td>0</td>\n",
       "      <td>0</td>\n",
       "      <td>0</td>\n",
       "      <td>0</td>\n",
       "      <td>0</td>\n",
       "      <td>...</td>\n",
       "      <td>0</td>\n",
       "      <td>0</td>\n",
       "      <td>0</td>\n",
       "      <td>0</td>\n",
       "      <td>0</td>\n",
       "      <td>5.63e+07</td>\n",
       "      <td>263.751</td>\n",
       "      <td>56300000</td>\n",
       "      <td>56300000</td>\n",
       "      <td>Benign</td>\n",
       "    </tr>\n",
       "    <tr>\n",
       "      <td>2</td>\n",
       "      <td>35605</td>\n",
       "      <td>6</td>\n",
       "      <td>16/02/2018 08:26:55</td>\n",
       "      <td>20784143</td>\n",
       "      <td>23</td>\n",
       "      <td>44</td>\n",
       "      <td>2416</td>\n",
       "      <td>1344</td>\n",
       "      <td>240</td>\n",
       "      <td>64</td>\n",
       "      <td>...</td>\n",
       "      <td>20</td>\n",
       "      <td>2624734</td>\n",
       "      <td>0</td>\n",
       "      <td>2624734</td>\n",
       "      <td>2624734</td>\n",
       "      <td>9.05821e+06</td>\n",
       "      <td>0</td>\n",
       "      <td>9058214</td>\n",
       "      <td>9058214</td>\n",
       "      <td>Benign</td>\n",
       "    </tr>\n",
       "    <tr>\n",
       "      <td>3</td>\n",
       "      <td>0</td>\n",
       "      <td>0</td>\n",
       "      <td>16/02/2018 08:33:01</td>\n",
       "      <td>112640836</td>\n",
       "      <td>3</td>\n",
       "      <td>0</td>\n",
       "      <td>0</td>\n",
       "      <td>0</td>\n",
       "      <td>0</td>\n",
       "      <td>0</td>\n",
       "      <td>...</td>\n",
       "      <td>0</td>\n",
       "      <td>0</td>\n",
       "      <td>0</td>\n",
       "      <td>0</td>\n",
       "      <td>0</td>\n",
       "      <td>5.63e+07</td>\n",
       "      <td>82.0244</td>\n",
       "      <td>56300000</td>\n",
       "      <td>56300000</td>\n",
       "      <td>Benign</td>\n",
       "    </tr>\n",
       "    <tr>\n",
       "      <td>4</td>\n",
       "      <td>23</td>\n",
       "      <td>6</td>\n",
       "      <td>16/02/2018 08:27:59</td>\n",
       "      <td>20</td>\n",
       "      <td>1</td>\n",
       "      <td>1</td>\n",
       "      <td>0</td>\n",
       "      <td>0</td>\n",
       "      <td>0</td>\n",
       "      <td>0</td>\n",
       "      <td>...</td>\n",
       "      <td>20</td>\n",
       "      <td>0</td>\n",
       "      <td>0</td>\n",
       "      <td>0</td>\n",
       "      <td>0</td>\n",
       "      <td>0</td>\n",
       "      <td>0</td>\n",
       "      <td>0</td>\n",
       "      <td>0</td>\n",
       "      <td>Benign</td>\n",
       "    </tr>\n",
       "  </tbody>\n",
       "</table>\n",
       "<p>5 rows × 80 columns</p>\n",
       "</div>"
      ],
      "text/plain": [
       "  Dst Port Protocol            Timestamp Flow Duration Tot Fwd Pkts  \\\n",
       "0        0        0  16/02/2018 08:27:23     112640768            3   \n",
       "1        0        0  16/02/2018 08:30:12     112641773            3   \n",
       "2    35605        6  16/02/2018 08:26:55      20784143           23   \n",
       "3        0        0  16/02/2018 08:33:01     112640836            3   \n",
       "4       23        6  16/02/2018 08:27:59            20            1   \n",
       "\n",
       "  Tot Bwd Pkts TotLen Fwd Pkts TotLen Bwd Pkts Fwd Pkt Len Max  \\\n",
       "0            0               0               0               0   \n",
       "1            0               0               0               0   \n",
       "2           44            2416            1344             240   \n",
       "3            0               0               0               0   \n",
       "4            1               0               0               0   \n",
       "\n",
       "  Fwd Pkt Len Min  ... Fwd Seg Size Min Active Mean Active Std Active Max  \\\n",
       "0               0  ...                0           0          0          0   \n",
       "1               0  ...                0           0          0          0   \n",
       "2              64  ...               20     2624734          0    2624734   \n",
       "3               0  ...                0           0          0          0   \n",
       "4               0  ...               20           0          0          0   \n",
       "\n",
       "  Active Min    Idle Mean Idle Std  Idle Max  Idle Min   Label  \n",
       "0          0     5.63e+07  138.593  56300000  56300000  Benign  \n",
       "1          0     5.63e+07  263.751  56300000  56300000  Benign  \n",
       "2    2624734  9.05821e+06        0   9058214   9058214  Benign  \n",
       "3          0     5.63e+07  82.0244  56300000  56300000  Benign  \n",
       "4          0            0        0         0         0  Benign  \n",
       "\n",
       "[5 rows x 80 columns]"
      ]
     },
     "execution_count": 3,
     "metadata": {},
     "output_type": "execute_result"
    }
   ],
   "source": [
    "df = pd.read_csv('Friday-16-02-2018_TrafficForML_CICFlowMeter.csv')\n",
    "df.head()"
   ]
  },
  {
   "cell_type": "code",
   "execution_count": 4,
   "metadata": {},
   "outputs": [
    {
     "data": {
      "text/html": [
       "<div>\n",
       "<style scoped>\n",
       "    .dataframe tbody tr th:only-of-type {\n",
       "        vertical-align: middle;\n",
       "    }\n",
       "\n",
       "    .dataframe tbody tr th {\n",
       "        vertical-align: top;\n",
       "    }\n",
       "\n",
       "    .dataframe thead th {\n",
       "        text-align: right;\n",
       "    }\n",
       "</style>\n",
       "<table border=\"1\" class=\"dataframe\">\n",
       "  <thead>\n",
       "    <tr style=\"text-align: right;\">\n",
       "      <th></th>\n",
       "      <th>Dst Port</th>\n",
       "      <th>Protocol</th>\n",
       "      <th>Timestamp</th>\n",
       "      <th>Flow Duration</th>\n",
       "      <th>Tot Fwd Pkts</th>\n",
       "      <th>Tot Bwd Pkts</th>\n",
       "      <th>TotLen Fwd Pkts</th>\n",
       "      <th>TotLen Bwd Pkts</th>\n",
       "      <th>Fwd Pkt Len Max</th>\n",
       "      <th>Fwd Pkt Len Min</th>\n",
       "      <th>...</th>\n",
       "      <th>Active Mean</th>\n",
       "      <th>Active Std</th>\n",
       "      <th>Active Max</th>\n",
       "      <th>Active Min</th>\n",
       "      <th>Idle Mean</th>\n",
       "      <th>Idle Std</th>\n",
       "      <th>Idle Max</th>\n",
       "      <th>Idle Min</th>\n",
       "      <th>Label</th>\n",
       "      <th>BiFlowsCount</th>\n",
       "    </tr>\n",
       "  </thead>\n",
       "  <tbody>\n",
       "    <tr>\n",
       "      <td>0</td>\n",
       "      <td>0</td>\n",
       "      <td>0</td>\n",
       "      <td>16/02/2018 08:27:23</td>\n",
       "      <td>112640768</td>\n",
       "      <td>3</td>\n",
       "      <td>0</td>\n",
       "      <td>0</td>\n",
       "      <td>0</td>\n",
       "      <td>0</td>\n",
       "      <td>0</td>\n",
       "      <td>...</td>\n",
       "      <td>0</td>\n",
       "      <td>0</td>\n",
       "      <td>0</td>\n",
       "      <td>0</td>\n",
       "      <td>5.63e+07</td>\n",
       "      <td>138.593</td>\n",
       "      <td>56300000</td>\n",
       "      <td>56300000</td>\n",
       "      <td>Benign</td>\n",
       "      <td>2</td>\n",
       "    </tr>\n",
       "    <tr>\n",
       "      <td>1</td>\n",
       "      <td>0</td>\n",
       "      <td>0</td>\n",
       "      <td>16/02/2018 08:27:23</td>\n",
       "      <td>112640768</td>\n",
       "      <td>3</td>\n",
       "      <td>0</td>\n",
       "      <td>0</td>\n",
       "      <td>0</td>\n",
       "      <td>0</td>\n",
       "      <td>0</td>\n",
       "      <td>...</td>\n",
       "      <td>0</td>\n",
       "      <td>0</td>\n",
       "      <td>0</td>\n",
       "      <td>0</td>\n",
       "      <td>56300000</td>\n",
       "      <td>138.5929291</td>\n",
       "      <td>56300000</td>\n",
       "      <td>56300000</td>\n",
       "      <td>Benign</td>\n",
       "      <td>2</td>\n",
       "    </tr>\n",
       "    <tr>\n",
       "      <td>2</td>\n",
       "      <td>0</td>\n",
       "      <td>0</td>\n",
       "      <td>16/02/2018 08:30:12</td>\n",
       "      <td>112641773</td>\n",
       "      <td>3</td>\n",
       "      <td>0</td>\n",
       "      <td>0</td>\n",
       "      <td>0</td>\n",
       "      <td>0</td>\n",
       "      <td>0</td>\n",
       "      <td>...</td>\n",
       "      <td>0</td>\n",
       "      <td>0</td>\n",
       "      <td>0</td>\n",
       "      <td>0</td>\n",
       "      <td>5.63e+07</td>\n",
       "      <td>263.751</td>\n",
       "      <td>56300000</td>\n",
       "      <td>56300000</td>\n",
       "      <td>Benign</td>\n",
       "      <td>2</td>\n",
       "    </tr>\n",
       "    <tr>\n",
       "      <td>3</td>\n",
       "      <td>0</td>\n",
       "      <td>0</td>\n",
       "      <td>16/02/2018 08:30:12</td>\n",
       "      <td>112641773</td>\n",
       "      <td>3</td>\n",
       "      <td>0</td>\n",
       "      <td>0</td>\n",
       "      <td>0</td>\n",
       "      <td>0</td>\n",
       "      <td>0</td>\n",
       "      <td>...</td>\n",
       "      <td>0</td>\n",
       "      <td>0</td>\n",
       "      <td>0</td>\n",
       "      <td>0</td>\n",
       "      <td>56300000</td>\n",
       "      <td>263.7508294</td>\n",
       "      <td>56300000</td>\n",
       "      <td>56300000</td>\n",
       "      <td>Benign</td>\n",
       "      <td>2</td>\n",
       "    </tr>\n",
       "    <tr>\n",
       "      <td>4</td>\n",
       "      <td>35605</td>\n",
       "      <td>6</td>\n",
       "      <td>16/02/2018 08:26:55</td>\n",
       "      <td>20784143</td>\n",
       "      <td>23</td>\n",
       "      <td>44</td>\n",
       "      <td>2416</td>\n",
       "      <td>1344</td>\n",
       "      <td>240</td>\n",
       "      <td>64</td>\n",
       "      <td>...</td>\n",
       "      <td>2624734</td>\n",
       "      <td>0</td>\n",
       "      <td>2624734</td>\n",
       "      <td>2624734</td>\n",
       "      <td>9.05821e+06</td>\n",
       "      <td>0</td>\n",
       "      <td>9058214</td>\n",
       "      <td>9058214</td>\n",
       "      <td>Benign</td>\n",
       "      <td>2</td>\n",
       "    </tr>\n",
       "    <tr>\n",
       "      <td>...</td>\n",
       "      <td>...</td>\n",
       "      <td>...</td>\n",
       "      <td>...</td>\n",
       "      <td>...</td>\n",
       "      <td>...</td>\n",
       "      <td>...</td>\n",
       "      <td>...</td>\n",
       "      <td>...</td>\n",
       "      <td>...</td>\n",
       "      <td>...</td>\n",
       "      <td>...</td>\n",
       "      <td>...</td>\n",
       "      <td>...</td>\n",
       "      <td>...</td>\n",
       "      <td>...</td>\n",
       "      <td>...</td>\n",
       "      <td>...</td>\n",
       "      <td>...</td>\n",
       "      <td>...</td>\n",
       "      <td>...</td>\n",
       "      <td>...</td>\n",
       "    </tr>\n",
       "    <tr>\n",
       "      <td>1048570</td>\n",
       "      <td>80</td>\n",
       "      <td>6</td>\n",
       "      <td>16/02/2018 01:48:44</td>\n",
       "      <td>22177</td>\n",
       "      <td>2</td>\n",
       "      <td>0</td>\n",
       "      <td>0</td>\n",
       "      <td>0</td>\n",
       "      <td>0</td>\n",
       "      <td>0</td>\n",
       "      <td>...</td>\n",
       "      <td>0</td>\n",
       "      <td>0</td>\n",
       "      <td>0</td>\n",
       "      <td>0</td>\n",
       "      <td>0</td>\n",
       "      <td>0</td>\n",
       "      <td>0</td>\n",
       "      <td>0</td>\n",
       "      <td>DoS attacks-Hulk</td>\n",
       "      <td>124</td>\n",
       "    </tr>\n",
       "    <tr>\n",
       "      <td>1048571</td>\n",
       "      <td>80</td>\n",
       "      <td>6</td>\n",
       "      <td>16/02/2018 01:48:44</td>\n",
       "      <td>22277</td>\n",
       "      <td>2</td>\n",
       "      <td>0</td>\n",
       "      <td>0</td>\n",
       "      <td>0</td>\n",
       "      <td>0</td>\n",
       "      <td>0</td>\n",
       "      <td>...</td>\n",
       "      <td>0</td>\n",
       "      <td>0</td>\n",
       "      <td>0</td>\n",
       "      <td>0</td>\n",
       "      <td>0</td>\n",
       "      <td>0</td>\n",
       "      <td>0</td>\n",
       "      <td>0</td>\n",
       "      <td>DoS attacks-Hulk</td>\n",
       "      <td>124</td>\n",
       "    </tr>\n",
       "    <tr>\n",
       "      <td>1048572</td>\n",
       "      <td>80</td>\n",
       "      <td>6</td>\n",
       "      <td>16/02/2018 01:48:44</td>\n",
       "      <td>22825</td>\n",
       "      <td>2</td>\n",
       "      <td>0</td>\n",
       "      <td>0</td>\n",
       "      <td>0</td>\n",
       "      <td>0</td>\n",
       "      <td>0</td>\n",
       "      <td>...</td>\n",
       "      <td>0</td>\n",
       "      <td>0</td>\n",
       "      <td>0</td>\n",
       "      <td>0</td>\n",
       "      <td>0</td>\n",
       "      <td>0</td>\n",
       "      <td>0</td>\n",
       "      <td>0</td>\n",
       "      <td>DoS attacks-Hulk</td>\n",
       "      <td>124</td>\n",
       "    </tr>\n",
       "    <tr>\n",
       "      <td>1048573</td>\n",
       "      <td>80</td>\n",
       "      <td>6</td>\n",
       "      <td>16/02/2018 01:48:44</td>\n",
       "      <td>22894</td>\n",
       "      <td>2</td>\n",
       "      <td>0</td>\n",
       "      <td>0</td>\n",
       "      <td>0</td>\n",
       "      <td>0</td>\n",
       "      <td>0</td>\n",
       "      <td>...</td>\n",
       "      <td>0</td>\n",
       "      <td>0</td>\n",
       "      <td>0</td>\n",
       "      <td>0</td>\n",
       "      <td>0</td>\n",
       "      <td>0</td>\n",
       "      <td>0</td>\n",
       "      <td>0</td>\n",
       "      <td>DoS attacks-Hulk</td>\n",
       "      <td>124</td>\n",
       "    </tr>\n",
       "    <tr>\n",
       "      <td>1048574</td>\n",
       "      <td>Dst Port</td>\n",
       "      <td>Protocol</td>\n",
       "      <td>Timestamp</td>\n",
       "      <td>Flow Duration</td>\n",
       "      <td>Tot Fwd Pkts</td>\n",
       "      <td>Tot Bwd Pkts</td>\n",
       "      <td>TotLen Fwd Pkts</td>\n",
       "      <td>TotLen Bwd Pkts</td>\n",
       "      <td>Fwd Pkt Len Max</td>\n",
       "      <td>Fwd Pkt Len Min</td>\n",
       "      <td>...</td>\n",
       "      <td>Active Mean</td>\n",
       "      <td>Active Std</td>\n",
       "      <td>Active Max</td>\n",
       "      <td>Active Min</td>\n",
       "      <td>Idle Mean</td>\n",
       "      <td>Idle Std</td>\n",
       "      <td>Idle Max</td>\n",
       "      <td>Idle Min</td>\n",
       "      <td>Label</td>\n",
       "      <td>1</td>\n",
       "    </tr>\n",
       "  </tbody>\n",
       "</table>\n",
       "<p>1048575 rows × 81 columns</p>\n",
       "</div>"
      ],
      "text/plain": [
       "         Dst Port  Protocol            Timestamp  Flow Duration  Tot Fwd Pkts  \\\n",
       "0               0         0  16/02/2018 08:27:23      112640768             3   \n",
       "1               0         0  16/02/2018 08:27:23      112640768             3   \n",
       "2               0         0  16/02/2018 08:30:12      112641773             3   \n",
       "3               0         0  16/02/2018 08:30:12      112641773             3   \n",
       "4           35605         6  16/02/2018 08:26:55       20784143            23   \n",
       "...           ...       ...                  ...            ...           ...   \n",
       "1048570        80         6  16/02/2018 01:48:44          22177             2   \n",
       "1048571        80         6  16/02/2018 01:48:44          22277             2   \n",
       "1048572        80         6  16/02/2018 01:48:44          22825             2   \n",
       "1048573        80         6  16/02/2018 01:48:44          22894             2   \n",
       "1048574  Dst Port  Protocol            Timestamp  Flow Duration  Tot Fwd Pkts   \n",
       "\n",
       "         Tot Bwd Pkts  TotLen Fwd Pkts  TotLen Bwd Pkts  Fwd Pkt Len Max  \\\n",
       "0                   0                0                0                0   \n",
       "1                   0                0                0                0   \n",
       "2                   0                0                0                0   \n",
       "3                   0                0                0                0   \n",
       "4                  44             2416             1344              240   \n",
       "...               ...              ...              ...              ...   \n",
       "1048570             0                0                0                0   \n",
       "1048571             0                0                0                0   \n",
       "1048572             0                0                0                0   \n",
       "1048573             0                0                0                0   \n",
       "1048574  Tot Bwd Pkts  TotLen Fwd Pkts  TotLen Bwd Pkts  Fwd Pkt Len Max   \n",
       "\n",
       "         Fwd Pkt Len Min  ...  Active Mean  Active Std  Active Max  \\\n",
       "0                      0  ...            0           0           0   \n",
       "1                      0  ...            0           0           0   \n",
       "2                      0  ...            0           0           0   \n",
       "3                      0  ...            0           0           0   \n",
       "4                     64  ...      2624734           0     2624734   \n",
       "...                  ...  ...          ...         ...         ...   \n",
       "1048570                0  ...            0           0           0   \n",
       "1048571                0  ...            0           0           0   \n",
       "1048572                0  ...            0           0           0   \n",
       "1048573                0  ...            0           0           0   \n",
       "1048574  Fwd Pkt Len Min  ...  Active Mean  Active Std  Active Max   \n",
       "\n",
       "         Active Min    Idle Mean     Idle Std  Idle Max  Idle Min  \\\n",
       "0                 0     5.63e+07      138.593  56300000  56300000   \n",
       "1                 0     56300000  138.5929291  56300000  56300000   \n",
       "2                 0     5.63e+07      263.751  56300000  56300000   \n",
       "3                 0     56300000  263.7508294  56300000  56300000   \n",
       "4           2624734  9.05821e+06            0   9058214   9058214   \n",
       "...             ...          ...          ...       ...       ...   \n",
       "1048570           0            0            0         0         0   \n",
       "1048571           0            0            0         0         0   \n",
       "1048572           0            0            0         0         0   \n",
       "1048573           0            0            0         0         0   \n",
       "1048574  Active Min    Idle Mean     Idle Std  Idle Max  Idle Min   \n",
       "\n",
       "                    Label BiFlowsCount  \n",
       "0                  Benign            2  \n",
       "1                  Benign            2  \n",
       "2                  Benign            2  \n",
       "3                  Benign            2  \n",
       "4                  Benign            2  \n",
       "...                   ...          ...  \n",
       "1048570  DoS attacks-Hulk          124  \n",
       "1048571  DoS attacks-Hulk          124  \n",
       "1048572  DoS attacks-Hulk          124  \n",
       "1048573  DoS attacks-Hulk          124  \n",
       "1048574             Label            1  \n",
       "\n",
       "[1048575 rows x 81 columns]"
      ]
     },
     "execution_count": 4,
     "metadata": {},
     "output_type": "execute_result"
    }
   ],
   "source": [
    "df2 = df.groupby(['Timestamp'])['Flow Duration'].count()\n",
    "df2 = pd.DataFrame(df2).reset_index()\n",
    "df2.columns=['Timestamp','BiFlowsCount']\n",
    "df = df.merge(df2, left_on='Timestamp', right_on='Timestamp')\n",
    "#df = df.sort_values(' Timestamp')\n",
    "\n",
    "df"
   ]
  },
  {
   "cell_type": "code",
   "execution_count": 5,
   "metadata": {},
   "outputs": [],
   "source": [
    "#del df['Unnamed: 0']\n",
    "#del df['target']"
   ]
  },
  {
   "cell_type": "code",
   "execution_count": 6,
   "metadata": {},
   "outputs": [],
   "source": [
    " features =['Dst Port','Fwd Pkt Len Std', 'Fwd Pkt Len Max', 'Fwd Pkt Len Mean', \n",
    "                       'Fwd Seg Size Avg', 'Pkt Len Std', 'Bwd Pkt Len Std', 'Pkt Len Max', \n",
    "                       'Bwd Pkt Len Max', 'TotLen Fwd Pkts', 'Pkt Len Var', \n",
    "                       'Pkt Size Avg', \n",
    "                       'Bwd Pkt Len Mean', 'Flow IAT Mean', \n",
    "                       'Fwd IAT Mean', 'Flow IAT Std', 'Fwd IAT Max', 'Init Bwd Win Byts', 'PSH Flag Cnt', \n",
    "                       'Init Fwd Win Byts' ]"
   ]
  },
  {
   "cell_type": "code",
   "execution_count": 7,
   "metadata": {},
   "outputs": [],
   "source": [
    "fraction = 0.5\n",
    "df = df.sample(frac=fraction, replace=True, random_state=1)"
   ]
  },
  {
   "cell_type": "code",
   "execution_count": 8,
   "metadata": {},
   "outputs": [],
   "source": [
    "def targetify(s):\n",
    "    if s == 'Benign':\n",
    "        return 0\n",
    "    else:\n",
    "        return 1"
   ]
  },
  {
   "cell_type": "code",
   "execution_count": 9,
   "metadata": {},
   "outputs": [],
   "source": [
    "df['Target']=df['Label'].apply(targetify)"
   ]
  },
  {
   "cell_type": "code",
   "execution_count": 10,
   "metadata": {},
   "outputs": [
    {
     "name": "stderr",
     "output_type": "stream",
     "text": [
      "C:\\Users\\kdagi\\Anaconda3\\lib\\site-packages\\pandas\\core\\frame.py:3494: SettingWithCopyWarning: \n",
      "A value is trying to be set on a copy of a slice from a DataFrame.\n",
      "Try using .loc[row_indexer,col_indexer] = value instead\n",
      "\n",
      "See the caveats in the documentation: http://pandas.pydata.org/pandas-docs/stable/user_guide/indexing.html#returning-a-view-versus-a-copy\n",
      "  self[k1] = value[k2]\n"
     ]
    }
   ],
   "source": [
    "X = df[features]\n",
    "X[features] = X[features].apply(pd.to_numeric, errors='coerce', axis=1)"
   ]
  },
  {
   "cell_type": "code",
   "execution_count": 11,
   "metadata": {},
   "outputs": [],
   "source": [
    "y = df['Target']"
   ]
  },
  {
   "cell_type": "code",
   "execution_count": 12,
   "metadata": {},
   "outputs": [],
   "source": [
    "X = X.fillna(0)"
   ]
  },
  {
   "cell_type": "code",
   "execution_count": 13,
   "metadata": {
    "scrolled": true
   },
   "outputs": [
    {
     "name": "stdout",
     "output_type": "stream",
     "text": [
      "(419430, 20) (419430,)\n",
      "(104858, 20) (104858,)\n"
     ]
    }
   ],
   "source": [
    "X_train, X_test, y_train, y_test = train_test_split(X, y, test_size=0.2)\n",
    "print (X_train.shape, y_train.shape)\n",
    "print( X_test.shape, y_test.shape)"
   ]
  },
  {
   "cell_type": "code",
   "execution_count": 14,
   "metadata": {},
   "outputs": [],
   "source": [
    "min_max_scaler = preprocessing.MinMaxScaler()\n",
    "x_scaled = min_max_scaler.fit_transform(X_train.values)\n",
    "X_train = pd.DataFrame(x_scaled,columns=features)\n",
    "x_scaled_test = min_max_scaler.fit_transform(X_test.values)\n",
    "X_test = pd.DataFrame(x_scaled_test,columns=features)"
   ]
  },
  {
   "cell_type": "code",
   "execution_count": 15,
   "metadata": {},
   "outputs": [],
   "source": [
    "model = tf.keras.Sequential([\n",
    "    tf.keras.layers.Embedding(100000, 64), # since it doesn't consider \"words,\" the embedding doesn't really matter\n",
    "    tf.keras.layers.Bidirectional(tf.keras.layers.LSTM(64)),\n",
    "    tf.keras.layers.Dense(64, activation='relu'),\n",
    "    tf.keras.layers.Dense(1, activation='sigmoid')\n",
    "    # tf.keras.layers.Dense(1, activation='softmax') # loss too big\n",
    "]) "
   ]
  },
  {
   "cell_type": "code",
   "execution_count": 16,
   "metadata": {},
   "outputs": [],
   "source": [
    "model.compile(loss='binary_crossentropy',\n",
    "              # optimizer='sgd', # almost same\n",
    "              optimizer=tf.keras.optimizers.Adam(1e-4),\n",
    "              metrics=['accuracy'])"
   ]
  },
  {
   "cell_type": "code",
   "execution_count": 17,
   "metadata": {
    "scrolled": true
   },
   "outputs": [
    {
     "name": "stdout",
     "output_type": "stream",
     "text": [
      "Train on 419430 samples\n",
      "Epoch 1/3\n",
      "419430/419430 [==============================] - 3938s 9ms/sample - loss: 0.5972 - accuracy: 0.5723\n",
      "Epoch 2/3\n",
      "419430/419430 [==============================] - 2205s 5ms/sample - loss: 0.5926 - accuracy: 0.5732\n",
      "Epoch 3/3\n",
      "419430/419430 [==============================] - 1437s 3ms/sample - loss: 0.5926 - accuracy: 0.5726\n"
     ]
    }
   ],
   "source": [
    "history = model.fit(X_train.values, y_train.values, epochs=3)\n"
   ]
  },
  {
   "cell_type": "code",
   "execution_count": 18,
   "metadata": {},
   "outputs": [
    {
     "name": "stdout",
     "output_type": "stream",
     "text": [
      "[[0.5004262]\n",
      " [0.9999027]\n",
      " [0.9999027]\n",
      " ...\n",
      " [0.9999027]\n",
      " [0.9999027]\n",
      " [0.9999027]]\n"
     ]
    }
   ],
   "source": [
    "pred_class = model.predict(X_test.values[:])\n",
    "print(pred_class)"
   ]
  },
  {
   "cell_type": "code",
   "execution_count": 19,
   "metadata": {},
   "outputs": [],
   "source": [
    "def myRound(x, r):\n",
    "    if x>r/float(1000):\n",
    "        return 1\n",
    "    else:\n",
    "        return 0"
   ]
  },
  {
   "cell_type": "code",
   "execution_count": 20,
   "metadata": {},
   "outputs": [
    {
     "name": "stdout",
     "output_type": "stream",
     "text": [
      "1.0\n",
      "1.0\n"
     ]
    }
   ],
   "source": [
    "print(round(pred_class[2][0]))\n",
    "print(round(pred_class[1][0]))"
   ]
  },
  {
   "cell_type": "code",
   "execution_count": 21,
   "metadata": {},
   "outputs": [],
   "source": [
    "predictions = [int(round(x[0])) for x in pred_class]\n",
    "true_class = list(y_test)"
   ]
  },
  {
   "cell_type": "code",
   "execution_count": 22,
   "metadata": {},
   "outputs": [
    {
     "name": "stdout",
     "output_type": "stream",
     "text": [
      "[0, 1, 1, 1, 0, 0, 1, 0, 0, 0] 104858\n",
      "[1, 1, 1, 1, 1, 1, 1, 1, 1, 1] 104858\n"
     ]
    }
   ],
   "source": [
    "print(true_class[:10], len(true_class))\n",
    "print(predictions[:10], len(predictions))"
   ]
  },
  {
   "cell_type": "code",
   "execution_count": 23,
   "metadata": {},
   "outputs": [
    {
     "name": "stdout",
     "output_type": "stream",
     "text": [
      "       pred_class  true_class\n",
      "0               1           0\n",
      "69896           1           1\n",
      "69906           1           0\n",
      "69905           1           1\n",
      "69904           1           0\n",
      "69903           1           1\n",
      "69902           1           0\n",
      "69901           1           0\n",
      "69900           1           0\n",
      "69899           1           1\n"
     ]
    }
   ],
   "source": [
    "compdf = pd.DataFrame({'pred_class':predictions, 'true_class':true_class})\n",
    "compdf = compdf.sort_values('pred_class', ascending=False)\n",
    "print(str(compdf.head(10)))"
   ]
  },
  {
   "cell_type": "code",
   "execution_count": 24,
   "metadata": {},
   "outputs": [],
   "source": [
    "predictions = list(compdf['pred_class'].apply(myRound, r=225))\n",
    "true_class = list(compdf['true_class'])"
   ]
  },
  {
   "cell_type": "code",
   "execution_count": 25,
   "metadata": {},
   "outputs": [
    {
     "name": "stdout",
     "output_type": "stream",
     "text": [
      "[1, 1, 1, 1, 1, 1, 1, 1, 1, 1]\n",
      "[0, 1, 0, 1, 0, 1, 0, 0, 0, 1]\n"
     ]
    }
   ],
   "source": [
    "print(predictions[:10])\n",
    "print(true_class[:10])"
   ]
  },
  {
   "cell_type": "code",
   "execution_count": 26,
   "metadata": {},
   "outputs": [],
   "source": [
    "from sklearn.metrics import confusion_matrix"
   ]
  },
  {
   "cell_type": "code",
   "execution_count": 27,
   "metadata": {},
   "outputs": [
    {
     "data": {
      "text/plain": [
       "array([[   31, 44276],\n",
       "       [   12, 60539]], dtype=int64)"
      ]
     },
     "execution_count": 27,
     "metadata": {},
     "output_type": "execute_result"
    }
   ],
   "source": [
    "confm = confusion_matrix(true_class, predictions)\n",
    "confm"
   ]
  },
  {
   "cell_type": "code",
   "execution_count": 28,
   "metadata": {},
   "outputs": [
    {
     "data": {
      "text/plain": [
       "0.5776383299319079"
      ]
     },
     "execution_count": 28,
     "metadata": {},
     "output_type": "execute_result"
    }
   ],
   "source": [
    "tn, fp, fn, tp = confm.ravel()\n",
    "(tn + tp)/(tn+tp+fn+fp)"
   ]
  },
  {
   "cell_type": "code",
   "execution_count": 29,
   "metadata": {},
   "outputs": [
    {
     "name": "stdout",
     "output_type": "stream",
     "text": [
      "False alarm rate is\n"
     ]
    },
    {
     "data": {
      "text/plain": [
       "0.9993003362899767"
      ]
     },
     "execution_count": 29,
     "metadata": {},
     "output_type": "execute_result"
    }
   ],
   "source": [
    "print(\"False alarm rate is\")\n",
    "fp/(tn+fp)"
   ]
  },
  {
   "cell_type": "code",
   "execution_count": 30,
   "metadata": {},
   "outputs": [
    {
     "name": "stdout",
     "output_type": "stream",
     "text": [
      "Precision is\n"
     ]
    },
    {
     "data": {
      "text/plain": [
       "0.5775795449124648"
      ]
     },
     "execution_count": 30,
     "metadata": {},
     "output_type": "execute_result"
    }
   ],
   "source": [
    "print(\"Precision is\")\n",
    "Precision = tp/(tp+fp)\n",
    "Precision"
   ]
  },
  {
   "cell_type": "code",
   "execution_count": 31,
   "metadata": {},
   "outputs": [
    {
     "name": "stdout",
     "output_type": "stream",
     "text": [
      "Recall is\n"
     ]
    },
    {
     "data": {
      "text/plain": [
       "0.9998018199534277"
      ]
     },
     "execution_count": 31,
     "metadata": {},
     "output_type": "execute_result"
    }
   ],
   "source": [
    "print(\"Recall is\")\n",
    "Recall = tp/(tp+fn)\n",
    "Recall"
   ]
  },
  {
   "cell_type": "code",
   "execution_count": 32,
   "metadata": {},
   "outputs": [
    {
     "name": "stdout",
     "output_type": "stream",
     "text": [
      "F1 is\n"
     ]
    },
    {
     "data": {
      "text/plain": [
       "0.7321819479215799"
      ]
     },
     "execution_count": 32,
     "metadata": {},
     "output_type": "execute_result"
    }
   ],
   "source": [
    "print(\"F1 is\")\n",
    "2*Precision*Recall/(Precision+Recall)"
   ]
  },
  {
   "cell_type": "code",
   "execution_count": null,
   "metadata": {},
   "outputs": [],
   "source": []
  }
 ],
 "metadata": {
  "kernelspec": {
   "display_name": "Python 3",
   "language": "python",
   "name": "python3"
  },
  "language_info": {
   "codemirror_mode": {
    "name": "ipython",
    "version": 3
   },
   "file_extension": ".py",
   "mimetype": "text/x-python",
   "name": "python",
   "nbconvert_exporter": "python",
   "pygments_lexer": "ipython3",
   "version": "3.6.9"
  }
 },
 "nbformat": 4,
 "nbformat_minor": 2
}
