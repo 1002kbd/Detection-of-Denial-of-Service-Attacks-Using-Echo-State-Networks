{
 "cells": [
  {
   "cell_type": "code",
   "execution_count": 1,
   "metadata": {},
   "outputs": [],
   "source": [
    " import tensorflow as tf\n",
    "import pandas as pd\n",
    "import numpy as np\n",
    "import sklearn\n",
    "import matplotlib.pyplot as plt\n",
    "from sklearn.model_selection import train_test_split\n",
    "from sklearn import preprocessing"
   ]
  },
  {
   "cell_type": "code",
   "execution_count": 2,
   "metadata": {},
   "outputs": [],
   "source": [
    "def plot_graphs(history, string):\n",
    "    plt.plot(history.history[string])\n",
    "    # plt.plot(history.history['val_'+string], '')\n",
    "    plt.xlabel(\"Epochs\")\n",
    "    plt.ylabel(string)\n",
    "    # plt.legend([string, 'val_'+string])\n",
    "    plt.show()"
   ]
  },
  {
   "cell_type": "code",
   "execution_count": 3,
   "metadata": {},
   "outputs": [
    {
     "data": {
      "text/html": [
       "<div>\n",
       "<style scoped>\n",
       "    .dataframe tbody tr th:only-of-type {\n",
       "        vertical-align: middle;\n",
       "    }\n",
       "\n",
       "    .dataframe tbody tr th {\n",
       "        vertical-align: top;\n",
       "    }\n",
       "\n",
       "    .dataframe thead th {\n",
       "        text-align: right;\n",
       "    }\n",
       "</style>\n",
       "<table border=\"1\" class=\"dataframe\">\n",
       "  <thead>\n",
       "    <tr style=\"text-align: right;\">\n",
       "      <th></th>\n",
       "      <th>Unnamed: 0</th>\n",
       "      <th>Dst Port</th>\n",
       "      <th>Protocol</th>\n",
       "      <th>Timestamp</th>\n",
       "      <th>Flow Duration</th>\n",
       "      <th>Tot Fwd Pkts</th>\n",
       "      <th>Tot Bwd Pkts</th>\n",
       "      <th>TotLen Fwd Pkts</th>\n",
       "      <th>TotLen Bwd Pkts</th>\n",
       "      <th>Fwd Pkt Len Max</th>\n",
       "      <th>...</th>\n",
       "      <th>Active Mean</th>\n",
       "      <th>Active Std</th>\n",
       "      <th>Active Max</th>\n",
       "      <th>Active Min</th>\n",
       "      <th>Idle Mean</th>\n",
       "      <th>Idle Std</th>\n",
       "      <th>Idle Max</th>\n",
       "      <th>Idle Min</th>\n",
       "      <th>Label</th>\n",
       "      <th>target</th>\n",
       "    </tr>\n",
       "  </thead>\n",
       "  <tbody>\n",
       "    <tr>\n",
       "      <td>0</td>\n",
       "      <td>45026</td>\n",
       "      <td>80</td>\n",
       "      <td>6</td>\n",
       "      <td>15/02/2018 09:52:24</td>\n",
       "      <td>57871410</td>\n",
       "      <td>2</td>\n",
       "      <td>0</td>\n",
       "      <td>0</td>\n",
       "      <td>0</td>\n",
       "      <td>0</td>\n",
       "      <td>...</td>\n",
       "      <td>0.000000</td>\n",
       "      <td>0.000000</td>\n",
       "      <td>0</td>\n",
       "      <td>0</td>\n",
       "      <td>5.787141e+07</td>\n",
       "      <td>0.000000e+00</td>\n",
       "      <td>57871410</td>\n",
       "      <td>57871410</td>\n",
       "      <td>DoS attacks-GoldenEye</td>\n",
       "      <td>1</td>\n",
       "    </tr>\n",
       "    <tr>\n",
       "      <td>1</td>\n",
       "      <td>27221</td>\n",
       "      <td>80</td>\n",
       "      <td>6</td>\n",
       "      <td>15/02/2018 09:49:24</td>\n",
       "      <td>4485538</td>\n",
       "      <td>5</td>\n",
       "      <td>3</td>\n",
       "      <td>459</td>\n",
       "      <td>972</td>\n",
       "      <td>459</td>\n",
       "      <td>...</td>\n",
       "      <td>0.000000</td>\n",
       "      <td>0.000000</td>\n",
       "      <td>0</td>\n",
       "      <td>0</td>\n",
       "      <td>0.000000e+00</td>\n",
       "      <td>0.000000e+00</td>\n",
       "      <td>0</td>\n",
       "      <td>0</td>\n",
       "      <td>DoS attacks-GoldenEye</td>\n",
       "      <td>1</td>\n",
       "    </tr>\n",
       "    <tr>\n",
       "      <td>2</td>\n",
       "      <td>888204</td>\n",
       "      <td>443</td>\n",
       "      <td>6</td>\n",
       "      <td>15/02/2018 02:15:13</td>\n",
       "      <td>116039294</td>\n",
       "      <td>19</td>\n",
       "      <td>17</td>\n",
       "      <td>1109</td>\n",
       "      <td>594</td>\n",
       "      <td>517</td>\n",
       "      <td>...</td>\n",
       "      <td>63537.166667</td>\n",
       "      <td>36001.448059</td>\n",
       "      <td>177857</td>\n",
       "      <td>53084</td>\n",
       "      <td>9.606401e+06</td>\n",
       "      <td>1.393516e+06</td>\n",
       "      <td>10009077</td>\n",
       "      <td>5181394</td>\n",
       "      <td>Benign</td>\n",
       "      <td>0</td>\n",
       "    </tr>\n",
       "    <tr>\n",
       "      <td>3</td>\n",
       "      <td>361821</td>\n",
       "      <td>53037</td>\n",
       "      <td>6</td>\n",
       "      <td>15/02/2018 10:57:51</td>\n",
       "      <td>124</td>\n",
       "      <td>2</td>\n",
       "      <td>0</td>\n",
       "      <td>0</td>\n",
       "      <td>0</td>\n",
       "      <td>0</td>\n",
       "      <td>...</td>\n",
       "      <td>0.000000</td>\n",
       "      <td>0.000000</td>\n",
       "      <td>0</td>\n",
       "      <td>0</td>\n",
       "      <td>0.000000e+00</td>\n",
       "      <td>0.000000e+00</td>\n",
       "      <td>0</td>\n",
       "      <td>0</td>\n",
       "      <td>Benign</td>\n",
       "      <td>0</td>\n",
       "    </tr>\n",
       "    <tr>\n",
       "      <td>4</td>\n",
       "      <td>859694</td>\n",
       "      <td>80</td>\n",
       "      <td>6</td>\n",
       "      <td>15/02/2018 12:08:17</td>\n",
       "      <td>38003752</td>\n",
       "      <td>7</td>\n",
       "      <td>8</td>\n",
       "      <td>434</td>\n",
       "      <td>1951</td>\n",
       "      <td>431</td>\n",
       "      <td>...</td>\n",
       "      <td>54212.666667</td>\n",
       "      <td>23938.964061</td>\n",
       "      <td>81855</td>\n",
       "      <td>40384</td>\n",
       "      <td>1.000524e+07</td>\n",
       "      <td>1.776541e+03</td>\n",
       "      <td>10006272</td>\n",
       "      <td>10003184</td>\n",
       "      <td>Benign</td>\n",
       "      <td>0</td>\n",
       "    </tr>\n",
       "  </tbody>\n",
       "</table>\n",
       "<p>5 rows × 82 columns</p>\n",
       "</div>"
      ],
      "text/plain": [
       "   Unnamed: 0  Dst Port  Protocol            Timestamp  Flow Duration  \\\n",
       "0       45026        80         6  15/02/2018 09:52:24       57871410   \n",
       "1       27221        80         6  15/02/2018 09:49:24        4485538   \n",
       "2      888204       443         6  15/02/2018 02:15:13      116039294   \n",
       "3      361821     53037         6  15/02/2018 10:57:51            124   \n",
       "4      859694        80         6  15/02/2018 12:08:17       38003752   \n",
       "\n",
       "   Tot Fwd Pkts  Tot Bwd Pkts  TotLen Fwd Pkts  TotLen Bwd Pkts  \\\n",
       "0             2             0                0                0   \n",
       "1             5             3              459              972   \n",
       "2            19            17             1109              594   \n",
       "3             2             0                0                0   \n",
       "4             7             8              434             1951   \n",
       "\n",
       "   Fwd Pkt Len Max  ...   Active Mean    Active Std  Active Max  Active Min  \\\n",
       "0                0  ...      0.000000      0.000000           0           0   \n",
       "1              459  ...      0.000000      0.000000           0           0   \n",
       "2              517  ...  63537.166667  36001.448059      177857       53084   \n",
       "3                0  ...      0.000000      0.000000           0           0   \n",
       "4              431  ...  54212.666667  23938.964061       81855       40384   \n",
       "\n",
       "      Idle Mean      Idle Std  Idle Max  Idle Min                  Label  \\\n",
       "0  5.787141e+07  0.000000e+00  57871410  57871410  DoS attacks-GoldenEye   \n",
       "1  0.000000e+00  0.000000e+00         0         0  DoS attacks-GoldenEye   \n",
       "2  9.606401e+06  1.393516e+06  10009077   5181394                 Benign   \n",
       "3  0.000000e+00  0.000000e+00         0         0                 Benign   \n",
       "4  1.000524e+07  1.776541e+03  10006272  10003184                 Benign   \n",
       "\n",
       "   target  \n",
       "0       1  \n",
       "1       1  \n",
       "2       0  \n",
       "3       0  \n",
       "4       0  \n",
       "\n",
       "[5 rows x 82 columns]"
      ]
     },
     "execution_count": 3,
     "metadata": {},
     "output_type": "execute_result"
    }
   ],
   "source": [
    "df = pd.read_csv('oversampled_CICIDS2018_Thursday.csv')\n",
    "df.head()"
   ]
  },
  {
   "cell_type": "code",
   "execution_count": 11,
   "metadata": {},
   "outputs": [
    {
     "data": {
      "text/html": [
       "<div>\n",
       "<style scoped>\n",
       "    .dataframe tbody tr th:only-of-type {\n",
       "        vertical-align: middle;\n",
       "    }\n",
       "\n",
       "    .dataframe tbody tr th {\n",
       "        vertical-align: top;\n",
       "    }\n",
       "\n",
       "    .dataframe thead th {\n",
       "        text-align: right;\n",
       "    }\n",
       "</style>\n",
       "<table border=\"1\" class=\"dataframe\">\n",
       "  <thead>\n",
       "    <tr style=\"text-align: right;\">\n",
       "      <th></th>\n",
       "      <th>Dst Port</th>\n",
       "      <th>Protocol</th>\n",
       "      <th>Timestamp</th>\n",
       "      <th>Flow Duration</th>\n",
       "      <th>Tot Fwd Pkts</th>\n",
       "      <th>Tot Bwd Pkts</th>\n",
       "      <th>TotLen Fwd Pkts</th>\n",
       "      <th>TotLen Bwd Pkts</th>\n",
       "      <th>Fwd Pkt Len Max</th>\n",
       "      <th>Fwd Pkt Len Min</th>\n",
       "      <th>...</th>\n",
       "      <th>Active Std</th>\n",
       "      <th>Active Max</th>\n",
       "      <th>Active Min</th>\n",
       "      <th>Idle Mean</th>\n",
       "      <th>Idle Std</th>\n",
       "      <th>Idle Max</th>\n",
       "      <th>Idle Min</th>\n",
       "      <th>Label</th>\n",
       "      <th>Target</th>\n",
       "      <th>BiFlowsCount</th>\n",
       "    </tr>\n",
       "  </thead>\n",
       "  <tbody>\n",
       "    <tr>\n",
       "      <td>0</td>\n",
       "      <td>80</td>\n",
       "      <td>6</td>\n",
       "      <td>15/02/2018 09:52:24</td>\n",
       "      <td>57871410</td>\n",
       "      <td>2</td>\n",
       "      <td>0</td>\n",
       "      <td>0</td>\n",
       "      <td>0</td>\n",
       "      <td>0</td>\n",
       "      <td>0</td>\n",
       "      <td>...</td>\n",
       "      <td>0.0</td>\n",
       "      <td>0</td>\n",
       "      <td>0</td>\n",
       "      <td>57871410.0</td>\n",
       "      <td>0.0</td>\n",
       "      <td>57871410</td>\n",
       "      <td>57871410</td>\n",
       "      <td>DoS attacks-GoldenEye</td>\n",
       "      <td>1</td>\n",
       "      <td>1466</td>\n",
       "    </tr>\n",
       "    <tr>\n",
       "      <td>1</td>\n",
       "      <td>80</td>\n",
       "      <td>6</td>\n",
       "      <td>15/02/2018 09:52:24</td>\n",
       "      <td>57718904</td>\n",
       "      <td>2</td>\n",
       "      <td>0</td>\n",
       "      <td>0</td>\n",
       "      <td>0</td>\n",
       "      <td>0</td>\n",
       "      <td>0</td>\n",
       "      <td>...</td>\n",
       "      <td>0.0</td>\n",
       "      <td>0</td>\n",
       "      <td>0</td>\n",
       "      <td>57718904.0</td>\n",
       "      <td>0.0</td>\n",
       "      <td>57718904</td>\n",
       "      <td>57718904</td>\n",
       "      <td>DoS attacks-GoldenEye</td>\n",
       "      <td>1</td>\n",
       "      <td>1466</td>\n",
       "    </tr>\n",
       "    <tr>\n",
       "      <td>2</td>\n",
       "      <td>80</td>\n",
       "      <td>6</td>\n",
       "      <td>15/02/2018 09:52:24</td>\n",
       "      <td>1845282</td>\n",
       "      <td>2</td>\n",
       "      <td>0</td>\n",
       "      <td>0</td>\n",
       "      <td>0</td>\n",
       "      <td>0</td>\n",
       "      <td>0</td>\n",
       "      <td>...</td>\n",
       "      <td>0.0</td>\n",
       "      <td>0</td>\n",
       "      <td>0</td>\n",
       "      <td>0.0</td>\n",
       "      <td>0.0</td>\n",
       "      <td>0</td>\n",
       "      <td>0</td>\n",
       "      <td>DoS attacks-GoldenEye</td>\n",
       "      <td>1</td>\n",
       "      <td>1466</td>\n",
       "    </tr>\n",
       "    <tr>\n",
       "      <td>3</td>\n",
       "      <td>80</td>\n",
       "      <td>6</td>\n",
       "      <td>15/02/2018 09:52:24</td>\n",
       "      <td>1837481</td>\n",
       "      <td>2</td>\n",
       "      <td>0</td>\n",
       "      <td>0</td>\n",
       "      <td>0</td>\n",
       "      <td>0</td>\n",
       "      <td>0</td>\n",
       "      <td>...</td>\n",
       "      <td>0.0</td>\n",
       "      <td>0</td>\n",
       "      <td>0</td>\n",
       "      <td>0.0</td>\n",
       "      <td>0.0</td>\n",
       "      <td>0</td>\n",
       "      <td>0</td>\n",
       "      <td>DoS attacks-GoldenEye</td>\n",
       "      <td>1</td>\n",
       "      <td>1466</td>\n",
       "    </tr>\n",
       "    <tr>\n",
       "      <td>4</td>\n",
       "      <td>80</td>\n",
       "      <td>6</td>\n",
       "      <td>15/02/2018 09:52:24</td>\n",
       "      <td>57879663</td>\n",
       "      <td>2</td>\n",
       "      <td>0</td>\n",
       "      <td>0</td>\n",
       "      <td>0</td>\n",
       "      <td>0</td>\n",
       "      <td>0</td>\n",
       "      <td>...</td>\n",
       "      <td>0.0</td>\n",
       "      <td>0</td>\n",
       "      <td>0</td>\n",
       "      <td>57879663.0</td>\n",
       "      <td>0.0</td>\n",
       "      <td>57879663</td>\n",
       "      <td>57879663</td>\n",
       "      <td>DoS attacks-GoldenEye</td>\n",
       "      <td>1</td>\n",
       "      <td>1466</td>\n",
       "    </tr>\n",
       "    <tr>\n",
       "      <td>...</td>\n",
       "      <td>...</td>\n",
       "      <td>...</td>\n",
       "      <td>...</td>\n",
       "      <td>...</td>\n",
       "      <td>...</td>\n",
       "      <td>...</td>\n",
       "      <td>...</td>\n",
       "      <td>...</td>\n",
       "      <td>...</td>\n",
       "      <td>...</td>\n",
       "      <td>...</td>\n",
       "      <td>...</td>\n",
       "      <td>...</td>\n",
       "      <td>...</td>\n",
       "      <td>...</td>\n",
       "      <td>...</td>\n",
       "      <td>...</td>\n",
       "      <td>...</td>\n",
       "      <td>...</td>\n",
       "      <td>...</td>\n",
       "      <td>...</td>\n",
       "    </tr>\n",
       "    <tr>\n",
       "      <td>999995</td>\n",
       "      <td>52058</td>\n",
       "      <td>6</td>\n",
       "      <td>15/02/2018 02:35:59</td>\n",
       "      <td>30526349</td>\n",
       "      <td>2</td>\n",
       "      <td>0</td>\n",
       "      <td>112</td>\n",
       "      <td>0</td>\n",
       "      <td>64</td>\n",
       "      <td>48</td>\n",
       "      <td>...</td>\n",
       "      <td>0.0</td>\n",
       "      <td>0</td>\n",
       "      <td>0</td>\n",
       "      <td>30526349.0</td>\n",
       "      <td>0.0</td>\n",
       "      <td>30526349</td>\n",
       "      <td>30526349</td>\n",
       "      <td>Benign</td>\n",
       "      <td>0</td>\n",
       "      <td>1</td>\n",
       "    </tr>\n",
       "    <tr>\n",
       "      <td>999996</td>\n",
       "      <td>80</td>\n",
       "      <td>6</td>\n",
       "      <td>15/02/2018 05:37:54</td>\n",
       "      <td>846</td>\n",
       "      <td>3</td>\n",
       "      <td>4</td>\n",
       "      <td>161</td>\n",
       "      <td>488</td>\n",
       "      <td>161</td>\n",
       "      <td>0</td>\n",
       "      <td>...</td>\n",
       "      <td>0.0</td>\n",
       "      <td>0</td>\n",
       "      <td>0</td>\n",
       "      <td>0.0</td>\n",
       "      <td>0.0</td>\n",
       "      <td>0</td>\n",
       "      <td>0</td>\n",
       "      <td>Benign</td>\n",
       "      <td>0</td>\n",
       "      <td>1</td>\n",
       "    </tr>\n",
       "    <tr>\n",
       "      <td>999997</td>\n",
       "      <td>80</td>\n",
       "      <td>6</td>\n",
       "      <td>15/02/2018 03:54:27</td>\n",
       "      <td>146</td>\n",
       "      <td>2</td>\n",
       "      <td>0</td>\n",
       "      <td>0</td>\n",
       "      <td>0</td>\n",
       "      <td>0</td>\n",
       "      <td>0</td>\n",
       "      <td>...</td>\n",
       "      <td>0.0</td>\n",
       "      <td>0</td>\n",
       "      <td>0</td>\n",
       "      <td>0.0</td>\n",
       "      <td>0.0</td>\n",
       "      <td>0</td>\n",
       "      <td>0</td>\n",
       "      <td>Benign</td>\n",
       "      <td>0</td>\n",
       "      <td>1</td>\n",
       "    </tr>\n",
       "    <tr>\n",
       "      <td>999998</td>\n",
       "      <td>3389</td>\n",
       "      <td>6</td>\n",
       "      <td>15/02/2018 12:48:28</td>\n",
       "      <td>5841635</td>\n",
       "      <td>11</td>\n",
       "      <td>7</td>\n",
       "      <td>1148</td>\n",
       "      <td>1581</td>\n",
       "      <td>677</td>\n",
       "      <td>0</td>\n",
       "      <td>...</td>\n",
       "      <td>0.0</td>\n",
       "      <td>0</td>\n",
       "      <td>0</td>\n",
       "      <td>0.0</td>\n",
       "      <td>0.0</td>\n",
       "      <td>0</td>\n",
       "      <td>0</td>\n",
       "      <td>Benign</td>\n",
       "      <td>0</td>\n",
       "      <td>1</td>\n",
       "    </tr>\n",
       "    <tr>\n",
       "      <td>999999</td>\n",
       "      <td>443</td>\n",
       "      <td>6</td>\n",
       "      <td>15/02/2018 05:43:08</td>\n",
       "      <td>53482710</td>\n",
       "      <td>5</td>\n",
       "      <td>1</td>\n",
       "      <td>123</td>\n",
       "      <td>46</td>\n",
       "      <td>46</td>\n",
       "      <td>0</td>\n",
       "      <td>...</td>\n",
       "      <td>0.0</td>\n",
       "      <td>121359</td>\n",
       "      <td>121359</td>\n",
       "      <td>53360954.0</td>\n",
       "      <td>0.0</td>\n",
       "      <td>53360954</td>\n",
       "      <td>53360954</td>\n",
       "      <td>Benign</td>\n",
       "      <td>0</td>\n",
       "      <td>1</td>\n",
       "    </tr>\n",
       "  </tbody>\n",
       "</table>\n",
       "<p>1000000 rows × 82 columns</p>\n",
       "</div>"
      ],
      "text/plain": [
       "        Dst Port  Protocol            Timestamp  Flow Duration  Tot Fwd Pkts  \\\n",
       "0             80         6  15/02/2018 09:52:24       57871410             2   \n",
       "1             80         6  15/02/2018 09:52:24       57718904             2   \n",
       "2             80         6  15/02/2018 09:52:24        1845282             2   \n",
       "3             80         6  15/02/2018 09:52:24        1837481             2   \n",
       "4             80         6  15/02/2018 09:52:24       57879663             2   \n",
       "...          ...       ...                  ...            ...           ...   \n",
       "999995     52058         6  15/02/2018 02:35:59       30526349             2   \n",
       "999996        80         6  15/02/2018 05:37:54            846             3   \n",
       "999997        80         6  15/02/2018 03:54:27            146             2   \n",
       "999998      3389         6  15/02/2018 12:48:28        5841635            11   \n",
       "999999       443         6  15/02/2018 05:43:08       53482710             5   \n",
       "\n",
       "        Tot Bwd Pkts  TotLen Fwd Pkts  TotLen Bwd Pkts  Fwd Pkt Len Max  \\\n",
       "0                  0                0                0                0   \n",
       "1                  0                0                0                0   \n",
       "2                  0                0                0                0   \n",
       "3                  0                0                0                0   \n",
       "4                  0                0                0                0   \n",
       "...              ...              ...              ...              ...   \n",
       "999995             0              112                0               64   \n",
       "999996             4              161              488              161   \n",
       "999997             0                0                0                0   \n",
       "999998             7             1148             1581              677   \n",
       "999999             1              123               46               46   \n",
       "\n",
       "        Fwd Pkt Len Min  ...  Active Std  Active Max  Active Min   Idle Mean  \\\n",
       "0                     0  ...         0.0           0           0  57871410.0   \n",
       "1                     0  ...         0.0           0           0  57718904.0   \n",
       "2                     0  ...         0.0           0           0         0.0   \n",
       "3                     0  ...         0.0           0           0         0.0   \n",
       "4                     0  ...         0.0           0           0  57879663.0   \n",
       "...                 ...  ...         ...         ...         ...         ...   \n",
       "999995               48  ...         0.0           0           0  30526349.0   \n",
       "999996                0  ...         0.0           0           0         0.0   \n",
       "999997                0  ...         0.0           0           0         0.0   \n",
       "999998                0  ...         0.0           0           0         0.0   \n",
       "999999                0  ...         0.0      121359      121359  53360954.0   \n",
       "\n",
       "        Idle Std  Idle Max  Idle Min                  Label  Target  \\\n",
       "0            0.0  57871410  57871410  DoS attacks-GoldenEye       1   \n",
       "1            0.0  57718904  57718904  DoS attacks-GoldenEye       1   \n",
       "2            0.0         0         0  DoS attacks-GoldenEye       1   \n",
       "3            0.0         0         0  DoS attacks-GoldenEye       1   \n",
       "4            0.0  57879663  57879663  DoS attacks-GoldenEye       1   \n",
       "...          ...       ...       ...                    ...     ...   \n",
       "999995       0.0  30526349  30526349                 Benign       0   \n",
       "999996       0.0         0         0                 Benign       0   \n",
       "999997       0.0         0         0                 Benign       0   \n",
       "999998       0.0         0         0                 Benign       0   \n",
       "999999       0.0  53360954  53360954                 Benign       0   \n",
       "\n",
       "        BiFlowsCount  \n",
       "0               1466  \n",
       "1               1466  \n",
       "2               1466  \n",
       "3               1466  \n",
       "4               1466  \n",
       "...              ...  \n",
       "999995             1  \n",
       "999996             1  \n",
       "999997             1  \n",
       "999998             1  \n",
       "999999             1  \n",
       "\n",
       "[1000000 rows x 82 columns]"
      ]
     },
     "execution_count": 11,
     "metadata": {},
     "output_type": "execute_result"
    }
   ],
   "source": [
    "df2 = df.groupby(['Timestamp'])['Flow Duration'].count()\n",
    "df2 = pd.DataFrame(df2).reset_index()\n",
    "df2.columns=['Timestamp','BiFlowsCount']\n",
    "df = df.merge(df2, left_on='Timestamp', right_on='Timestamp')\n",
    "#df = df.sort_values(' Timestamp')\n",
    "\n",
    "df"
   ]
  },
  {
   "cell_type": "code",
   "execution_count": 14,
   "metadata": {},
   "outputs": [],
   "source": [
    "#del df['Unnamed: 0']\n",
    "#del df['target']"
   ]
  },
  {
   "cell_type": "code",
   "execution_count": 13,
   "metadata": {},
   "outputs": [],
   "source": [
    " features =['Fwd Seg Size Min', 'Init Fwd Win Byts', 'BiFlowsCount', 'Protocol', 'Dst Port', 'PSH Flag Cnt', 'Bwd Pkt Len Max', 'Bwd Pkt Len Std', 'ACK Flag Cnt',\n",
    "            'Flow IAT Min', 'Init Bwd Win Byts', 'Flow IAT Mean', 'Fwd IAT Tot', 'Fwd IAT Min', 'Fwd IAT Max', 'Fwd IAT Mean', 'Idle Mean', \n",
    "            'Flow Duration', 'Flow IAT Max', 'Pkt Len Max' ]"
   ]
  },
  {
   "cell_type": "code",
   "execution_count": 15,
   "metadata": {},
   "outputs": [],
   "source": [
    "fraction = 0.5\n",
    "df = df.sample(frac=fraction, replace=True, random_state=1)"
   ]
  },
  {
   "cell_type": "code",
   "execution_count": 16,
   "metadata": {},
   "outputs": [],
   "source": [
    "def targetify(s):\n",
    "    if s == 'Benign':\n",
    "        return 0\n",
    "    else:\n",
    "        return 1"
   ]
  },
  {
   "cell_type": "code",
   "execution_count": 17,
   "metadata": {},
   "outputs": [],
   "source": [
    "df['Target']=df['Label'].apply(targetify)"
   ]
  },
  {
   "cell_type": "code",
   "execution_count": 18,
   "metadata": {},
   "outputs": [
    {
     "name": "stderr",
     "output_type": "stream",
     "text": [
      "C:\\Users\\kdagi\\Anaconda3\\lib\\site-packages\\pandas\\core\\frame.py:3494: SettingWithCopyWarning: \n",
      "A value is trying to be set on a copy of a slice from a DataFrame.\n",
      "Try using .loc[row_indexer,col_indexer] = value instead\n",
      "\n",
      "See the caveats in the documentation: http://pandas.pydata.org/pandas-docs/stable/user_guide/indexing.html#returning-a-view-versus-a-copy\n",
      "  self[k1] = value[k2]\n"
     ]
    }
   ],
   "source": [
    "X = df[features]\n",
    "X[features] = X[features].apply(pd.to_numeric, errors='coerce', axis=1)"
   ]
  },
  {
   "cell_type": "code",
   "execution_count": 19,
   "metadata": {},
   "outputs": [],
   "source": [
    "y = df['Target']"
   ]
  },
  {
   "cell_type": "code",
   "execution_count": 20,
   "metadata": {},
   "outputs": [],
   "source": [
    "X = X.fillna(0)"
   ]
  },
  {
   "cell_type": "code",
   "execution_count": 21,
   "metadata": {
    "scrolled": true
   },
   "outputs": [
    {
     "name": "stdout",
     "output_type": "stream",
     "text": [
      "(400000, 20) (400000,)\n",
      "(100000, 20) (100000,)\n"
     ]
    }
   ],
   "source": [
    "X_train, X_test, y_train, y_test = train_test_split(X, y, test_size=0.2)\n",
    "print (X_train.shape, y_train.shape)\n",
    "print( X_test.shape, y_test.shape)"
   ]
  },
  {
   "cell_type": "code",
   "execution_count": 22,
   "metadata": {},
   "outputs": [],
   "source": [
    "min_max_scaler = preprocessing.MinMaxScaler()\n",
    "x_scaled = min_max_scaler.fit_transform(X_train.values)\n",
    "X_train = pd.DataFrame(x_scaled,columns=features)\n",
    "x_scaled_test = min_max_scaler.fit_transform(X_test.values)\n",
    "X_test = pd.DataFrame(x_scaled_test,columns=features)"
   ]
  },
  {
   "cell_type": "code",
   "execution_count": 23,
   "metadata": {},
   "outputs": [],
   "source": [
    "model = tf.keras.Sequential([\n",
    "    tf.keras.layers.Embedding(100000, 64), # since it doesn't consider \"words,\" the embedding doesn't really matter\n",
    "    tf.keras.layers.Bidirectional(tf.keras.layers.LSTM(64)),\n",
    "    tf.keras.layers.Dense(64, activation='relu'),\n",
    "    tf.keras.layers.Dense(1, activation='sigmoid')\n",
    "    # tf.keras.layers.Dense(1, activation='softmax') # loss too big\n",
    "]) "
   ]
  },
  {
   "cell_type": "code",
   "execution_count": 24,
   "metadata": {},
   "outputs": [],
   "source": [
    "model.compile(loss='binary_crossentropy',\n",
    "              # optimizer='sgd', # almost same\n",
    "              optimizer=tf.keras.optimizers.Adam(1e-4),\n",
    "              metrics=['accuracy'])"
   ]
  },
  {
   "cell_type": "code",
   "execution_count": 25,
   "metadata": {
    "scrolled": true
   },
   "outputs": [
    {
     "name": "stdout",
     "output_type": "stream",
     "text": [
      "Train on 400000 samples\n",
      "Epoch 1/3\n",
      "400000/400000 [==============================] - 1879s 5ms/sample - loss: 0.5089 - accuracy: 0.7140\n",
      "Epoch 2/3\n",
      "400000/400000 [==============================] - 1604s 4ms/sample - loss: 0.4970 - accuracy: 0.7225\n",
      "Epoch 3/3\n",
      "400000/400000 [==============================] - 1802s 5ms/sample - loss: 0.4968 - accuracy: 0.7226\n"
     ]
    }
   ],
   "source": [
    "history = model.fit(X_train.values, y_train.values, epochs=3)\n"
   ]
  },
  {
   "cell_type": "code",
   "execution_count": 26,
   "metadata": {},
   "outputs": [
    {
     "name": "stdout",
     "output_type": "stream",
     "text": [
      "[[0.55424243]\n",
      " [0.718163  ]\n",
      " [0.55424243]\n",
      " ...\n",
      " [0.55424243]\n",
      " [0.718163  ]\n",
      " [0.55424243]]\n"
     ]
    }
   ],
   "source": [
    "pred_class = model.predict(X_test.values[:])\n",
    "print(pred_class)"
   ]
  },
  {
   "cell_type": "code",
   "execution_count": 41,
   "metadata": {},
   "outputs": [],
   "source": [
    "def myRound(x, r):\n",
    "    if x>r/float(1000):\n",
    "        return 1\n",
    "    else:\n",
    "        return 0"
   ]
  },
  {
   "cell_type": "code",
   "execution_count": 28,
   "metadata": {},
   "outputs": [
    {
     "name": "stdout",
     "output_type": "stream",
     "text": [
      "1.0\n",
      "1.0\n"
     ]
    }
   ],
   "source": [
    "print(round(pred_class[2][0]))\n",
    "print(round(pred_class[1][0]))"
   ]
  },
  {
   "cell_type": "code",
   "execution_count": 29,
   "metadata": {},
   "outputs": [],
   "source": [
    "predictions = [int(round(x[0])) for x in pred_class]\n",
    "true_class = list(y_test)"
   ]
  },
  {
   "cell_type": "code",
   "execution_count": 30,
   "metadata": {},
   "outputs": [
    {
     "name": "stdout",
     "output_type": "stream",
     "text": [
      "[1, 1, 0, 0, 0, 1, 1, 0, 0, 0] 100000\n",
      "[1, 1, 1, 0, 0, 1, 1, 1, 1, 1] 100000\n"
     ]
    }
   ],
   "source": [
    "print(true_class[:10], len(true_class))\n",
    "print(predictions[:10], len(predictions))"
   ]
  },
  {
   "cell_type": "code",
   "execution_count": 31,
   "metadata": {},
   "outputs": [
    {
     "name": "stdout",
     "output_type": "stream",
     "text": [
      "       pred_class  true_class\n",
      "0               1           1\n",
      "62500           1           1\n",
      "62511           1           1\n",
      "62510           1           0\n",
      "62509           1           1\n",
      "62506           1           1\n",
      "62505           1           0\n",
      "62504           1           0\n",
      "62502           1           1\n",
      "62501           1           1\n"
     ]
    }
   ],
   "source": [
    "compdf = pd.DataFrame({'pred_class':predictions, 'true_class':true_class})\n",
    "compdf = compdf.sort_values('pred_class', ascending=False)\n",
    "print(str(compdf.head(10)))"
   ]
  },
  {
   "cell_type": "code",
   "execution_count": 32,
   "metadata": {},
   "outputs": [],
   "source": [
    "predictions = list(compdf['pred_class'].apply(myRound, r=225))\n",
    "true_class = list(compdf['true_class'])"
   ]
  },
  {
   "cell_type": "code",
   "execution_count": 33,
   "metadata": {},
   "outputs": [
    {
     "name": "stdout",
     "output_type": "stream",
     "text": [
      "[1, 1, 1, 1, 1, 1, 1, 1, 1, 1]\n",
      "[1, 1, 1, 0, 1, 1, 0, 0, 1, 1]\n"
     ]
    }
   ],
   "source": [
    "print(predictions[:10])\n",
    "print(true_class[:10])"
   ]
  },
  {
   "cell_type": "code",
   "execution_count": 34,
   "metadata": {},
   "outputs": [],
   "source": [
    "from sklearn.metrics import confusion_matrix"
   ]
  },
  {
   "cell_type": "code",
   "execution_count": 35,
   "metadata": {},
   "outputs": [
    {
     "data": {
      "text/plain": [
       "array([[22446, 27551],\n",
       "       [  112, 49891]], dtype=int64)"
      ]
     },
     "execution_count": 35,
     "metadata": {},
     "output_type": "execute_result"
    }
   ],
   "source": [
    "confm = confusion_matrix(true_class, predictions)\n",
    "confm"
   ]
  },
  {
   "cell_type": "code",
   "execution_count": 36,
   "metadata": {},
   "outputs": [
    {
     "data": {
      "text/plain": [
       "0.72337"
      ]
     },
     "execution_count": 36,
     "metadata": {},
     "output_type": "execute_result"
    }
   ],
   "source": [
    "tn, fp, fn, tp = confm.ravel()\n",
    "(tn + tp)/(tn+tp+fn+fp)"
   ]
  },
  {
   "cell_type": "code",
   "execution_count": 37,
   "metadata": {},
   "outputs": [
    {
     "name": "stdout",
     "output_type": "stream",
     "text": [
      "False alarm rate is\n"
     ]
    },
    {
     "data": {
      "text/plain": [
       "0.551053063183791"
      ]
     },
     "execution_count": 37,
     "metadata": {},
     "output_type": "execute_result"
    }
   ],
   "source": [
    "print(\"False alarm rate is\")\n",
    "fp/(tn+fp)"
   ]
  },
  {
   "cell_type": "code",
   "execution_count": 38,
   "metadata": {},
   "outputs": [
    {
     "name": "stdout",
     "output_type": "stream",
     "text": [
      "Precision is\n"
     ]
    },
    {
     "data": {
      "text/plain": [
       "0.6442369773507916"
      ]
     },
     "execution_count": 38,
     "metadata": {},
     "output_type": "execute_result"
    }
   ],
   "source": [
    "print(\"Precision is\")\n",
    "Precision = tp/(tp+fp)\n",
    "Precision"
   ]
  },
  {
   "cell_type": "code",
   "execution_count": 39,
   "metadata": {},
   "outputs": [
    {
     "name": "stdout",
     "output_type": "stream",
     "text": [
      "Recall is\n"
     ]
    },
    {
     "data": {
      "text/plain": [
       "0.9977601343919364"
      ]
     },
     "execution_count": 39,
     "metadata": {},
     "output_type": "execute_result"
    }
   ],
   "source": [
    "print(\"Recall is\")\n",
    "Recall = tp/(tp+fn)\n",
    "Recall"
   ]
  },
  {
   "cell_type": "code",
   "execution_count": 40,
   "metadata": {},
   "outputs": [
    {
     "name": "stdout",
     "output_type": "stream",
     "text": [
      "F1 is\n"
     ]
    },
    {
     "data": {
      "text/plain": [
       "0.7829416611087135"
      ]
     },
     "execution_count": 40,
     "metadata": {},
     "output_type": "execute_result"
    }
   ],
   "source": [
    "print(\"F1 is\")\n",
    "2*Precision*Recall/(Precision+Recall)"
   ]
  },
  {
   "cell_type": "code",
   "execution_count": null,
   "metadata": {},
   "outputs": [],
   "source": []
  }
 ],
 "metadata": {
  "kernelspec": {
   "display_name": "Python 3",
   "language": "python",
   "name": "python3"
  },
  "language_info": {
   "codemirror_mode": {
    "name": "ipython",
    "version": 3
   },
   "file_extension": ".py",
   "mimetype": "text/x-python",
   "name": "python",
   "nbconvert_exporter": "python",
   "pygments_lexer": "ipython3",
   "version": "3.6.9"
  }
 },
 "nbformat": 4,
 "nbformat_minor": 2
}
